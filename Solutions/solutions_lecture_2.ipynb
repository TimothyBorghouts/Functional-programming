{
 "cells": [
  {
   "cell_type": "markdown",
   "metadata": {},
   "source": [
    "# Immutable data types, higher order functions, collections\n",
    "\n",
    "I hope you liked the first lecture where we really got started with FP! 🥰\n",
    "\n",
    "These exercises are meant to hit some key concepts of today's lecture, but it never hurts to practice some more. Also don't forget there is the case study exercise that runs throughout the course.\n",
    "\n",
    "Good luck!\n"
   ]
  },
  {
   "cell_type": "markdown",
   "metadata": {},
   "source": [
    "### Exercise 1\n",
    "\n",
    "Write a function *swap* with signature *int \\* string -> string \\* int* that takes a tuple *int \\* string* and swaps them around using tuple deconstruction."
   ]
  },
  {
   "cell_type": "code",
   "execution_count": 1,
   "metadata": {
    "dotnet_interactive": {
     "language": "fsharp"
    },
    "vscode": {
     "languageId": "polyglot-notebook"
    }
   },
   "outputs": [
    {
     "data": {
      "text/html": [
       "<details open=\"open\" class=\"dni-treeview\"><summary><span class=\"dni-code-hint\"><code>(two, 1)</code></span></summary><div><table><thead><tr></tr></thead><tbody><tr><td>Item1</td><td><div class=\"dni-plaintext\"><pre>two</pre></div></td></tr><tr><td>Item2</td><td><div class=\"dni-plaintext\"><pre>1</pre></div></td></tr></tbody></table></div></details><style>\r\n",
       ".dni-code-hint {\r\n",
       "    font-style: italic;\r\n",
       "    overflow: hidden;\r\n",
       "    white-space: nowrap;\r\n",
       "}\r\n",
       ".dni-treeview {\r\n",
       "    white-space: nowrap;\r\n",
       "}\r\n",
       ".dni-treeview td {\r\n",
       "    vertical-align: top;\r\n",
       "    text-align: start;\r\n",
       "}\r\n",
       "details.dni-treeview {\r\n",
       "    padding-left: 1em;\r\n",
       "}\r\n",
       "table td {\r\n",
       "    text-align: start;\r\n",
       "}\r\n",
       "table tr { \r\n",
       "    vertical-align: top; \r\n",
       "    margin: 0em 0px;\r\n",
       "}\r\n",
       "table tr td pre \r\n",
       "{ \r\n",
       "    vertical-align: top !important; \r\n",
       "    margin: 0em 0px !important;\r\n",
       "} \r\n",
       "table th {\r\n",
       "    text-align: start;\r\n",
       "}\r\n",
       "</style>"
      ]
     },
     "metadata": {},
     "output_type": "display_data"
    }
   ],
   "source": [
    "let swap (t: int * string): string * int = \n",
    "    let (i, s) = t\n",
    "    (s, i)\n",
    "\n",
    "swap (1, \"two\")"
   ]
  },
  {
   "cell_type": "markdown",
   "metadata": {},
   "source": [
    "### Exercise 2\n",
    "\n",
    "1. Define a list with the [*num* .. *num*] syntax that contains the numbers 1 through 6.\n",
    "2. Define a list with the [*num*; *num*] syntax that contains the numbers 1 through 6.\n",
    "3. Define a list with the *num* :: *num* syntax that contains the numbers 1 through 6.\n",
    "4. Are these lists mutable or immutable?\n",
    "5. Use a property of the list to find out whether it's empty (don't forget there are docs!)\n",
    "6. Use a property of the list to get the element at index 4.\n",
    "7. Check [this table](https://docs.microsoft.com/en-us/dotnet/fsharp/language-reference/fsharp-collection-types#table-of-functions) in the docs, how do you think lists are implemented in F#?\n"
   ]
  },
  {
   "cell_type": "code",
   "execution_count": null,
   "metadata": {
    "dotnet_interactive": {
     "language": "fsharp"
    },
    "vscode": {
     "languageId": "polyglot-notebook"
    }
   },
   "outputs": [],
   "source": [
    "let l = [ 1 .. 6 ]\n",
    "let l' = [1; 2; 3; 4; 5; 6]\n",
    "let l'' = 1 :: 2 :: 3 :: 4 :: 5 :: 6 :: []\n",
    "// these lists are immutable!\n",
    "printfn \"%b\" l.IsEmpty\n",
    "printfn \"%i\" (l.Item 4)\n",
    "// linked list, as the get nth item takes O(n)"
   ]
  },
  {
   "cell_type": "markdown",
   "metadata": {},
   "source": [
    "### Exercise 3\n",
    "\n",
    "Write a function *doubleHead* with signature *int list -> int list* that takes a list, and returns that same list, but with the first element multiplied by two. Use list deconstruction."
   ]
  },
  {
   "cell_type": "code",
   "execution_count": 2,
   "metadata": {
    "dotnet_interactive": {
     "language": "fsharp"
    },
    "vscode": {
     "languageId": "polyglot-notebook"
    }
   },
   "outputs": [
    {
     "data": {
      "text/html": [
       "<details open=\"open\" class=\"dni-treeview\"><summary><span class=\"dni-code-hint\"><code>[ 2, 3, 5, 7 ]</code></span></summary><div><table><thead><tr></tr></thead><tbody><tr><td>HeadOrDefault</td><td><div class=\"dni-plaintext\"><pre>2</pre></div></td></tr><tr><td>TailOrNull</td><td><details class=\"dni-treeview\"><summary><span class=\"dni-code-hint\"><code>[ 3, 5, 7 ]</code></span></summary><div><table><thead><tr></tr></thead><tbody><tr><td>HeadOrDefault</td><td><div class=\"dni-plaintext\"><pre>3</pre></div></td></tr><tr><td>TailOrNull</td><td><details class=\"dni-treeview\"><summary><span class=\"dni-code-hint\"><code>[ 5, 7 ]</code></span></summary><div><table><thead><tr></tr></thead><tbody><tr><td>HeadOrDefault</td><td><div class=\"dni-plaintext\"><pre>5</pre></div></td></tr><tr><td>TailOrNull</td><td><details class=\"dni-treeview\"><summary><span class=\"dni-code-hint\"><code>[ 7 ]</code></span></summary><div><table><thead><tr></tr></thead><tbody><tr><td>HeadOrDefault</td><td><div class=\"dni-plaintext\"><pre>7</pre></div></td></tr><tr><td>TailOrNull</td><td><details class=\"dni-treeview\"><summary><span class=\"dni-code-hint\"><code>[  ]</code></span></summary><div><table><thead><tr></tr></thead><tbody><tr><td>HeadOrDefault</td><td><div class=\"dni-plaintext\"><pre>0</pre></div></td></tr><tr><td>TailOrNull</td><td><div class=\"dni-plaintext\"><pre>&lt;null&gt;</pre></div></td></tr><tr><td>Head</td><td><details class=\"dni-treeview\"><summary><span class=\"dni-code-hint\"><code>System.InvalidOperationException: The input list was empty.\\r\\n   at Microsoft.FSharp.Collections.FSharpList`1.get_Head() in D:\\a\\_work\\1\\s\\src\\FSharp.Core\\prim-types.fs:line 4141\\r\\n   at lambda_method110(Closure, FSharpList`1)\\r\\n   at Microsoft.DotNet.Interactive.Formatting.MemberAccessor`1.GetVa...</code></span></summary><div><table><thead><tr></tr></thead><tbody><tr><td>TargetSite</td><td>T get_Head()</td></tr><tr><td>Message</td><td>The input list was empty.</td></tr><tr><td>Data</td><td>[  ]</td></tr><tr><td>InnerException</td><td><div class=\"dni-plaintext\"><pre>&lt;null&gt;</pre></div></td></tr><tr><td>HelpLink</td><td><div class=\"dni-plaintext\"><pre>&lt;null&gt;</pre></div></td></tr><tr><td>Source</td><td>FSharp.Core</td></tr><tr><td>HResult</td><td>-2146233079</td></tr><tr><td>StackTrace</td><td>   at Microsoft.FSharp.Collections.FSharpList`1.get_Head() in D:\\a\\_work\\1\\s\\src\\FSharp.Core\\prim-types.fs:line 4141\r\n",
       "   at lambda_method110(Closure, FSharpList`1)\r\n",
       "   at Microsoft.DotNet.Interactive.Formatting.MemberAccessor`1.GetValueOrException(T instance) in D:\\a\\_work\\1\\s\\src\\Microsoft.DotNet.Interactive.Formatting\\MemberAccessor{T}.cs:line 58</td></tr></tbody></table></div></details></td></tr><tr><td>Tail</td><td><details class=\"dni-treeview\"><summary><span class=\"dni-code-hint\"><code>System.InvalidOperationException: The input list was empty.\\r\\n   at Microsoft.FSharp.Collections.FSharpList`1.get_Tail() in D:\\a\\_work\\1\\s\\src\\FSharp.Core\\prim-types.fs:line 4146\\r\\n   at lambda_method111(Closure, FSharpList`1)\\r\\n   at Microsoft.DotNet.Interactive.Formatting.MemberAccessor`1.GetVa...</code></span></summary><div><table><thead><tr></tr></thead><tbody><tr><td>TargetSite</td><td>Microsoft.FSharp.Collections.FSharpList`1[T] get_Tail()</td></tr><tr><td>Message</td><td>The input list was empty.</td></tr><tr><td>Data</td><td>[  ]</td></tr><tr><td>InnerException</td><td><div class=\"dni-plaintext\"><pre>&lt;null&gt;</pre></div></td></tr><tr><td>HelpLink</td><td><div class=\"dni-plaintext\"><pre>&lt;null&gt;</pre></div></td></tr><tr><td>Source</td><td>FSharp.Core</td></tr><tr><td>HResult</td><td>-2146233079</td></tr><tr><td>StackTrace</td><td>   at Microsoft.FSharp.Collections.FSharpList`1.get_Tail() in D:\\a\\_work\\1\\s\\src\\FSharp.Core\\prim-types.fs:line 4146\r\n",
       "   at lambda_method111(Closure, FSharpList`1)\r\n",
       "   at Microsoft.DotNet.Interactive.Formatting.MemberAccessor`1.GetValueOrException(T instance) in D:\\a\\_work\\1\\s\\src\\Microsoft.DotNet.Interactive.Formatting\\MemberAccessor{T}.cs:line 58</td></tr></tbody></table></div></details></td></tr><tr><td><i>(values)</i></td><td><div class=\"dni-plaintext\"><pre>[  ]</pre></div></td></tr></tbody></table></div></details></td></tr><tr><td>Head</td><td><div class=\"dni-plaintext\"><pre>7</pre></div></td></tr><tr><td>Tail</td><td><details class=\"dni-treeview\"><summary><span class=\"dni-code-hint\"><code>[  ]</code></span></summary><div><table><thead><tr></tr></thead><tbody><tr><td>HeadOrDefault</td><td><div class=\"dni-plaintext\"><pre>0</pre></div></td></tr><tr><td>TailOrNull</td><td><div class=\"dni-plaintext\"><pre>&lt;null&gt;</pre></div></td></tr><tr><td>Head</td><td><details class=\"dni-treeview\"><summary><span class=\"dni-code-hint\"><code>System.InvalidOperationException: The input list was empty.\\r\\n   at Microsoft.FSharp.Collections.FSharpList`1.get_Head() in D:\\a\\_work\\1\\s\\src\\FSharp.Core\\prim-types.fs:line 4141\\r\\n   at lambda_method110(Closure, FSharpList`1)\\r\\n   at Microsoft.DotNet.Interactive.Formatting.MemberAccessor`1.GetVa...</code></span></summary><div><table><thead><tr></tr></thead><tbody><tr><td>TargetSite</td><td>T get_Head()</td></tr><tr><td>Message</td><td>The input list was empty.</td></tr><tr><td>Data</td><td>[  ]</td></tr><tr><td>InnerException</td><td><div class=\"dni-plaintext\"><pre>&lt;null&gt;</pre></div></td></tr><tr><td>HelpLink</td><td><div class=\"dni-plaintext\"><pre>&lt;null&gt;</pre></div></td></tr><tr><td>Source</td><td>FSharp.Core</td></tr><tr><td>HResult</td><td>-2146233079</td></tr><tr><td>StackTrace</td><td>   at Microsoft.FSharp.Collections.FSharpList`1.get_Head() in D:\\a\\_work\\1\\s\\src\\FSharp.Core\\prim-types.fs:line 4141\r\n",
       "   at lambda_method110(Closure, FSharpList`1)\r\n",
       "   at Microsoft.DotNet.Interactive.Formatting.MemberAccessor`1.GetValueOrException(T instance) in D:\\a\\_work\\1\\s\\src\\Microsoft.DotNet.Interactive.Formatting\\MemberAccessor{T}.cs:line 58</td></tr></tbody></table></div></details></td></tr><tr><td>Tail</td><td><details class=\"dni-treeview\"><summary><span class=\"dni-code-hint\"><code>System.InvalidOperationException: The input list was empty.\\r\\n   at Microsoft.FSharp.Collections.FSharpList`1.get_Tail() in D:\\a\\_work\\1\\s\\src\\FSharp.Core\\prim-types.fs:line 4146\\r\\n   at lambda_method111(Closure, FSharpList`1)\\r\\n   at Microsoft.DotNet.Interactive.Formatting.MemberAccessor`1.GetVa...</code></span></summary><div><table><thead><tr></tr></thead><tbody><tr><td>TargetSite</td><td>Microsoft.FSharp.Collections.FSharpList`1[T] get_Tail()</td></tr><tr><td>Message</td><td>The input list was empty.</td></tr><tr><td>Data</td><td>[  ]</td></tr><tr><td>InnerException</td><td><div class=\"dni-plaintext\"><pre>&lt;null&gt;</pre></div></td></tr><tr><td>HelpLink</td><td><div class=\"dni-plaintext\"><pre>&lt;null&gt;</pre></div></td></tr><tr><td>Source</td><td>FSharp.Core</td></tr><tr><td>HResult</td><td>-2146233079</td></tr><tr><td>StackTrace</td><td>   at Microsoft.FSharp.Collections.FSharpList`1.get_Tail() in D:\\a\\_work\\1\\s\\src\\FSharp.Core\\prim-types.fs:line 4146\r\n",
       "   at lambda_method111(Closure, FSharpList`1)\r\n",
       "   at Microsoft.DotNet.Interactive.Formatting.MemberAccessor`1.GetValueOrException(T instance) in D:\\a\\_work\\1\\s\\src\\Microsoft.DotNet.Interactive.Formatting\\MemberAccessor{T}.cs:line 58</td></tr></tbody></table></div></details></td></tr><tr><td><i>(values)</i></td><td><div class=\"dni-plaintext\"><pre>[  ]</pre></div></td></tr></tbody></table></div></details></td></tr><tr><td><i>(values)</i></td><td><div class=\"dni-plaintext\"><pre>[ 7 ]</pre></div></td></tr></tbody></table></div></details></td></tr><tr><td>Head</td><td><div class=\"dni-plaintext\"><pre>5</pre></div></td></tr><tr><td>Tail</td><td><details class=\"dni-treeview\"><summary><span class=\"dni-code-hint\"><code>[ 7 ]</code></span></summary><div><table><thead><tr></tr></thead><tbody><tr><td>HeadOrDefault</td><td><div class=\"dni-plaintext\"><pre>7</pre></div></td></tr><tr><td>TailOrNull</td><td><details class=\"dni-treeview\"><summary><span class=\"dni-code-hint\"><code>[  ]</code></span></summary><div><table><thead><tr></tr></thead><tbody><tr><td>HeadOrDefault</td><td><div class=\"dni-plaintext\"><pre>0</pre></div></td></tr><tr><td>TailOrNull</td><td><div class=\"dni-plaintext\"><pre>&lt;null&gt;</pre></div></td></tr><tr><td>Head</td><td><details class=\"dni-treeview\"><summary><span class=\"dni-code-hint\"><code>System.InvalidOperationException: The input list was empty.\\r\\n   at Microsoft.FSharp.Collections.FSharpList`1.get_Head() in D:\\a\\_work\\1\\s\\src\\FSharp.Core\\prim-types.fs:line 4141\\r\\n   at lambda_method110(Closure, FSharpList`1)\\r\\n   at Microsoft.DotNet.Interactive.Formatting.MemberAccessor`1.GetVa...</code></span></summary><div><table><thead><tr></tr></thead><tbody><tr><td>TargetSite</td><td>T get_Head()</td></tr><tr><td>Message</td><td>The input list was empty.</td></tr><tr><td>Data</td><td>[  ]</td></tr><tr><td>InnerException</td><td><div class=\"dni-plaintext\"><pre>&lt;null&gt;</pre></div></td></tr><tr><td>HelpLink</td><td><div class=\"dni-plaintext\"><pre>&lt;null&gt;</pre></div></td></tr><tr><td>Source</td><td>FSharp.Core</td></tr><tr><td>HResult</td><td>-2146233079</td></tr><tr><td>StackTrace</td><td>   at Microsoft.FSharp.Collections.FSharpList`1.get_Head() in D:\\a\\_work\\1\\s\\src\\FSharp.Core\\prim-types.fs:line 4141\r\n",
       "   at lambda_method110(Closure, FSharpList`1)\r\n",
       "   at Microsoft.DotNet.Interactive.Formatting.MemberAccessor`1.GetValueOrException(T instance) in D:\\a\\_work\\1\\s\\src\\Microsoft.DotNet.Interactive.Formatting\\MemberAccessor{T}.cs:line 58</td></tr></tbody></table></div></details></td></tr><tr><td>Tail</td><td><details class=\"dni-treeview\"><summary><span class=\"dni-code-hint\"><code>System.InvalidOperationException: The input list was empty.\\r\\n   at Microsoft.FSharp.Collections.FSharpList`1.get_Tail() in D:\\a\\_work\\1\\s\\src\\FSharp.Core\\prim-types.fs:line 4146\\r\\n   at lambda_method111(Closure, FSharpList`1)\\r\\n   at Microsoft.DotNet.Interactive.Formatting.MemberAccessor`1.GetVa...</code></span></summary><div><table><thead><tr></tr></thead><tbody><tr><td>TargetSite</td><td>Microsoft.FSharp.Collections.FSharpList`1[T] get_Tail()</td></tr><tr><td>Message</td><td>The input list was empty.</td></tr><tr><td>Data</td><td>[  ]</td></tr><tr><td>InnerException</td><td><div class=\"dni-plaintext\"><pre>&lt;null&gt;</pre></div></td></tr><tr><td>HelpLink</td><td><div class=\"dni-plaintext\"><pre>&lt;null&gt;</pre></div></td></tr><tr><td>Source</td><td>FSharp.Core</td></tr><tr><td>HResult</td><td>-2146233079</td></tr><tr><td>StackTrace</td><td>   at Microsoft.FSharp.Collections.FSharpList`1.get_Tail() in D:\\a\\_work\\1\\s\\src\\FSharp.Core\\prim-types.fs:line 4146\r\n",
       "   at lambda_method111(Closure, FSharpList`1)\r\n",
       "   at Microsoft.DotNet.Interactive.Formatting.MemberAccessor`1.GetValueOrException(T instance) in D:\\a\\_work\\1\\s\\src\\Microsoft.DotNet.Interactive.Formatting\\MemberAccessor{T}.cs:line 58</td></tr></tbody></table></div></details></td></tr><tr><td><i>(values)</i></td><td><div class=\"dni-plaintext\"><pre>[  ]</pre></div></td></tr></tbody></table></div></details></td></tr><tr><td>Head</td><td><div class=\"dni-plaintext\"><pre>7</pre></div></td></tr><tr><td>Tail</td><td><details class=\"dni-treeview\"><summary><span class=\"dni-code-hint\"><code>[  ]</code></span></summary><div><table><thead><tr></tr></thead><tbody><tr><td>HeadOrDefault</td><td><div class=\"dni-plaintext\"><pre>0</pre></div></td></tr><tr><td>TailOrNull</td><td><div class=\"dni-plaintext\"><pre>&lt;null&gt;</pre></div></td></tr><tr><td>Head</td><td><details class=\"dni-treeview\"><summary><span class=\"dni-code-hint\"><code>System.InvalidOperationException: The input list was empty.\\r\\n   at Microsoft.FSharp.Collections.FSharpList`1.get_Head() in D:\\a\\_work\\1\\s\\src\\FSharp.Core\\prim-types.fs:line 4141\\r\\n   at lambda_method110(Closure, FSharpList`1)\\r\\n   at Microsoft.DotNet.Interactive.Formatting.MemberAccessor`1.GetVa...</code></span></summary><div><table><thead><tr></tr></thead><tbody><tr><td>TargetSite</td><td>T get_Head()</td></tr><tr><td>Message</td><td>The input list was empty.</td></tr><tr><td>Data</td><td>[  ]</td></tr><tr><td>InnerException</td><td><div class=\"dni-plaintext\"><pre>&lt;null&gt;</pre></div></td></tr><tr><td>HelpLink</td><td><div class=\"dni-plaintext\"><pre>&lt;null&gt;</pre></div></td></tr><tr><td>Source</td><td>FSharp.Core</td></tr><tr><td>HResult</td><td>-2146233079</td></tr><tr><td>StackTrace</td><td>   at Microsoft.FSharp.Collections.FSharpList`1.get_Head() in D:\\a\\_work\\1\\s\\src\\FSharp.Core\\prim-types.fs:line 4141\r\n",
       "   at lambda_method110(Closure, FSharpList`1)\r\n",
       "   at Microsoft.DotNet.Interactive.Formatting.MemberAccessor`1.GetValueOrException(T instance) in D:\\a\\_work\\1\\s\\src\\Microsoft.DotNet.Interactive.Formatting\\MemberAccessor{T}.cs:line 58</td></tr></tbody></table></div></details></td></tr><tr><td>Tail</td><td><details class=\"dni-treeview\"><summary><span class=\"dni-code-hint\"><code>System.InvalidOperationException: The input list was empty.\\r\\n   at Microsoft.FSharp.Collections.FSharpList`1.get_Tail() in D:\\a\\_work\\1\\s\\src\\FSharp.Core\\prim-types.fs:line 4146\\r\\n   at lambda_method111(Closure, FSharpList`1)\\r\\n   at Microsoft.DotNet.Interactive.Formatting.MemberAccessor`1.GetVa...</code></span></summary><div><table><thead><tr></tr></thead><tbody><tr><td>TargetSite</td><td>Microsoft.FSharp.Collections.FSharpList`1[T] get_Tail()</td></tr><tr><td>Message</td><td>The input list was empty.</td></tr><tr><td>Data</td><td>[  ]</td></tr><tr><td>InnerException</td><td><div class=\"dni-plaintext\"><pre>&lt;null&gt;</pre></div></td></tr><tr><td>HelpLink</td><td><div class=\"dni-plaintext\"><pre>&lt;null&gt;</pre></div></td></tr><tr><td>Source</td><td>FSharp.Core</td></tr><tr><td>HResult</td><td>-2146233079</td></tr><tr><td>StackTrace</td><td>   at Microsoft.FSharp.Collections.FSharpList`1.get_Tail() in D:\\a\\_work\\1\\s\\src\\FSharp.Core\\prim-types.fs:line 4146\r\n",
       "   at lambda_method111(Closure, FSharpList`1)\r\n",
       "   at Microsoft.DotNet.Interactive.Formatting.MemberAccessor`1.GetValueOrException(T instance) in D:\\a\\_work\\1\\s\\src\\Microsoft.DotNet.Interactive.Formatting\\MemberAccessor{T}.cs:line 58</td></tr></tbody></table></div></details></td></tr><tr><td><i>(values)</i></td><td><div class=\"dni-plaintext\"><pre>[  ]</pre></div></td></tr></tbody></table></div></details></td></tr><tr><td><i>(values)</i></td><td><div class=\"dni-plaintext\"><pre>[ 7 ]</pre></div></td></tr></tbody></table></div></details></td></tr><tr><td><i>(values)</i></td><td><div class=\"dni-plaintext\"><pre>[ 5, 7 ]</pre></div></td></tr></tbody></table></div></details></td></tr><tr><td>Head</td><td><div class=\"dni-plaintext\"><pre>3</pre></div></td></tr><tr><td>Tail</td><td><details class=\"dni-treeview\"><summary><span class=\"dni-code-hint\"><code>[ 5, 7 ]</code></span></summary><div><table><thead><tr></tr></thead><tbody><tr><td>HeadOrDefault</td><td><div class=\"dni-plaintext\"><pre>5</pre></div></td></tr><tr><td>TailOrNull</td><td><details class=\"dni-treeview\"><summary><span class=\"dni-code-hint\"><code>[ 7 ]</code></span></summary><div><table><thead><tr></tr></thead><tbody><tr><td>HeadOrDefault</td><td><div class=\"dni-plaintext\"><pre>7</pre></div></td></tr><tr><td>TailOrNull</td><td><details class=\"dni-treeview\"><summary><span class=\"dni-code-hint\"><code>[  ]</code></span></summary><div><table><thead><tr></tr></thead><tbody><tr><td>HeadOrDefault</td><td><div class=\"dni-plaintext\"><pre>0</pre></div></td></tr><tr><td>TailOrNull</td><td><div class=\"dni-plaintext\"><pre>&lt;null&gt;</pre></div></td></tr><tr><td>Head</td><td><details class=\"dni-treeview\"><summary><span class=\"dni-code-hint\"><code>System.InvalidOperationException: The input list was empty.\\r\\n   at Microsoft.FSharp.Collections.FSharpList`1.get_Head() in D:\\a\\_work\\1\\s\\src\\FSharp.Core\\prim-types.fs:line 4141\\r\\n   at lambda_method110(Closure, FSharpList`1)\\r\\n   at Microsoft.DotNet.Interactive.Formatting.MemberAccessor`1.GetVa...</code></span></summary><div><table><thead><tr></tr></thead><tbody><tr><td>TargetSite</td><td>T get_Head()</td></tr><tr><td>Message</td><td>The input list was empty.</td></tr><tr><td>Data</td><td>[  ]</td></tr><tr><td>InnerException</td><td><div class=\"dni-plaintext\"><pre>&lt;null&gt;</pre></div></td></tr><tr><td>HelpLink</td><td><div class=\"dni-plaintext\"><pre>&lt;null&gt;</pre></div></td></tr><tr><td>Source</td><td>FSharp.Core</td></tr><tr><td>HResult</td><td>-2146233079</td></tr><tr><td>StackTrace</td><td>   at Microsoft.FSharp.Collections.FSharpList`1.get_Head() in D:\\a\\_work\\1\\s\\src\\FSharp.Core\\prim-types.fs:line 4141\r\n",
       "   at lambda_method110(Closure, FSharpList`1)\r\n",
       "   at Microsoft.DotNet.Interactive.Formatting.MemberAccessor`1.GetValueOrException(T instance) in D:\\a\\_work\\1\\s\\src\\Microsoft.DotNet.Interactive.Formatting\\MemberAccessor{T}.cs:line 58</td></tr></tbody></table></div></details></td></tr><tr><td>Tail</td><td><details class=\"dni-treeview\"><summary><span class=\"dni-code-hint\"><code>System.InvalidOperationException: The input list was empty.\\r\\n   at Microsoft.FSharp.Collections.FSharpList`1.get_Tail() in D:\\a\\_work\\1\\s\\src\\FSharp.Core\\prim-types.fs:line 4146\\r\\n   at lambda_method111(Closure, FSharpList`1)\\r\\n   at Microsoft.DotNet.Interactive.Formatting.MemberAccessor`1.GetVa...</code></span></summary><div><table><thead><tr></tr></thead><tbody><tr><td>TargetSite</td><td>Microsoft.FSharp.Collections.FSharpList`1[T] get_Tail()</td></tr><tr><td>Message</td><td>The input list was empty.</td></tr><tr><td>Data</td><td>[  ]</td></tr><tr><td>InnerException</td><td><div class=\"dni-plaintext\"><pre>&lt;null&gt;</pre></div></td></tr><tr><td>HelpLink</td><td><div class=\"dni-plaintext\"><pre>&lt;null&gt;</pre></div></td></tr><tr><td>Source</td><td>FSharp.Core</td></tr><tr><td>HResult</td><td>-2146233079</td></tr><tr><td>StackTrace</td><td>   at Microsoft.FSharp.Collections.FSharpList`1.get_Tail() in D:\\a\\_work\\1\\s\\src\\FSharp.Core\\prim-types.fs:line 4146\r\n",
       "   at lambda_method111(Closure, FSharpList`1)\r\n",
       "   at Microsoft.DotNet.Interactive.Formatting.MemberAccessor`1.GetValueOrException(T instance) in D:\\a\\_work\\1\\s\\src\\Microsoft.DotNet.Interactive.Formatting\\MemberAccessor{T}.cs:line 58</td></tr></tbody></table></div></details></td></tr><tr><td><i>(values)</i></td><td><div class=\"dni-plaintext\"><pre>[  ]</pre></div></td></tr></tbody></table></div></details></td></tr><tr><td>Head</td><td><div class=\"dni-plaintext\"><pre>7</pre></div></td></tr><tr><td>Tail</td><td><details class=\"dni-treeview\"><summary><span class=\"dni-code-hint\"><code>[  ]</code></span></summary><div><table><thead><tr></tr></thead><tbody><tr><td>HeadOrDefault</td><td><div class=\"dni-plaintext\"><pre>0</pre></div></td></tr><tr><td>TailOrNull</td><td><div class=\"dni-plaintext\"><pre>&lt;null&gt;</pre></div></td></tr><tr><td>Head</td><td><details class=\"dni-treeview\"><summary><span class=\"dni-code-hint\"><code>System.InvalidOperationException: The input list was empty.\\r\\n   at Microsoft.FSharp.Collections.FSharpList`1.get_Head() in D:\\a\\_work\\1\\s\\src\\FSharp.Core\\prim-types.fs:line 4141\\r\\n   at lambda_method110(Closure, FSharpList`1)\\r\\n   at Microsoft.DotNet.Interactive.Formatting.MemberAccessor`1.GetVa...</code></span></summary><div><table><thead><tr></tr></thead><tbody><tr><td>TargetSite</td><td>T get_Head()</td></tr><tr><td>Message</td><td>The input list was empty.</td></tr><tr><td>Data</td><td>[  ]</td></tr><tr><td>InnerException</td><td><div class=\"dni-plaintext\"><pre>&lt;null&gt;</pre></div></td></tr><tr><td>HelpLink</td><td><div class=\"dni-plaintext\"><pre>&lt;null&gt;</pre></div></td></tr><tr><td>Source</td><td>FSharp.Core</td></tr><tr><td>HResult</td><td>-2146233079</td></tr><tr><td>StackTrace</td><td>   at Microsoft.FSharp.Collections.FSharpList`1.get_Head() in D:\\a\\_work\\1\\s\\src\\FSharp.Core\\prim-types.fs:line 4141\r\n",
       "   at lambda_method110(Closure, FSharpList`1)\r\n",
       "   at Microsoft.DotNet.Interactive.Formatting.MemberAccessor`1.GetValueOrException(T instance) in D:\\a\\_work\\1\\s\\src\\Microsoft.DotNet.Interactive.Formatting\\MemberAccessor{T}.cs:line 58</td></tr></tbody></table></div></details></td></tr><tr><td>Tail</td><td><details class=\"dni-treeview\"><summary><span class=\"dni-code-hint\"><code>System.InvalidOperationException: The input list was empty.\\r\\n   at Microsoft.FSharp.Collections.FSharpList`1.get_Tail() in D:\\a\\_work\\1\\s\\src\\FSharp.Core\\prim-types.fs:line 4146\\r\\n   at lambda_method111(Closure, FSharpList`1)\\r\\n   at Microsoft.DotNet.Interactive.Formatting.MemberAccessor`1.GetVa...</code></span></summary><div><table><thead><tr></tr></thead><tbody><tr><td>TargetSite</td><td>Microsoft.FSharp.Collections.FSharpList`1[T] get_Tail()</td></tr><tr><td>Message</td><td>The input list was empty.</td></tr><tr><td>Data</td><td>[  ]</td></tr><tr><td>InnerException</td><td><div class=\"dni-plaintext\"><pre>&lt;null&gt;</pre></div></td></tr><tr><td>HelpLink</td><td><div class=\"dni-plaintext\"><pre>&lt;null&gt;</pre></div></td></tr><tr><td>Source</td><td>FSharp.Core</td></tr><tr><td>HResult</td><td>-2146233079</td></tr><tr><td>StackTrace</td><td>   at Microsoft.FSharp.Collections.FSharpList`1.get_Tail() in D:\\a\\_work\\1\\s\\src\\FSharp.Core\\prim-types.fs:line 4146\r\n",
       "   at lambda_method111(Closure, FSharpList`1)\r\n",
       "   at Microsoft.DotNet.Interactive.Formatting.MemberAccessor`1.GetValueOrException(T instance) in D:\\a\\_work\\1\\s\\src\\Microsoft.DotNet.Interactive.Formatting\\MemberAccessor{T}.cs:line 58</td></tr></tbody></table></div></details></td></tr><tr><td><i>(values)</i></td><td><div class=\"dni-plaintext\"><pre>[  ]</pre></div></td></tr></tbody></table></div></details></td></tr><tr><td><i>(values)</i></td><td><div class=\"dni-plaintext\"><pre>[ 7 ]</pre></div></td></tr></tbody></table></div></details></td></tr><tr><td>Head</td><td><div class=\"dni-plaintext\"><pre>5</pre></div></td></tr><tr><td>Tail</td><td><details class=\"dni-treeview\"><summary><span class=\"dni-code-hint\"><code>[ 7 ]</code></span></summary><div><table><thead><tr></tr></thead><tbody><tr><td>HeadOrDefault</td><td><div class=\"dni-plaintext\"><pre>7</pre></div></td></tr><tr><td>TailOrNull</td><td><details class=\"dni-treeview\"><summary><span class=\"dni-code-hint\"><code>[  ]</code></span></summary><div><table><thead><tr></tr></thead><tbody><tr><td>HeadOrDefault</td><td><div class=\"dni-plaintext\"><pre>0</pre></div></td></tr><tr><td>TailOrNull</td><td><div class=\"dni-plaintext\"><pre>&lt;null&gt;</pre></div></td></tr><tr><td>Head</td><td><details class=\"dni-treeview\"><summary><span class=\"dni-code-hint\"><code>System.InvalidOperationException: The input list was empty.\\r\\n   at Microsoft.FSharp.Collections.FSharpList`1.get_Head() in D:\\a\\_work\\1\\s\\src\\FSharp.Core\\prim-types.fs:line 4141\\r\\n   at lambda_method110(Closure, FSharpList`1)\\r\\n   at Microsoft.DotNet.Interactive.Formatting.MemberAccessor`1.GetVa...</code></span></summary><div><table><thead><tr></tr></thead><tbody><tr><td>TargetSite</td><td>T get_Head()</td></tr><tr><td>Message</td><td>The input list was empty.</td></tr><tr><td>Data</td><td>[  ]</td></tr><tr><td>InnerException</td><td><div class=\"dni-plaintext\"><pre>&lt;null&gt;</pre></div></td></tr><tr><td>HelpLink</td><td><div class=\"dni-plaintext\"><pre>&lt;null&gt;</pre></div></td></tr><tr><td>Source</td><td>FSharp.Core</td></tr><tr><td>HResult</td><td>-2146233079</td></tr><tr><td>StackTrace</td><td>   at Microsoft.FSharp.Collections.FSharpList`1.get_Head() in D:\\a\\_work\\1\\s\\src\\FSharp.Core\\prim-types.fs:line 4141\r\n",
       "   at lambda_method110(Closure, FSharpList`1)\r\n",
       "   at Microsoft.DotNet.Interactive.Formatting.MemberAccessor`1.GetValueOrException(T instance) in D:\\a\\_work\\1\\s\\src\\Microsoft.DotNet.Interactive.Formatting\\MemberAccessor{T}.cs:line 58</td></tr></tbody></table></div></details></td></tr><tr><td>Tail</td><td><details class=\"dni-treeview\"><summary><span class=\"dni-code-hint\"><code>System.InvalidOperationException: The input list was empty.\\r\\n   at Microsoft.FSharp.Collections.FSharpList`1.get_Tail() in D:\\a\\_work\\1\\s\\src\\FSharp.Core\\prim-types.fs:line 4146\\r\\n   at lambda_method111(Closure, FSharpList`1)\\r\\n   at Microsoft.DotNet.Interactive.Formatting.MemberAccessor`1.GetVa...</code></span></summary><div><table><thead><tr></tr></thead><tbody><tr><td>TargetSite</td><td>Microsoft.FSharp.Collections.FSharpList`1[T] get_Tail()</td></tr><tr><td>Message</td><td>The input list was empty.</td></tr><tr><td>Data</td><td>[  ]</td></tr><tr><td>InnerException</td><td><div class=\"dni-plaintext\"><pre>&lt;null&gt;</pre></div></td></tr><tr><td>HelpLink</td><td><div class=\"dni-plaintext\"><pre>&lt;null&gt;</pre></div></td></tr><tr><td>Source</td><td>FSharp.Core</td></tr><tr><td>HResult</td><td>-2146233079</td></tr><tr><td>StackTrace</td><td>   at Microsoft.FSharp.Collections.FSharpList`1.get_Tail() in D:\\a\\_work\\1\\s\\src\\FSharp.Core\\prim-types.fs:line 4146\r\n",
       "   at lambda_method111(Closure, FSharpList`1)\r\n",
       "   at Microsoft.DotNet.Interactive.Formatting.MemberAccessor`1.GetValueOrException(T instance) in D:\\a\\_work\\1\\s\\src\\Microsoft.DotNet.Interactive.Formatting\\MemberAccessor{T}.cs:line 58</td></tr></tbody></table></div></details></td></tr><tr><td><i>(values)</i></td><td><div class=\"dni-plaintext\"><pre>[  ]</pre></div></td></tr></tbody></table></div></details></td></tr><tr><td>Head</td><td><div class=\"dni-plaintext\"><pre>7</pre></div></td></tr><tr><td>Tail</td><td><details class=\"dni-treeview\"><summary><span class=\"dni-code-hint\"><code>[  ]</code></span></summary><div><table><thead><tr></tr></thead><tbody><tr><td>HeadOrDefault</td><td><div class=\"dni-plaintext\"><pre>0</pre></div></td></tr><tr><td>TailOrNull</td><td><div class=\"dni-plaintext\"><pre>&lt;null&gt;</pre></div></td></tr><tr><td>Head</td><td><details class=\"dni-treeview\"><summary><span class=\"dni-code-hint\"><code>System.InvalidOperationException: The input list was empty.\\r\\n   at Microsoft.FSharp.Collections.FSharpList`1.get_Head() in D:\\a\\_work\\1\\s\\src\\FSharp.Core\\prim-types.fs:line 4141\\r\\n   at lambda_method110(Closure, FSharpList`1)\\r\\n   at Microsoft.DotNet.Interactive.Formatting.MemberAccessor`1.GetVa...</code></span></summary><div><table><thead><tr></tr></thead><tbody><tr><td>TargetSite</td><td>T get_Head()</td></tr><tr><td>Message</td><td>The input list was empty.</td></tr><tr><td>Data</td><td>[  ]</td></tr><tr><td>InnerException</td><td><div class=\"dni-plaintext\"><pre>&lt;null&gt;</pre></div></td></tr><tr><td>HelpLink</td><td><div class=\"dni-plaintext\"><pre>&lt;null&gt;</pre></div></td></tr><tr><td>Source</td><td>FSharp.Core</td></tr><tr><td>HResult</td><td>-2146233079</td></tr><tr><td>StackTrace</td><td>   at Microsoft.FSharp.Collections.FSharpList`1.get_Head() in D:\\a\\_work\\1\\s\\src\\FSharp.Core\\prim-types.fs:line 4141\r\n",
       "   at lambda_method110(Closure, FSharpList`1)\r\n",
       "   at Microsoft.DotNet.Interactive.Formatting.MemberAccessor`1.GetValueOrException(T instance) in D:\\a\\_work\\1\\s\\src\\Microsoft.DotNet.Interactive.Formatting\\MemberAccessor{T}.cs:line 58</td></tr></tbody></table></div></details></td></tr><tr><td>Tail</td><td><details class=\"dni-treeview\"><summary><span class=\"dni-code-hint\"><code>System.InvalidOperationException: The input list was empty.\\r\\n   at Microsoft.FSharp.Collections.FSharpList`1.get_Tail() in D:\\a\\_work\\1\\s\\src\\FSharp.Core\\prim-types.fs:line 4146\\r\\n   at lambda_method111(Closure, FSharpList`1)\\r\\n   at Microsoft.DotNet.Interactive.Formatting.MemberAccessor`1.GetVa...</code></span></summary><div><table><thead><tr></tr></thead><tbody><tr><td>TargetSite</td><td>Microsoft.FSharp.Collections.FSharpList`1[T] get_Tail()</td></tr><tr><td>Message</td><td>The input list was empty.</td></tr><tr><td>Data</td><td>[  ]</td></tr><tr><td>InnerException</td><td><div class=\"dni-plaintext\"><pre>&lt;null&gt;</pre></div></td></tr><tr><td>HelpLink</td><td><div class=\"dni-plaintext\"><pre>&lt;null&gt;</pre></div></td></tr><tr><td>Source</td><td>FSharp.Core</td></tr><tr><td>HResult</td><td>-2146233079</td></tr><tr><td>StackTrace</td><td>   at Microsoft.FSharp.Collections.FSharpList`1.get_Tail() in D:\\a\\_work\\1\\s\\src\\FSharp.Core\\prim-types.fs:line 4146\r\n",
       "   at lambda_method111(Closure, FSharpList`1)\r\n",
       "   at Microsoft.DotNet.Interactive.Formatting.MemberAccessor`1.GetValueOrException(T instance) in D:\\a\\_work\\1\\s\\src\\Microsoft.DotNet.Interactive.Formatting\\MemberAccessor{T}.cs:line 58</td></tr></tbody></table></div></details></td></tr><tr><td><i>(values)</i></td><td><div class=\"dni-plaintext\"><pre>[  ]</pre></div></td></tr></tbody></table></div></details></td></tr><tr><td><i>(values)</i></td><td><div class=\"dni-plaintext\"><pre>[ 7 ]</pre></div></td></tr></tbody></table></div></details></td></tr><tr><td><i>(values)</i></td><td><div class=\"dni-plaintext\"><pre>[ 5, 7 ]</pre></div></td></tr></tbody></table></div></details></td></tr><tr><td><i>(values)</i></td><td><div class=\"dni-plaintext\"><pre>[ 3, 5, 7 ]</pre></div></td></tr></tbody></table></div></details></td></tr><tr><td>Head</td><td><div class=\"dni-plaintext\"><pre>2</pre></div></td></tr><tr><td>Tail</td><td><details class=\"dni-treeview\"><summary><span class=\"dni-code-hint\"><code>[ 3, 5, 7 ]</code></span></summary><div><table><thead><tr></tr></thead><tbody><tr><td>HeadOrDefault</td><td><div class=\"dni-plaintext\"><pre>3</pre></div></td></tr><tr><td>TailOrNull</td><td><details class=\"dni-treeview\"><summary><span class=\"dni-code-hint\"><code>[ 5, 7 ]</code></span></summary><div><table><thead><tr></tr></thead><tbody><tr><td>HeadOrDefault</td><td><div class=\"dni-plaintext\"><pre>5</pre></div></td></tr><tr><td>TailOrNull</td><td><details class=\"dni-treeview\"><summary><span class=\"dni-code-hint\"><code>[ 7 ]</code></span></summary><div><table><thead><tr></tr></thead><tbody><tr><td>HeadOrDefault</td><td><div class=\"dni-plaintext\"><pre>7</pre></div></td></tr><tr><td>TailOrNull</td><td><details class=\"dni-treeview\"><summary><span class=\"dni-code-hint\"><code>[  ]</code></span></summary><div><table><thead><tr></tr></thead><tbody><tr><td>HeadOrDefault</td><td><div class=\"dni-plaintext\"><pre>0</pre></div></td></tr><tr><td>TailOrNull</td><td><div class=\"dni-plaintext\"><pre>&lt;null&gt;</pre></div></td></tr><tr><td>Head</td><td><details class=\"dni-treeview\"><summary><span class=\"dni-code-hint\"><code>System.InvalidOperationException: The input list was empty.\\r\\n   at Microsoft.FSharp.Collections.FSharpList`1.get_Head() in D:\\a\\_work\\1\\s\\src\\FSharp.Core\\prim-types.fs:line 4141\\r\\n   at lambda_method110(Closure, FSharpList`1)\\r\\n   at Microsoft.DotNet.Interactive.Formatting.MemberAccessor`1.GetVa...</code></span></summary><div><table><thead><tr></tr></thead><tbody><tr><td>TargetSite</td><td>T get_Head()</td></tr><tr><td>Message</td><td>The input list was empty.</td></tr><tr><td>Data</td><td>[  ]</td></tr><tr><td>InnerException</td><td><div class=\"dni-plaintext\"><pre>&lt;null&gt;</pre></div></td></tr><tr><td>HelpLink</td><td><div class=\"dni-plaintext\"><pre>&lt;null&gt;</pre></div></td></tr><tr><td>Source</td><td>FSharp.Core</td></tr><tr><td>HResult</td><td>-2146233079</td></tr><tr><td>StackTrace</td><td>   at Microsoft.FSharp.Collections.FSharpList`1.get_Head() in D:\\a\\_work\\1\\s\\src\\FSharp.Core\\prim-types.fs:line 4141\r\n",
       "   at lambda_method110(Closure, FSharpList`1)\r\n",
       "   at Microsoft.DotNet.Interactive.Formatting.MemberAccessor`1.GetValueOrException(T instance) in D:\\a\\_work\\1\\s\\src\\Microsoft.DotNet.Interactive.Formatting\\MemberAccessor{T}.cs:line 58</td></tr></tbody></table></div></details></td></tr><tr><td>Tail</td><td><details class=\"dni-treeview\"><summary><span class=\"dni-code-hint\"><code>System.InvalidOperationException: The input list was empty.\\r\\n   at Microsoft.FSharp.Collections.FSharpList`1.get_Tail() in D:\\a\\_work\\1\\s\\src\\FSharp.Core\\prim-types.fs:line 4146\\r\\n   at lambda_method111(Closure, FSharpList`1)\\r\\n   at Microsoft.DotNet.Interactive.Formatting.MemberAccessor`1.GetVa...</code></span></summary><div><table><thead><tr></tr></thead><tbody><tr><td>TargetSite</td><td>Microsoft.FSharp.Collections.FSharpList`1[T] get_Tail()</td></tr><tr><td>Message</td><td>The input list was empty.</td></tr><tr><td>Data</td><td>[  ]</td></tr><tr><td>InnerException</td><td><div class=\"dni-plaintext\"><pre>&lt;null&gt;</pre></div></td></tr><tr><td>HelpLink</td><td><div class=\"dni-plaintext\"><pre>&lt;null&gt;</pre></div></td></tr><tr><td>Source</td><td>FSharp.Core</td></tr><tr><td>HResult</td><td>-2146233079</td></tr><tr><td>StackTrace</td><td>   at Microsoft.FSharp.Collections.FSharpList`1.get_Tail() in D:\\a\\_work\\1\\s\\src\\FSharp.Core\\prim-types.fs:line 4146\r\n",
       "   at lambda_method111(Closure, FSharpList`1)\r\n",
       "   at Microsoft.DotNet.Interactive.Formatting.MemberAccessor`1.GetValueOrException(T instance) in D:\\a\\_work\\1\\s\\src\\Microsoft.DotNet.Interactive.Formatting\\MemberAccessor{T}.cs:line 58</td></tr></tbody></table></div></details></td></tr><tr><td><i>(values)</i></td><td><div class=\"dni-plaintext\"><pre>[  ]</pre></div></td></tr></tbody></table></div></details></td></tr><tr><td>Head</td><td><div class=\"dni-plaintext\"><pre>7</pre></div></td></tr><tr><td>Tail</td><td><details class=\"dni-treeview\"><summary><span class=\"dni-code-hint\"><code>[  ]</code></span></summary><div><table><thead><tr></tr></thead><tbody><tr><td>HeadOrDefault</td><td><div class=\"dni-plaintext\"><pre>0</pre></div></td></tr><tr><td>TailOrNull</td><td><div class=\"dni-plaintext\"><pre>&lt;null&gt;</pre></div></td></tr><tr><td>Head</td><td><details class=\"dni-treeview\"><summary><span class=\"dni-code-hint\"><code>System.InvalidOperationException: The input list was empty.\\r\\n   at Microsoft.FSharp.Collections.FSharpList`1.get_Head() in D:\\a\\_work\\1\\s\\src\\FSharp.Core\\prim-types.fs:line 4141\\r\\n   at lambda_method110(Closure, FSharpList`1)\\r\\n   at Microsoft.DotNet.Interactive.Formatting.MemberAccessor`1.GetVa...</code></span></summary><div><table><thead><tr></tr></thead><tbody><tr><td>TargetSite</td><td>T get_Head()</td></tr><tr><td>Message</td><td>The input list was empty.</td></tr><tr><td>Data</td><td>[  ]</td></tr><tr><td>InnerException</td><td><div class=\"dni-plaintext\"><pre>&lt;null&gt;</pre></div></td></tr><tr><td>HelpLink</td><td><div class=\"dni-plaintext\"><pre>&lt;null&gt;</pre></div></td></tr><tr><td>Source</td><td>FSharp.Core</td></tr><tr><td>HResult</td><td>-2146233079</td></tr><tr><td>StackTrace</td><td>   at Microsoft.FSharp.Collections.FSharpList`1.get_Head() in D:\\a\\_work\\1\\s\\src\\FSharp.Core\\prim-types.fs:line 4141\r\n",
       "   at lambda_method110(Closure, FSharpList`1)\r\n",
       "   at Microsoft.DotNet.Interactive.Formatting.MemberAccessor`1.GetValueOrException(T instance) in D:\\a\\_work\\1\\s\\src\\Microsoft.DotNet.Interactive.Formatting\\MemberAccessor{T}.cs:line 58</td></tr></tbody></table></div></details></td></tr><tr><td>Tail</td><td><details class=\"dni-treeview\"><summary><span class=\"dni-code-hint\"><code>System.InvalidOperationException: The input list was empty.\\r\\n   at Microsoft.FSharp.Collections.FSharpList`1.get_Tail() in D:\\a\\_work\\1\\s\\src\\FSharp.Core\\prim-types.fs:line 4146\\r\\n   at lambda_method111(Closure, FSharpList`1)\\r\\n   at Microsoft.DotNet.Interactive.Formatting.MemberAccessor`1.GetVa...</code></span></summary><div><table><thead><tr></tr></thead><tbody><tr><td>TargetSite</td><td>Microsoft.FSharp.Collections.FSharpList`1[T] get_Tail()</td></tr><tr><td>Message</td><td>The input list was empty.</td></tr><tr><td>Data</td><td>[  ]</td></tr><tr><td>InnerException</td><td><div class=\"dni-plaintext\"><pre>&lt;null&gt;</pre></div></td></tr><tr><td>HelpLink</td><td><div class=\"dni-plaintext\"><pre>&lt;null&gt;</pre></div></td></tr><tr><td>Source</td><td>FSharp.Core</td></tr><tr><td>HResult</td><td>-2146233079</td></tr><tr><td>StackTrace</td><td>   at Microsoft.FSharp.Collections.FSharpList`1.get_Tail() in D:\\a\\_work\\1\\s\\src\\FSharp.Core\\prim-types.fs:line 4146\r\n",
       "   at lambda_method111(Closure, FSharpList`1)\r\n",
       "   at Microsoft.DotNet.Interactive.Formatting.MemberAccessor`1.GetValueOrException(T instance) in D:\\a\\_work\\1\\s\\src\\Microsoft.DotNet.Interactive.Formatting\\MemberAccessor{T}.cs:line 58</td></tr></tbody></table></div></details></td></tr><tr><td><i>(values)</i></td><td><div class=\"dni-plaintext\"><pre>[  ]</pre></div></td></tr></tbody></table></div></details></td></tr><tr><td><i>(values)</i></td><td><div class=\"dni-plaintext\"><pre>[ 7 ]</pre></div></td></tr></tbody></table></div></details></td></tr><tr><td>Head</td><td><div class=\"dni-plaintext\"><pre>5</pre></div></td></tr><tr><td>Tail</td><td><details class=\"dni-treeview\"><summary><span class=\"dni-code-hint\"><code>[ 7 ]</code></span></summary><div><table><thead><tr></tr></thead><tbody><tr><td>HeadOrDefault</td><td><div class=\"dni-plaintext\"><pre>7</pre></div></td></tr><tr><td>TailOrNull</td><td><details class=\"dni-treeview\"><summary><span class=\"dni-code-hint\"><code>[  ]</code></span></summary><div><table><thead><tr></tr></thead><tbody><tr><td>HeadOrDefault</td><td><div class=\"dni-plaintext\"><pre>0</pre></div></td></tr><tr><td>TailOrNull</td><td><div class=\"dni-plaintext\"><pre>&lt;null&gt;</pre></div></td></tr><tr><td>Head</td><td><details class=\"dni-treeview\"><summary><span class=\"dni-code-hint\"><code>System.InvalidOperationException: The input list was empty.\\r\\n   at Microsoft.FSharp.Collections.FSharpList`1.get_Head() in D:\\a\\_work\\1\\s\\src\\FSharp.Core\\prim-types.fs:line 4141\\r\\n   at lambda_method110(Closure, FSharpList`1)\\r\\n   at Microsoft.DotNet.Interactive.Formatting.MemberAccessor`1.GetVa...</code></span></summary><div><table><thead><tr></tr></thead><tbody><tr><td>TargetSite</td><td>T get_Head()</td></tr><tr><td>Message</td><td>The input list was empty.</td></tr><tr><td>Data</td><td>[  ]</td></tr><tr><td>InnerException</td><td><div class=\"dni-plaintext\"><pre>&lt;null&gt;</pre></div></td></tr><tr><td>HelpLink</td><td><div class=\"dni-plaintext\"><pre>&lt;null&gt;</pre></div></td></tr><tr><td>Source</td><td>FSharp.Core</td></tr><tr><td>HResult</td><td>-2146233079</td></tr><tr><td>StackTrace</td><td>   at Microsoft.FSharp.Collections.FSharpList`1.get_Head() in D:\\a\\_work\\1\\s\\src\\FSharp.Core\\prim-types.fs:line 4141\r\n",
       "   at lambda_method110(Closure, FSharpList`1)\r\n",
       "   at Microsoft.DotNet.Interactive.Formatting.MemberAccessor`1.GetValueOrException(T instance) in D:\\a\\_work\\1\\s\\src\\Microsoft.DotNet.Interactive.Formatting\\MemberAccessor{T}.cs:line 58</td></tr></tbody></table></div></details></td></tr><tr><td>Tail</td><td><details class=\"dni-treeview\"><summary><span class=\"dni-code-hint\"><code>System.InvalidOperationException: The input list was empty.\\r\\n   at Microsoft.FSharp.Collections.FSharpList`1.get_Tail() in D:\\a\\_work\\1\\s\\src\\FSharp.Core\\prim-types.fs:line 4146\\r\\n   at lambda_method111(Closure, FSharpList`1)\\r\\n   at Microsoft.DotNet.Interactive.Formatting.MemberAccessor`1.GetVa...</code></span></summary><div><table><thead><tr></tr></thead><tbody><tr><td>TargetSite</td><td>Microsoft.FSharp.Collections.FSharpList`1[T] get_Tail()</td></tr><tr><td>Message</td><td>The input list was empty.</td></tr><tr><td>Data</td><td>[  ]</td></tr><tr><td>InnerException</td><td><div class=\"dni-plaintext\"><pre>&lt;null&gt;</pre></div></td></tr><tr><td>HelpLink</td><td><div class=\"dni-plaintext\"><pre>&lt;null&gt;</pre></div></td></tr><tr><td>Source</td><td>FSharp.Core</td></tr><tr><td>HResult</td><td>-2146233079</td></tr><tr><td>StackTrace</td><td>   at Microsoft.FSharp.Collections.FSharpList`1.get_Tail() in D:\\a\\_work\\1\\s\\src\\FSharp.Core\\prim-types.fs:line 4146\r\n",
       "   at lambda_method111(Closure, FSharpList`1)\r\n",
       "   at Microsoft.DotNet.Interactive.Formatting.MemberAccessor`1.GetValueOrException(T instance) in D:\\a\\_work\\1\\s\\src\\Microsoft.DotNet.Interactive.Formatting\\MemberAccessor{T}.cs:line 58</td></tr></tbody></table></div></details></td></tr><tr><td><i>(values)</i></td><td><div class=\"dni-plaintext\"><pre>[  ]</pre></div></td></tr></tbody></table></div></details></td></tr><tr><td>Head</td><td><div class=\"dni-plaintext\"><pre>7</pre></div></td></tr><tr><td>Tail</td><td><details class=\"dni-treeview\"><summary><span class=\"dni-code-hint\"><code>[  ]</code></span></summary><div><table><thead><tr></tr></thead><tbody><tr><td>HeadOrDefault</td><td><div class=\"dni-plaintext\"><pre>0</pre></div></td></tr><tr><td>TailOrNull</td><td><div class=\"dni-plaintext\"><pre>&lt;null&gt;</pre></div></td></tr><tr><td>Head</td><td><details class=\"dni-treeview\"><summary><span class=\"dni-code-hint\"><code>System.InvalidOperationException: The input list was empty.\\r\\n   at Microsoft.FSharp.Collections.FSharpList`1.get_Head() in D:\\a\\_work\\1\\s\\src\\FSharp.Core\\prim-types.fs:line 4141\\r\\n   at lambda_method110(Closure, FSharpList`1)\\r\\n   at Microsoft.DotNet.Interactive.Formatting.MemberAccessor`1.GetVa...</code></span></summary><div><table><thead><tr></tr></thead><tbody><tr><td>TargetSite</td><td>T get_Head()</td></tr><tr><td>Message</td><td>The input list was empty.</td></tr><tr><td>Data</td><td>[  ]</td></tr><tr><td>InnerException</td><td><div class=\"dni-plaintext\"><pre>&lt;null&gt;</pre></div></td></tr><tr><td>HelpLink</td><td><div class=\"dni-plaintext\"><pre>&lt;null&gt;</pre></div></td></tr><tr><td>Source</td><td>FSharp.Core</td></tr><tr><td>HResult</td><td>-2146233079</td></tr><tr><td>StackTrace</td><td>   at Microsoft.FSharp.Collections.FSharpList`1.get_Head() in D:\\a\\_work\\1\\s\\src\\FSharp.Core\\prim-types.fs:line 4141\r\n",
       "   at lambda_method110(Closure, FSharpList`1)\r\n",
       "   at Microsoft.DotNet.Interactive.Formatting.MemberAccessor`1.GetValueOrException(T instance) in D:\\a\\_work\\1\\s\\src\\Microsoft.DotNet.Interactive.Formatting\\MemberAccessor{T}.cs:line 58</td></tr></tbody></table></div></details></td></tr><tr><td>Tail</td><td><details class=\"dni-treeview\"><summary><span class=\"dni-code-hint\"><code>System.InvalidOperationException: The input list was empty.\\r\\n   at Microsoft.FSharp.Collections.FSharpList`1.get_Tail() in D:\\a\\_work\\1\\s\\src\\FSharp.Core\\prim-types.fs:line 4146\\r\\n   at lambda_method111(Closure, FSharpList`1)\\r\\n   at Microsoft.DotNet.Interactive.Formatting.MemberAccessor`1.GetVa...</code></span></summary><div><table><thead><tr></tr></thead><tbody><tr><td>TargetSite</td><td>Microsoft.FSharp.Collections.FSharpList`1[T] get_Tail()</td></tr><tr><td>Message</td><td>The input list was empty.</td></tr><tr><td>Data</td><td>[  ]</td></tr><tr><td>InnerException</td><td><div class=\"dni-plaintext\"><pre>&lt;null&gt;</pre></div></td></tr><tr><td>HelpLink</td><td><div class=\"dni-plaintext\"><pre>&lt;null&gt;</pre></div></td></tr><tr><td>Source</td><td>FSharp.Core</td></tr><tr><td>HResult</td><td>-2146233079</td></tr><tr><td>StackTrace</td><td>   at Microsoft.FSharp.Collections.FSharpList`1.get_Tail() in D:\\a\\_work\\1\\s\\src\\FSharp.Core\\prim-types.fs:line 4146\r\n",
       "   at lambda_method111(Closure, FSharpList`1)\r\n",
       "   at Microsoft.DotNet.Interactive.Formatting.MemberAccessor`1.GetValueOrException(T instance) in D:\\a\\_work\\1\\s\\src\\Microsoft.DotNet.Interactive.Formatting\\MemberAccessor{T}.cs:line 58</td></tr></tbody></table></div></details></td></tr><tr><td><i>(values)</i></td><td><div class=\"dni-plaintext\"><pre>[  ]</pre></div></td></tr></tbody></table></div></details></td></tr><tr><td><i>(values)</i></td><td><div class=\"dni-plaintext\"><pre>[ 7 ]</pre></div></td></tr></tbody></table></div></details></td></tr><tr><td><i>(values)</i></td><td><div class=\"dni-plaintext\"><pre>[ 5, 7 ]</pre></div></td></tr></tbody></table></div></details></td></tr><tr><td>Head</td><td><div class=\"dni-plaintext\"><pre>3</pre></div></td></tr><tr><td>Tail</td><td><details class=\"dni-treeview\"><summary><span class=\"dni-code-hint\"><code>[ 5, 7 ]</code></span></summary><div><table><thead><tr></tr></thead><tbody><tr><td>HeadOrDefault</td><td><div class=\"dni-plaintext\"><pre>5</pre></div></td></tr><tr><td>TailOrNull</td><td><details class=\"dni-treeview\"><summary><span class=\"dni-code-hint\"><code>[ 7 ]</code></span></summary><div><table><thead><tr></tr></thead><tbody><tr><td>HeadOrDefault</td><td><div class=\"dni-plaintext\"><pre>7</pre></div></td></tr><tr><td>TailOrNull</td><td><details class=\"dni-treeview\"><summary><span class=\"dni-code-hint\"><code>[  ]</code></span></summary><div><table><thead><tr></tr></thead><tbody><tr><td>HeadOrDefault</td><td><div class=\"dni-plaintext\"><pre>0</pre></div></td></tr><tr><td>TailOrNull</td><td><div class=\"dni-plaintext\"><pre>&lt;null&gt;</pre></div></td></tr><tr><td>Head</td><td><details class=\"dni-treeview\"><summary><span class=\"dni-code-hint\"><code>System.InvalidOperationException: The input list was empty.\\r\\n   at Microsoft.FSharp.Collections.FSharpList`1.get_Head() in D:\\a\\_work\\1\\s\\src\\FSharp.Core\\prim-types.fs:line 4141\\r\\n   at lambda_method110(Closure, FSharpList`1)\\r\\n   at Microsoft.DotNet.Interactive.Formatting.MemberAccessor`1.GetVa...</code></span></summary><div><table><thead><tr></tr></thead><tbody><tr><td>TargetSite</td><td>T get_Head()</td></tr><tr><td>Message</td><td>The input list was empty.</td></tr><tr><td>Data</td><td>[  ]</td></tr><tr><td>InnerException</td><td><div class=\"dni-plaintext\"><pre>&lt;null&gt;</pre></div></td></tr><tr><td>HelpLink</td><td><div class=\"dni-plaintext\"><pre>&lt;null&gt;</pre></div></td></tr><tr><td>Source</td><td>FSharp.Core</td></tr><tr><td>HResult</td><td>-2146233079</td></tr><tr><td>StackTrace</td><td>   at Microsoft.FSharp.Collections.FSharpList`1.get_Head() in D:\\a\\_work\\1\\s\\src\\FSharp.Core\\prim-types.fs:line 4141\r\n",
       "   at lambda_method110(Closure, FSharpList`1)\r\n",
       "   at Microsoft.DotNet.Interactive.Formatting.MemberAccessor`1.GetValueOrException(T instance) in D:\\a\\_work\\1\\s\\src\\Microsoft.DotNet.Interactive.Formatting\\MemberAccessor{T}.cs:line 58</td></tr></tbody></table></div></details></td></tr><tr><td>Tail</td><td><details class=\"dni-treeview\"><summary><span class=\"dni-code-hint\"><code>System.InvalidOperationException: The input list was empty.\\r\\n   at Microsoft.FSharp.Collections.FSharpList`1.get_Tail() in D:\\a\\_work\\1\\s\\src\\FSharp.Core\\prim-types.fs:line 4146\\r\\n   at lambda_method111(Closure, FSharpList`1)\\r\\n   at Microsoft.DotNet.Interactive.Formatting.MemberAccessor`1.GetVa...</code></span></summary><div><table><thead><tr></tr></thead><tbody><tr><td>TargetSite</td><td>Microsoft.FSharp.Collections.FSharpList`1[T] get_Tail()</td></tr><tr><td>Message</td><td>The input list was empty.</td></tr><tr><td>Data</td><td>[  ]</td></tr><tr><td>InnerException</td><td><div class=\"dni-plaintext\"><pre>&lt;null&gt;</pre></div></td></tr><tr><td>HelpLink</td><td><div class=\"dni-plaintext\"><pre>&lt;null&gt;</pre></div></td></tr><tr><td>Source</td><td>FSharp.Core</td></tr><tr><td>HResult</td><td>-2146233079</td></tr><tr><td>StackTrace</td><td>   at Microsoft.FSharp.Collections.FSharpList`1.get_Tail() in D:\\a\\_work\\1\\s\\src\\FSharp.Core\\prim-types.fs:line 4146\r\n",
       "   at lambda_method111(Closure, FSharpList`1)\r\n",
       "   at Microsoft.DotNet.Interactive.Formatting.MemberAccessor`1.GetValueOrException(T instance) in D:\\a\\_work\\1\\s\\src\\Microsoft.DotNet.Interactive.Formatting\\MemberAccessor{T}.cs:line 58</td></tr></tbody></table></div></details></td></tr><tr><td><i>(values)</i></td><td><div class=\"dni-plaintext\"><pre>[  ]</pre></div></td></tr></tbody></table></div></details></td></tr><tr><td>Head</td><td><div class=\"dni-plaintext\"><pre>7</pre></div></td></tr><tr><td>Tail</td><td><details class=\"dni-treeview\"><summary><span class=\"dni-code-hint\"><code>[  ]</code></span></summary><div><table><thead><tr></tr></thead><tbody><tr><td>HeadOrDefault</td><td><div class=\"dni-plaintext\"><pre>0</pre></div></td></tr><tr><td>TailOrNull</td><td><div class=\"dni-plaintext\"><pre>&lt;null&gt;</pre></div></td></tr><tr><td>Head</td><td><details class=\"dni-treeview\"><summary><span class=\"dni-code-hint\"><code>System.InvalidOperationException: The input list was empty.\\r\\n   at Microsoft.FSharp.Collections.FSharpList`1.get_Head() in D:\\a\\_work\\1\\s\\src\\FSharp.Core\\prim-types.fs:line 4141\\r\\n   at lambda_method110(Closure, FSharpList`1)\\r\\n   at Microsoft.DotNet.Interactive.Formatting.MemberAccessor`1.GetVa...</code></span></summary><div><table><thead><tr></tr></thead><tbody><tr><td>TargetSite</td><td>T get_Head()</td></tr><tr><td>Message</td><td>The input list was empty.</td></tr><tr><td>Data</td><td>[  ]</td></tr><tr><td>InnerException</td><td><div class=\"dni-plaintext\"><pre>&lt;null&gt;</pre></div></td></tr><tr><td>HelpLink</td><td><div class=\"dni-plaintext\"><pre>&lt;null&gt;</pre></div></td></tr><tr><td>Source</td><td>FSharp.Core</td></tr><tr><td>HResult</td><td>-2146233079</td></tr><tr><td>StackTrace</td><td>   at Microsoft.FSharp.Collections.FSharpList`1.get_Head() in D:\\a\\_work\\1\\s\\src\\FSharp.Core\\prim-types.fs:line 4141\r\n",
       "   at lambda_method110(Closure, FSharpList`1)\r\n",
       "   at Microsoft.DotNet.Interactive.Formatting.MemberAccessor`1.GetValueOrException(T instance) in D:\\a\\_work\\1\\s\\src\\Microsoft.DotNet.Interactive.Formatting\\MemberAccessor{T}.cs:line 58</td></tr></tbody></table></div></details></td></tr><tr><td>Tail</td><td><details class=\"dni-treeview\"><summary><span class=\"dni-code-hint\"><code>System.InvalidOperationException: The input list was empty.\\r\\n   at Microsoft.FSharp.Collections.FSharpList`1.get_Tail() in D:\\a\\_work\\1\\s\\src\\FSharp.Core\\prim-types.fs:line 4146\\r\\n   at lambda_method111(Closure, FSharpList`1)\\r\\n   at Microsoft.DotNet.Interactive.Formatting.MemberAccessor`1.GetVa...</code></span></summary><div><table><thead><tr></tr></thead><tbody><tr><td>TargetSite</td><td>Microsoft.FSharp.Collections.FSharpList`1[T] get_Tail()</td></tr><tr><td>Message</td><td>The input list was empty.</td></tr><tr><td>Data</td><td>[  ]</td></tr><tr><td>InnerException</td><td><div class=\"dni-plaintext\"><pre>&lt;null&gt;</pre></div></td></tr><tr><td>HelpLink</td><td><div class=\"dni-plaintext\"><pre>&lt;null&gt;</pre></div></td></tr><tr><td>Source</td><td>FSharp.Core</td></tr><tr><td>HResult</td><td>-2146233079</td></tr><tr><td>StackTrace</td><td>   at Microsoft.FSharp.Collections.FSharpList`1.get_Tail() in D:\\a\\_work\\1\\s\\src\\FSharp.Core\\prim-types.fs:line 4146\r\n",
       "   at lambda_method111(Closure, FSharpList`1)\r\n",
       "   at Microsoft.DotNet.Interactive.Formatting.MemberAccessor`1.GetValueOrException(T instance) in D:\\a\\_work\\1\\s\\src\\Microsoft.DotNet.Interactive.Formatting\\MemberAccessor{T}.cs:line 58</td></tr></tbody></table></div></details></td></tr><tr><td><i>(values)</i></td><td><div class=\"dni-plaintext\"><pre>[  ]</pre></div></td></tr></tbody></table></div></details></td></tr><tr><td><i>(values)</i></td><td><div class=\"dni-plaintext\"><pre>[ 7 ]</pre></div></td></tr></tbody></table></div></details></td></tr><tr><td>Head</td><td><div class=\"dni-plaintext\"><pre>5</pre></div></td></tr><tr><td>Tail</td><td><details class=\"dni-treeview\"><summary><span class=\"dni-code-hint\"><code>[ 7 ]</code></span></summary><div><table><thead><tr></tr></thead><tbody><tr><td>HeadOrDefault</td><td><div class=\"dni-plaintext\"><pre>7</pre></div></td></tr><tr><td>TailOrNull</td><td><details class=\"dni-treeview\"><summary><span class=\"dni-code-hint\"><code>[  ]</code></span></summary><div><table><thead><tr></tr></thead><tbody><tr><td>HeadOrDefault</td><td><div class=\"dni-plaintext\"><pre>0</pre></div></td></tr><tr><td>TailOrNull</td><td><div class=\"dni-plaintext\"><pre>&lt;null&gt;</pre></div></td></tr><tr><td>Head</td><td><details class=\"dni-treeview\"><summary><span class=\"dni-code-hint\"><code>System.InvalidOperationException: The input list was empty.\\r\\n   at Microsoft.FSharp.Collections.FSharpList`1.get_Head() in D:\\a\\_work\\1\\s\\src\\FSharp.Core\\prim-types.fs:line 4141\\r\\n   at lambda_method110(Closure, FSharpList`1)\\r\\n   at Microsoft.DotNet.Interactive.Formatting.MemberAccessor`1.GetVa...</code></span></summary><div><table><thead><tr></tr></thead><tbody><tr><td>TargetSite</td><td>T get_Head()</td></tr><tr><td>Message</td><td>The input list was empty.</td></tr><tr><td>Data</td><td>[  ]</td></tr><tr><td>InnerException</td><td><div class=\"dni-plaintext\"><pre>&lt;null&gt;</pre></div></td></tr><tr><td>HelpLink</td><td><div class=\"dni-plaintext\"><pre>&lt;null&gt;</pre></div></td></tr><tr><td>Source</td><td>FSharp.Core</td></tr><tr><td>HResult</td><td>-2146233079</td></tr><tr><td>StackTrace</td><td>   at Microsoft.FSharp.Collections.FSharpList`1.get_Head() in D:\\a\\_work\\1\\s\\src\\FSharp.Core\\prim-types.fs:line 4141\r\n",
       "   at lambda_method110(Closure, FSharpList`1)\r\n",
       "   at Microsoft.DotNet.Interactive.Formatting.MemberAccessor`1.GetValueOrException(T instance) in D:\\a\\_work\\1\\s\\src\\Microsoft.DotNet.Interactive.Formatting\\MemberAccessor{T}.cs:line 58</td></tr></tbody></table></div></details></td></tr><tr><td>Tail</td><td><details class=\"dni-treeview\"><summary><span class=\"dni-code-hint\"><code>System.InvalidOperationException: The input list was empty.\\r\\n   at Microsoft.FSharp.Collections.FSharpList`1.get_Tail() in D:\\a\\_work\\1\\s\\src\\FSharp.Core\\prim-types.fs:line 4146\\r\\n   at lambda_method111(Closure, FSharpList`1)\\r\\n   at Microsoft.DotNet.Interactive.Formatting.MemberAccessor`1.GetVa...</code></span></summary><div><table><thead><tr></tr></thead><tbody><tr><td>TargetSite</td><td>Microsoft.FSharp.Collections.FSharpList`1[T] get_Tail()</td></tr><tr><td>Message</td><td>The input list was empty.</td></tr><tr><td>Data</td><td>[  ]</td></tr><tr><td>InnerException</td><td><div class=\"dni-plaintext\"><pre>&lt;null&gt;</pre></div></td></tr><tr><td>HelpLink</td><td><div class=\"dni-plaintext\"><pre>&lt;null&gt;</pre></div></td></tr><tr><td>Source</td><td>FSharp.Core</td></tr><tr><td>HResult</td><td>-2146233079</td></tr><tr><td>StackTrace</td><td>   at Microsoft.FSharp.Collections.FSharpList`1.get_Tail() in D:\\a\\_work\\1\\s\\src\\FSharp.Core\\prim-types.fs:line 4146\r\n",
       "   at lambda_method111(Closure, FSharpList`1)\r\n",
       "   at Microsoft.DotNet.Interactive.Formatting.MemberAccessor`1.GetValueOrException(T instance) in D:\\a\\_work\\1\\s\\src\\Microsoft.DotNet.Interactive.Formatting\\MemberAccessor{T}.cs:line 58</td></tr></tbody></table></div></details></td></tr><tr><td><i>(values)</i></td><td><div class=\"dni-plaintext\"><pre>[  ]</pre></div></td></tr></tbody></table></div></details></td></tr><tr><td>Head</td><td><div class=\"dni-plaintext\"><pre>7</pre></div></td></tr><tr><td>Tail</td><td><details class=\"dni-treeview\"><summary><span class=\"dni-code-hint\"><code>[  ]</code></span></summary><div><table><thead><tr></tr></thead><tbody><tr><td>HeadOrDefault</td><td><div class=\"dni-plaintext\"><pre>0</pre></div></td></tr><tr><td>TailOrNull</td><td><div class=\"dni-plaintext\"><pre>&lt;null&gt;</pre></div></td></tr><tr><td>Head</td><td><details class=\"dni-treeview\"><summary><span class=\"dni-code-hint\"><code>System.InvalidOperationException: The input list was empty.\\r\\n   at Microsoft.FSharp.Collections.FSharpList`1.get_Head() in D:\\a\\_work\\1\\s\\src\\FSharp.Core\\prim-types.fs:line 4141\\r\\n   at lambda_method110(Closure, FSharpList`1)\\r\\n   at Microsoft.DotNet.Interactive.Formatting.MemberAccessor`1.GetVa...</code></span></summary><div><table><thead><tr></tr></thead><tbody><tr><td>TargetSite</td><td>T get_Head()</td></tr><tr><td>Message</td><td>The input list was empty.</td></tr><tr><td>Data</td><td>[  ]</td></tr><tr><td>InnerException</td><td><div class=\"dni-plaintext\"><pre>&lt;null&gt;</pre></div></td></tr><tr><td>HelpLink</td><td><div class=\"dni-plaintext\"><pre>&lt;null&gt;</pre></div></td></tr><tr><td>Source</td><td>FSharp.Core</td></tr><tr><td>HResult</td><td>-2146233079</td></tr><tr><td>StackTrace</td><td>   at Microsoft.FSharp.Collections.FSharpList`1.get_Head() in D:\\a\\_work\\1\\s\\src\\FSharp.Core\\prim-types.fs:line 4141\r\n",
       "   at lambda_method110(Closure, FSharpList`1)\r\n",
       "   at Microsoft.DotNet.Interactive.Formatting.MemberAccessor`1.GetValueOrException(T instance) in D:\\a\\_work\\1\\s\\src\\Microsoft.DotNet.Interactive.Formatting\\MemberAccessor{T}.cs:line 58</td></tr></tbody></table></div></details></td></tr><tr><td>Tail</td><td><details class=\"dni-treeview\"><summary><span class=\"dni-code-hint\"><code>System.InvalidOperationException: The input list was empty.\\r\\n   at Microsoft.FSharp.Collections.FSharpList`1.get_Tail() in D:\\a\\_work\\1\\s\\src\\FSharp.Core\\prim-types.fs:line 4146\\r\\n   at lambda_method111(Closure, FSharpList`1)\\r\\n   at Microsoft.DotNet.Interactive.Formatting.MemberAccessor`1.GetVa...</code></span></summary><div><table><thead><tr></tr></thead><tbody><tr><td>TargetSite</td><td>Microsoft.FSharp.Collections.FSharpList`1[T] get_Tail()</td></tr><tr><td>Message</td><td>The input list was empty.</td></tr><tr><td>Data</td><td>[  ]</td></tr><tr><td>InnerException</td><td><div class=\"dni-plaintext\"><pre>&lt;null&gt;</pre></div></td></tr><tr><td>HelpLink</td><td><div class=\"dni-plaintext\"><pre>&lt;null&gt;</pre></div></td></tr><tr><td>Source</td><td>FSharp.Core</td></tr><tr><td>HResult</td><td>-2146233079</td></tr><tr><td>StackTrace</td><td>   at Microsoft.FSharp.Collections.FSharpList`1.get_Tail() in D:\\a\\_work\\1\\s\\src\\FSharp.Core\\prim-types.fs:line 4146\r\n",
       "   at lambda_method111(Closure, FSharpList`1)\r\n",
       "   at Microsoft.DotNet.Interactive.Formatting.MemberAccessor`1.GetValueOrException(T instance) in D:\\a\\_work\\1\\s\\src\\Microsoft.DotNet.Interactive.Formatting\\MemberAccessor{T}.cs:line 58</td></tr></tbody></table></div></details></td></tr><tr><td><i>(values)</i></td><td><div class=\"dni-plaintext\"><pre>[  ]</pre></div></td></tr></tbody></table></div></details></td></tr><tr><td><i>(values)</i></td><td><div class=\"dni-plaintext\"><pre>[ 7 ]</pre></div></td></tr></tbody></table></div></details></td></tr><tr><td><i>(values)</i></td><td><div class=\"dni-plaintext\"><pre>[ 5, 7 ]</pre></div></td></tr></tbody></table></div></details></td></tr><tr><td><i>(values)</i></td><td><div class=\"dni-plaintext\"><pre>[ 3, 5, 7 ]</pre></div></td></tr></tbody></table></div></details></td></tr><tr><td><i>(values)</i></td><td><div class=\"dni-plaintext\"><pre>[ 2, 3, 5, 7 ]</pre></div></td></tr></tbody></table></div></details><style>\r\n",
       ".dni-code-hint {\r\n",
       "    font-style: italic;\r\n",
       "    overflow: hidden;\r\n",
       "    white-space: nowrap;\r\n",
       "}\r\n",
       ".dni-treeview {\r\n",
       "    white-space: nowrap;\r\n",
       "}\r\n",
       ".dni-treeview td {\r\n",
       "    vertical-align: top;\r\n",
       "    text-align: start;\r\n",
       "}\r\n",
       "details.dni-treeview {\r\n",
       "    padding-left: 1em;\r\n",
       "}\r\n",
       "table td {\r\n",
       "    text-align: start;\r\n",
       "}\r\n",
       "table tr { \r\n",
       "    vertical-align: top; \r\n",
       "    margin: 0em 0px;\r\n",
       "}\r\n",
       "table tr td pre \r\n",
       "{ \r\n",
       "    vertical-align: top !important; \r\n",
       "    margin: 0em 0px !important;\r\n",
       "} \r\n",
       "table th {\r\n",
       "    text-align: start;\r\n",
       "}\r\n",
       "</style>"
      ]
     },
     "metadata": {},
     "output_type": "display_data"
    }
   ],
   "source": [
    "let doubleHead l = \n",
    "    let head :: tail = l // can you figure out why it's giving a warning here? 🤓\n",
    "    head * 2 :: tail\n",
    "\n",
    "doubleHead [ 1; 3; 5; 7 ]"
   ]
  },
  {
   "cell_type": "markdown",
   "metadata": {},
   "source": [
    "### Exercise 4\n",
    "\n",
    "1. Write a function *add* with signature *int -> int -> int* that returns a function which returns x + y.\n",
    "2. Use partial application to define the function *add2* that adds 2 to any integer."
   ]
  },
  {
   "cell_type": "code",
   "execution_count": 3,
   "metadata": {
    "dotnet_interactive": {
     "language": "fsharp"
    },
    "vscode": {
     "languageId": "polyglot-notebook"
    }
   },
   "outputs": [
    {
     "data": {
      "text/html": [
       "<div class=\"dni-plaintext\"><pre>12</pre></div><style>\r\n",
       ".dni-code-hint {\r\n",
       "    font-style: italic;\r\n",
       "    overflow: hidden;\r\n",
       "    white-space: nowrap;\r\n",
       "}\r\n",
       ".dni-treeview {\r\n",
       "    white-space: nowrap;\r\n",
       "}\r\n",
       ".dni-treeview td {\r\n",
       "    vertical-align: top;\r\n",
       "    text-align: start;\r\n",
       "}\r\n",
       "details.dni-treeview {\r\n",
       "    padding-left: 1em;\r\n",
       "}\r\n",
       "table td {\r\n",
       "    text-align: start;\r\n",
       "}\r\n",
       "table tr { \r\n",
       "    vertical-align: top; \r\n",
       "    margin: 0em 0px;\r\n",
       "}\r\n",
       "table tr td pre \r\n",
       "{ \r\n",
       "    vertical-align: top !important; \r\n",
       "    margin: 0em 0px !important;\r\n",
       "} \r\n",
       "table th {\r\n",
       "    text-align: start;\r\n",
       "}\r\n",
       "</style>"
      ]
     },
     "metadata": {},
     "output_type": "display_data"
    }
   ],
   "source": [
    "let add x y = x + y\n",
    "let add2 = add 2\n",
    "add2 10"
   ]
  },
  {
   "cell_type": "markdown",
   "metadata": {},
   "source": [
    "### Exercise 5\n",
    "\n",
    "1. Write a function *mul* with signature *int -> int -> int* that returns a function which returns x * y.\n",
    "2. Use partial application to define the function *mul5* that multiplies any integer by 5."
   ]
  },
  {
   "cell_type": "code",
   "execution_count": 4,
   "metadata": {
    "dotnet_interactive": {
     "language": "fsharp"
    },
    "vscode": {
     "languageId": "polyglot-notebook"
    }
   },
   "outputs": [
    {
     "data": {
      "text/html": [
       "<div class=\"dni-plaintext\"><pre>50</pre></div><style>\r\n",
       ".dni-code-hint {\r\n",
       "    font-style: italic;\r\n",
       "    overflow: hidden;\r\n",
       "    white-space: nowrap;\r\n",
       "}\r\n",
       ".dni-treeview {\r\n",
       "    white-space: nowrap;\r\n",
       "}\r\n",
       ".dni-treeview td {\r\n",
       "    vertical-align: top;\r\n",
       "    text-align: start;\r\n",
       "}\r\n",
       "details.dni-treeview {\r\n",
       "    padding-left: 1em;\r\n",
       "}\r\n",
       "table td {\r\n",
       "    text-align: start;\r\n",
       "}\r\n",
       "table tr { \r\n",
       "    vertical-align: top; \r\n",
       "    margin: 0em 0px;\r\n",
       "}\r\n",
       "table tr td pre \r\n",
       "{ \r\n",
       "    vertical-align: top !important; \r\n",
       "    margin: 0em 0px !important;\r\n",
       "} \r\n",
       "table th {\r\n",
       "    text-align: start;\r\n",
       "}\r\n",
       "</style>"
      ]
     },
     "metadata": {},
     "output_type": "display_data"
    }
   ],
   "source": [
    "let mul x y = x * y\n",
    "let mul5 = mul 5\n",
    "mul5 10"
   ]
  },
  {
   "cell_type": "markdown",
   "metadata": {},
   "source": [
    "### Exercise 6\n",
    "\n",
    "Use the functions *add2* and *mul5* you defined above (the notebook knows you defined them in the previous code block) to define a function that first adds 2 to its argument and then multiplies the result by 5. Use function composition!\n",
    "\n",
    "Ok... let's make a challenge out of this. 💪\n",
    "\n",
    "How many distinctive ways of defining this function can you think of? The answer sheet contains 4 different definitions."
   ]
  },
  {
   "cell_type": "code",
   "execution_count": 5,
   "metadata": {
    "dotnet_interactive": {
     "language": "fsharp"
    },
    "vscode": {
     "languageId": "polyglot-notebook"
    }
   },
   "outputs": [
    {
     "data": {
      "text/html": [
       "<details open=\"open\" class=\"dni-treeview\"><summary><span class=\"dni-code-hint\"><code>(25, 25, 25, 25)</code></span></summary><div><table><thead><tr></tr></thead><tbody><tr><td>Item1</td><td><div class=\"dni-plaintext\"><pre>25</pre></div></td></tr><tr><td>Item2</td><td><div class=\"dni-plaintext\"><pre>25</pre></div></td></tr><tr><td>Item3</td><td><div class=\"dni-plaintext\"><pre>25</pre></div></td></tr><tr><td>Item4</td><td><div class=\"dni-plaintext\"><pre>25</pre></div></td></tr></tbody></table></div></details><style>\r\n",
       ".dni-code-hint {\r\n",
       "    font-style: italic;\r\n",
       "    overflow: hidden;\r\n",
       "    white-space: nowrap;\r\n",
       "}\r\n",
       ".dni-treeview {\r\n",
       "    white-space: nowrap;\r\n",
       "}\r\n",
       ".dni-treeview td {\r\n",
       "    vertical-align: top;\r\n",
       "    text-align: start;\r\n",
       "}\r\n",
       "details.dni-treeview {\r\n",
       "    padding-left: 1em;\r\n",
       "}\r\n",
       "table td {\r\n",
       "    text-align: start;\r\n",
       "}\r\n",
       "table tr { \r\n",
       "    vertical-align: top; \r\n",
       "    margin: 0em 0px;\r\n",
       "}\r\n",
       "table tr td pre \r\n",
       "{ \r\n",
       "    vertical-align: top !important; \r\n",
       "    margin: 0em 0px !important;\r\n",
       "} \r\n",
       "table th {\r\n",
       "    text-align: start;\r\n",
       "}\r\n",
       "</style>"
      ]
     },
     "metadata": {},
     "output_type": "display_data"
    }
   ],
   "source": [
    "let add2mul5 = add2 >> mul5\n",
    "let add2mul5' = mul5 << add2\n",
    "let add2mul5'' x = mul5 (add2 x)\n",
    "let add2mul5''' = fun x -> mul5 (add2 x)\n",
    "(add2mul5 3, add2mul5' 3, add2mul5'' 3, add2mul5''' 3)"
   ]
  },
  {
   "cell_type": "markdown",
   "metadata": {},
   "source": [
    "### Exercise 7\n",
    "\n",
    "Let's create our first function that takes another function as argument! 😎\n",
    "\n",
    "1. Write a function *applyFunc* with signature *x:int -> y:int -> f:(int -> int -> int) -> int* which applies the function f to x and y.\n",
    "2. Use partial function application to define a funtion that applies the arguments 3 and 5 to any function it gets as argument."
   ]
  },
  {
   "cell_type": "code",
   "execution_count": null,
   "metadata": {
    "dotnet_interactive": {
     "language": "fsharp"
    },
    "vscode": {
     "languageId": "polyglot-notebook"
    }
   },
   "outputs": [],
   "source": [
    "let apply x y f = f x y\n",
    "let apply35 = apply 3 5\n",
    "apply35 add"
   ]
  },
  {
   "cell_type": "markdown",
   "metadata": {},
   "source": [
    "### Exercise 8\n",
    "\n",
    "Write a generic function *sizeDescription* with signature *'T list -> string*, where *'T* is the generic type, that \n",
    "- returns \"short\" if the list contains less than 10 elements\n",
    "- else returns \"long\" if the list contains less than 100 elements\n",
    "- else returns \"very long\"\n"
   ]
  },
  {
   "cell_type": "code",
   "execution_count": null,
   "metadata": {
    "dotnet_interactive": {
     "language": "fsharp"
    },
    "vscode": {
     "languageId": "polyglot-notebook"
    }
   },
   "outputs": [],
   "source": [
    "let sizeDescription<'T> (list: 'T list): string = \n",
    "    if list.Length < 10 then \"short\"\n",
    "    elif list.Length < 100 then \"long\"\n",
    "    else \"very long\"\n",
    "\n",
    "sizeDescription [1..85]"
   ]
  },
  {
   "cell_type": "markdown",
   "metadata": {},
   "source": [
    "### Exercise 9\n",
    "\n",
    "We can represent a tree in a *Map*. The map has keys of type *string* and values of type *string*. When a key-value pair (\"node\", \"parent\") exists in the map it means the parent of \"node\" is \"parent\". The root node is its own parent (we'll need this later).\n",
    "\n",
    "1. Get the following tree in a map:\n",
    "```\n",
    "    root\n",
    "    /  \\\n",
    "   1    2\n",
    "  / \\  / \\\n",
    "11 12 21 22\n",
    "```\n",
    "2. Define a function *parent* that takes the tree (of type *Map\\<string, string\\>*) and a node (of type *string*) and returns the parent node.\n",
    "3. Define a function *insert* that places a new node in the tree. This function takes three arguments: the current tree, the parent, and the new node. It returns the new tree. However! The node should only be added if the parent currently exists in the tree, if the parent does not exist the function *insert* returns the original tree.\n",
    "4. Test your methods on the given tree (test both success and failure!)."
   ]
  },
  {
   "cell_type": "code",
   "execution_count": null,
   "metadata": {
    "dotnet_interactive": {
     "language": "fsharp"
    },
    "vscode": {
     "languageId": "polyglot-notebook"
    }
   },
   "outputs": [],
   "source": [
    "let tree = Map.empty.Add(\"root\", \"root\").Add(\"1\", \"root\").Add(\"2\", \"root\").Add(\"11\", \"1\").Add(\"12\", \"1\").Add(\"21\", \"2\").Add(\"22\", \"2\")\n",
    "\n",
    "let parent (tree: Map<string, string>) (node: string): string = tree.Item(node)\n",
    "let insert (tree: Map<string, string>) (parent: string) (node: string) = \n",
    "    if tree.ContainsKey(parent) then tree.Add(node, parent)\n",
    "    else tree\n",
    "\n",
    "printfn \"the parent of %s is %s\" \"22\" (parent tree \"22\")\n",
    "insert tree \"22\" \"221\" // swap these two lines to easily see the other output\n",
    "insert tree \"23\" \"221\""
   ]
  },
  {
   "cell_type": "markdown",
   "metadata": {},
   "source": [
    "### Exercise 10\n",
    "\n",
    "In a previous exercise you defined a function that takes another function as argument. Now let's define a function that returns a function. \n",
    "\n",
    "I want to play a guessing game and you need to write the code for it! You think of a number and I will shout numbers at you until I guess your number.\n",
    "\n",
    "Define a function *lucky* that takes an integer, the answer of the game, and returns a function. The function it returns takes an integer, my guess, and checks whether it's the correct number. If it is it returns the string \"Lucky number!\" if it's not the correct number it returns \"Sorry, try again...\".\n",
    "\n",
    "Try playing the game!"
   ]
  },
  {
   "cell_type": "code",
   "execution_count": 1,
   "metadata": {
    "dotnet_interactive": {
     "language": "fsharp"
    },
    "vscode": {
     "languageId": "polyglot-notebook"
    }
   },
   "outputs": [
    {
     "name": "stdout",
     "output_type": "stream",
     "text": [
      "Sorry, try again...\n",
      "Lucky number!\n"
     ]
    }
   ],
   "source": [
    "let lucky answer = \n",
    "    fun guess -> \n",
    "        if guess = answer then \"Lucky number!\"\n",
    "        else \"Sorry, try again...\"\n",
    "\n",
    "let play = lucky 8\n",
    "\n",
    "printfn \"%s\" (play 5)\n",
    "printfn \"%s\" (play 8)"
   ]
  },
  {
   "cell_type": "markdown",
   "metadata": {},
   "source": [
    "### Exercise 11\n",
    "\n",
    "Write a function that computes the total amount on the bill at a bar. The function takes a list and a discount strategy. The list contains tuples with the number of drinks, and the price per drink. For example: two beers and three coke result in the following list: [(2, 3.0); (3, 2.5)]. The total price without discount would be 2\\*3.0 + 3\\*2.5 = 13.5. The third parameter to the function is a discount strategy, which is of type int -> float -> float. This function returns the price including discount for one kind of drink. For example given the 2 beers of 3.0 each it returns 6.0 for the full price. Implement the following discount strategies:\n",
    "- Full price\n",
    "- 10% discount\n",
    "- Happy hour: every second drink of the same kind is for free\n",
    "\n",
    "(You can use one mutable variable here to compute the sum, or if you want to practice with lecture 3 already, try doing it with only immutable variables and recursion)\n"
   ]
  },
  {
   "cell_type": "code",
   "execution_count": 1,
   "metadata": {
    "dotnet_interactive": {
     "language": "fsharp"
    },
    "vscode": {
     "languageId": "polyglot-notebook"
    }
   },
   "outputs": [
    {
     "data": {
      "text/html": [
       "<div class=\"dni-plaintext\"><pre>23.5</pre></div><style>\r\n",
       ".dni-code-hint {\r\n",
       "    font-style: italic;\r\n",
       "    overflow: hidden;\r\n",
       "    white-space: nowrap;\r\n",
       "}\r\n",
       ".dni-treeview {\r\n",
       "    white-space: nowrap;\r\n",
       "}\r\n",
       ".dni-treeview td {\r\n",
       "    vertical-align: top;\r\n",
       "    text-align: start;\r\n",
       "}\r\n",
       "details.dni-treeview {\r\n",
       "    padding-left: 1em;\r\n",
       "}\r\n",
       "table td {\r\n",
       "    text-align: start;\r\n",
       "}\r\n",
       "table tr { \r\n",
       "    vertical-align: top; \r\n",
       "    margin: 0em 0px;\r\n",
       "}\r\n",
       "table tr td pre \r\n",
       "{ \r\n",
       "    vertical-align: top !important; \r\n",
       "    margin: 0em 0px !important;\r\n",
       "} \r\n",
       "table th {\r\n",
       "    text-align: start;\r\n",
       "}\r\n",
       "</style>"
      ]
     },
     "metadata": {},
     "output_type": "display_data"
    }
   ],
   "source": [
    "let computeBill strategy tab =\n",
    "    let mutable total = 0.0\n",
    "    for (amount, price) in tab do \n",
    "        total <- total + strategy amount price\n",
    "    total\n",
    "\n",
    "let tab = [(1, 2.3); (3, 3.5); (2, 5.35)]\n",
    "\n",
    "let fullPrice amount price = float amount * price\n",
    "let discount amount price = 0.9 * float amount * price\n",
    "let happyHour amount price = float (amount/2) * price\n",
    "\n",
    "computeBill fullPrice tab"
   ]
  },
  {
   "cell_type": "markdown",
   "metadata": {},
   "source": [
    "### Exercise 12\n",
    "\n",
    "Okay, let's do some function composition gymnastics!\n",
    "\n",
    "Write the following functions using function composition on the three functions `inc`, `dec`, and `double`.\n",
    "\n",
    "1. A function that increments twice\n",
    "2. A function that first doubles, then increments\n",
    "3. A function that first increments, then doubles\n",
    "4. The same function as 3., but now using `<<`, instead of `>>`\n",
    "5. A function that increments, doubles, then decrements"
   ]
  },
  {
   "cell_type": "code",
   "execution_count": null,
   "metadata": {
    "dotnet_interactive": {
     "language": "fsharp"
    },
    "vscode": {
     "languageId": "polyglot-notebook"
    }
   },
   "outputs": [],
   "source": [
    "let inc x = x + 1\n",
    "let dec x = x - 1\n",
    "let double x = 2 * x\n",
    "\n",
    "let incTwice = inc >> inc\n",
    "\n",
    "let doubleInc = double >> inc\n",
    "\n",
    "let incDouble = inc >> double\n",
    "\n",
    "let incDoubleAlternative = double << inc\n",
    "\n",
    "let incDoubleDec = inc >> double >> dec\n",
    "\n",
    "printfn \"%i\" (incTwice 2) // 4\n",
    "printfn \"%i\" (doubleInc 2) // 5\n",
    "printfn \"%i\" (incDouble 2) // 6\n",
    "printfn \"%i\" (incDoubleAlternative 2) // 6\n",
    "printfn \"%i\" (incDoubleDec 3) // 7"
   ]
  },
  {
   "cell_type": "markdown",
   "metadata": {},
   "source": [
    "Cool! You did it! 🤩\n",
    "\n",
    "You can get started on the case study exercise now!"
   ]
  }
 ],
 "metadata": {
  "kernelspec": {
   "display_name": ".NET (F#)",
   "language": "F#",
   "name": ".net-fsharp"
  },
  "language_info": {
   "name": "F#"
  }
 },
 "nbformat": 4,
 "nbformat_minor": 2
}
