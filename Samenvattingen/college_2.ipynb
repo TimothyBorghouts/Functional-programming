{
 "cells": [
  {
   "cell_type": "markdown",
   "metadata": {},
   "source": [
    "# Functions as first class citizens - College 2\n",
    "\n",
    "Een immutable data type kan niet meer worden aangepast nadat het is aangemaakt.\n",
    "\n",
    "F# is niet strongly typed en je hoeft dus niet overal een type bij te zetten.\n",
    "\n",
    "Je kunt alleen iets aan een list of map toevoegen door een nieuwe list of map te creëren.\n",
    "\n",
    "Het keyword mutable kan er toch voor zorgen dat een object gewijzigd kan worden. Op het tentamen is dit eigenlijk niet de bedoeling!\n",
    "\n",
    "//Map is immutable\n",
    "\n",
    "//Er zijn immutable en mutable data types\n",
    "\n",
    "//Dictionary is mutable\n",
    "\n",
    "//Map is immutable\n",
    "\n",
    "//List is immutable\n",
    "\n",
    "//Array is mutable\n",
    "\n",
    "//String is immutable\n",
    "\n",
    "//Tuple is immutable"
   ]
  },
  {
   "cell_type": "code",
   "execution_count": 1,
   "metadata": {
    "dotnet_interactive": {
     "language": "fsharp"
    },
    "polyglot_notebook": {
     "kernelName": "fsharp"
    },
    "vscode": {
     "languageId": "polyglot-notebook"
    }
   },
   "outputs": [
    {
     "name": "stderr",
     "output_type": "stream",
     "text": [
      "Stopped due to error\n"
     ]
    },
    {
     "ename": "Error",
     "evalue": "input.fsx (3,1)-(3,7) typecheck error This value is not mutable. Consider using the mutable keyword, e.g. 'let mutable a = expression'.\ninput.fsx (6,1)-(6,7) typecheck error This value is not mutable. Consider using the mutable keyword, e.g. 'let mutable x = expression'.",
     "output_type": "error",
     "traceback": [
      "input.fsx (3,1)-(3,7) typecheck error This value is not mutable. Consider using the mutable keyword, e.g. 'let mutable a = expression'.\n",
      "input.fsx (6,1)-(6,7) typecheck error This value is not mutable. Consider using the mutable keyword, e.g. 'let mutable x = expression'."
     ]
    }
   ],
   "source": [
    "let a: int = 5\n",
    "\n",
    "a <- 6 //Error: x is immutable\n",
    "\n",
    "let x = 5\n",
    "x <- 6 //Error: x is immutable"
   ]
  },
  {
   "cell_type": "code",
   "execution_count": 3,
   "metadata": {
    "dotnet_interactive": {
     "language": "fsharp"
    },
    "polyglot_notebook": {
     "kernelName": "fsharp"
    },
    "vscode": {
     "languageId": "polyglot-notebook"
    }
   },
   "outputs": [
    {
     "ename": "Error",
     "evalue": "input.fsx (2,20)-(2,25) typecheck error The value, namespace, type or module 'myMap' is not defined. Maybe you want one of the following:\r\n   Map\ninput.fsx (3,9)-(3,13) typecheck error Type mismatch. Expecting a\n    '(TextWriter -> 'a -> unit) -> 'a -> 'b -> 'c'    \nbut given a\n    '(TextWriter -> 'a -> unit) -> 'a -> unit'    \nThe type ''a -> 'b' does not match the type 'unit'\ninput.fsx (3,14)-(3,18) typecheck error This expression was expected to have type\n    'TextWriter -> 'a -> unit'    \nbut here has type\n    'Map<string,int>'    \ninput.fsx (4,9)-(4,13) typecheck error Type mismatch. Expecting a\n    '(TextWriter -> 'a -> unit) -> 'a -> 'b -> 'c'    \nbut given a\n    '(TextWriter -> 'a -> unit) -> 'a -> unit'    \nThe type ''a -> 'b' does not match the type 'unit'\ninput.fsx (20,13)-(20,20) typecheck error Method or object constructor 'Add' is not static",
     "output_type": "error",
     "traceback": [
      "input.fsx (2,20)-(2,25) typecheck error The value, namespace, type or module 'myMap' is not defined. Maybe you want one of the following:\r\n",
      "   Map\n",
      "input.fsx (3,9)-(3,13) typecheck error Type mismatch. Expecting a\n",
      "    '(TextWriter -> 'a -> unit) -> 'a -> 'b -> 'c'    \n",
      "but given a\n",
      "    '(TextWriter -> 'a -> unit) -> 'a -> unit'    \n",
      "The type ''a -> 'b' does not match the type 'unit'\n",
      "input.fsx (3,14)-(3,18) typecheck error This expression was expected to have type\n",
      "    'TextWriter -> 'a -> unit'    \n",
      "but here has type\n",
      "    'Map<string,int>'    \n",
      "input.fsx (4,9)-(4,13) typecheck error Type mismatch. Expecting a\n",
      "    '(TextWriter -> 'a -> unit) -> 'a -> 'b -> 'c'    \n",
      "but given a\n",
      "    '(TextWriter -> 'a -> unit) -> 'a -> unit'    \n",
      "The type ''a -> 'b' does not match the type 'unit'\n",
      "input.fsx (20,13)-(20,20) typecheck error Method or object constructor 'Add' is not static"
     ]
    }
   ],
   "source": [
    "let map1 = Map [(\"Bob\", 27)]\n",
    "let myUpdatedMap = myMap.Add (\"Aisha\", 36)\n",
    "printfn \"%a\" map1 Map [(\"Bob\", 27); (\"Aisha\", 36)]\n",
    "printfn \"%a\" myUpdatedMap Map [(\"Bob\", 27); (\"Aisha\", 36)]\n",
    "//wanneer je .Add aanroept dan geeft die een nieuwe map terug dus stop je die in een nieuwe variabele\n",
    "//Je moet dus de nieuwe map opvangen in een nieuwe variabele\n",
    "\n",
    "//De map wordt nooit gewijzigd zelfs als de map mutable is.\n",
    "//Wat nu wel kan met het mutable keyword dan\n",
    "//De variabele wordt mutable dus je kunt er wel wijzigingen in aanbrengen\n",
    "let mutable myMap = Map [(\"Bob\", 27)]\n",
    "let myNewMap = myMap.Add(\"Timothy\", 20)\n",
    "\n",
    "myMap = myMap.Add (\"Aisha\", 36)\n",
    "//Dit is nu een vergelijking en is dus geen wijziging van de map\n",
    "\n",
    "//Shadowing\n",
    "let myMap = Map [(\"Bob\", 27)]\n",
    "\n",
    "let myMap = Map.Add (\"Ruud\", 27)\n",
    "\n",
    "\n",
    "//Immutable collections: List\n",
    "let list = [1; 2; 3; 4; 5]\n",
    "let list2 = [6; 7; 8; 9; 10]\n",
    "let list3 = list @ list2 //Concatenation\n",
    "list.Head //1\n",
    "list.Tail //2, 3, 4, 5\n",
    "list.Tail.Head //2\n",
    "list.Tail.Tail //3, 4, 5\n",
    "list.Tail.Tail.Tail //4, 5\n",
    "\n",
    "let head = list.Head\n",
    "\n",
    "let l = [1..10]\n",
    "l\n",
    "\n",
    "let l2 = 1 :: []\n",
    "l2\n",
    "\n",
    "let t = (\"Ruud\", 27, \"Amsterdam\")\n",
    "let name, _, work = t\n",
    "work\n",
    "\n",
    "//immutables maken multithreading makkelijker doordat functies tegelijkertijd kunnen worden uitgevoerd\n",
    "//Dit is omdat je niet bang hoeft te zijn dat een andere functie de data veranderd\n"
   ]
  },
  {
   "cell_type": "code",
   "execution_count": null,
   "metadata": {
    "dotnet_interactive": {
     "language": "fsharp"
    },
    "polyglot_notebook": {
     "kernelName": "fsharp"
    },
    "vscode": {
     "languageId": "polyglot-notebook"
    }
   },
   "outputs": [],
   "source": [
    "//First-class functions\n",
    "let add x y  = x + y\n",
    "let mul x y = x * y\n",
    "let ops = Map [(\"add\", add); (\"mul\", mul)]\n",
    "ops.Item \"add\" 5 5\n",
    "\n",
    "let x = add\n",
    "\n",
    "\n",
    "let f strategy x y = strategy x y\n",
    "let t s = if s = \"add\" then add else mul\n",
    "\n",
    "\n",
    "\n",
    "f add 5 5\n",
    "f mul 5 5\n",
    "f x 5 5\n",
    "//lampda functie\n",
    "f(fun x y -> x + y) 5 5\n",
    "\n",
    "\n",
    "//Higer-order functions\n",
    "//Functie doet iets met een andere functie\n",
    "//Takes a function as a parameter\n",
    "let functWithFuncArg (num: int) (func: int -> int) : int = func num\n",
    "\n",
    "//or returns a function as a result"
   ]
  },
  {
   "cell_type": "code",
   "execution_count": null,
   "metadata": {
    "dotnet_interactive": {
     "language": "fsharp"
    },
    "polyglot_notebook": {
     "kernelName": "fsharp"
    },
    "vscode": {
     "languageId": "polyglot-notebook"
    }
   },
   "outputs": [],
   "source": [
    "//Function signatures\n",
    "//Je geeft aan wat is het type van de input en wat is het type van de output\n",
    "//Je hebt altijd maar een return waarde\n",
    "\n",
    "let functie x = x + 5\n",
    "let functie (x: int) = int + 5\n",
    "//Dit is een functie die een int neemt en een int teruggeeft\n",
    "\n",
    "let addFive x = x + 5\n",
    "\n",
    "let f st = st 6\n",
    "\n",
    "f addFive\n",
    "\n",
    "//Een high order function is een functie die een andere functie als parameter neemt of een functie teruggeeft\n",
    "\n",
    "\n",
    "// functie met type int -> int -> int\n",
    "let add x y = x + y\n",
    "\n",
    "let addFive = add 5\n",
    "\n",
    "addFive 3\n",
    "\n",
    "let add = fun x y -> x + y"
   ]
  },
  {
   "cell_type": "code",
   "execution_count": null,
   "metadata": {
    "dotnet_interactive": {
     "language": "fsharp"
    },
    "polyglot_notebook": {
     "kernelName": "fsharp"
    },
    "vscode": {
     "languageId": "polyglot-notebook"
    }
   },
   "outputs": [],
   "source": [
    "//Function composition\n",
    "let mul (x: int) (y: int) = x * y\n",
    "let add x y = x + y\n",
    "\n",
    "let addAndMul x y =\n",
    "    mul (add x y) 5\n",
    "\n",
    "    \n",
    "let result = addAndMul 5 5\n",
    "result"
   ]
  }
 ],
 "metadata": {
  "kernelspec": {
   "display_name": "base",
   "language": "python",
   "name": "python3"
  },
  "language_info": {
   "codemirror_mode": {
    "name": "ipython",
    "version": 3
   },
   "file_extension": ".py",
   "mimetype": "text/x-python",
   "name": "python",
   "nbconvert_exporter": "python",
   "pygments_lexer": "ipython3",
   "version": "3.9.13"
  },
  "polyglot_notebook": {
   "kernelInfo": {
    "defaultKernelName": "csharp",
    "items": [
     {
      "aliases": [],
      "name": "csharp"
     }
    ]
   }
  }
 },
 "nbformat": 4,
 "nbformat_minor": 2
}
