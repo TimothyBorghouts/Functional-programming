{
 "cells": [
  {
   "cell_type": "markdown",
   "metadata": {},
   "source": [
    "# Recursion with pattern matching\n",
    "\n",
    "This set of exercises is meant to make you skilled at writing succinct recursive functions using pattern matching.\n",
    "\n",
    "Good luck!"
   ]
  },
  {
   "cell_type": "markdown",
   "metadata": {},
   "source": [
    "### Exercise 1\n",
    "\n",
    "Given the list of people below, do the following using operators on lists (for example `map`, `filter`, etc.).\n",
    "\n",
    "1. Add \"Dear \" in front of each name. Result type: `string list`\n",
    "2. Create a function `string -> string` that adds \"Dear \" in front of the string. Apply this function to each name, then print each result on the console on a separate line.\n",
    "3. Show a list of all letters (including doubles).\n",
    "4. Show a list of all unique letters (Case-sensitive).\n",
    "5. Add together the size (length) of all names.\n",
    "6. Create the string \"Dear *name1*, *name2*, ..., *nameN*,\" with `fold`.\n",
    "7. How many people have \"an\" (case-insensitive, this requires an extra step!) in their name?\n",
    "8. How many names are 3 letters long?\n",
    "9. Do all names contain a capital letter? (use forall)\n",
    "10. Is there any name with the letter y or q in it? (use exists)\n",
    "11. Show all names with the letter y or q in them (result type is `string list`).\n",
    "12. Can you group the names by their size? (check [groupBy](https://fsharp.github.io/fsharp-core-docs/reference/fsharp-collections-listmodule.html#groupBy))\n",
    "13. Are there duplicate names in the list?"
   ]
  },
  {
   "cell_type": "code",
   "execution_count": 5,
   "metadata": {
    "dotnet_interactive": {
     "language": "fsharp"
    },
    "vscode": {
     "languageId": "polyglot-notebook"
    }
   },
   "outputs": [
    {
     "name": "stdout",
     "output_type": "stream",
     "text": [
      "Dear Alfred\n",
      "Dear Boris\n",
      "Dear Ann\n",
      "Dear Jan\n",
      "Dear Anya\n",
      "Dear Monique\n",
      "Dear Mo\n",
      "Dear Christophe\n",
      "Dear Jan\n",
      "Dear Joris\n",
      "Dear Bert\n",
      "Dear Olaf\n"
     ]
    }
   ],
   "source": [
    "let people = [\"Alfred\"; \"Boris\"; \"Ann\"; \"Jan\"; \"Anya\"; \"Monique\"; \"Mo\"; \"Christophe\"; \"Jan\"; \"Joris\"; \"Bert\"; \"Olaf\"]\n",
    "let printAllNamesOfList (list: string list) = List.iter (printfn \"%s\") list\n",
    "\n",
    "//part 1\n",
    "let addDear (list: string list) = List.map (fun name -> \"Dear \" + name) list\n",
    "let result = addDear people\n",
    "\n",
    "\n",
    "\n",
    "//part 2\n",
    "let addDear2 (x: string) = \"Dear \" + x\n",
    "\n",
    "//part 3\n",
    "let giveAllLetters (list: string list) = people.IsEmpty\n",
    "\n",
    "//part 4\n",
    "\n",
    "\n"
   ]
  },
  {
   "cell_type": "markdown",
   "metadata": {},
   "source": [
    "### Exercise 2\n",
    "\n",
    "Write the following functions. Use recursion and pattern matching.\n",
    "\n",
    "1. `size`: `'a list -> int` gives the size of the list (generic!)\n",
    "2. `sum`: `int list -> int` gives the sum of all integers\n",
    "3. `max`: `int list -> int` gives the largest value in the list\n",
    "4. `replicate`: `string -> int -> string` replicates the string that number of times"
   ]
  },
  {
   "cell_type": "code",
   "execution_count": 14,
   "metadata": {
    "dotnet_interactive": {
     "language": "fsharp"
    },
    "vscode": {
     "languageId": "polyglot-notebook"
    }
   },
   "outputs": [
    {
     "name": "stdout",
     "output_type": "stream",
     "text": [
      "5\n",
      "15\n",
      "5\n",
      "hoihoihoihoihoihoi\n"
     ]
    }
   ],
   "source": [
    "let nums = [1;2;3;4;5]\n",
    "\n",
    "let rec size (list: 'a list) (result: int)= \n",
    "    match list with\n",
    "    | [] -> result\n",
    "    | head :: tail -> size tail result + 1\n",
    "\n",
    "printfn $\"{size nums 0}\"\n",
    "\n",
    "let rec sum (list: int list) (result: int) =\n",
    "    match list with\n",
    "    | [] -> result\n",
    "    | head :: tail -> sum tail (result + head)\n",
    "\n",
    "printfn $\"{sum nums 0}\"\n",
    "\n",
    "let rec max (list: int list) (result: int) =\n",
    "    match list with\n",
    "    | [] -> result\n",
    "    | head :: tail when head > result -> max tail head\n",
    "\n",
    "let highestNumber = max nums 0\n",
    "printfn $\"{highestNumber}\"\n",
    "\n",
    "// let rec replicate (x: string) (y: int) (result: string) = \n",
    "//     match y with\n",
    "//     | 0 -> result\n",
    "//     | _ -> x + replicate x (y-1)\n",
    "\n",
    "let rec replicateB (s: string) (n: int) =\n",
    "    match n with\n",
    "        | n when n > 0 -> s + replicateB s (n-1)\n",
    "        | _ -> \"\"\n",
    "\n",
    "let replicatehoi6 = replicateB \"hoi\" 6\n",
    "printfn $\"{replicatehoi6}\"\n"
   ]
  },
  {
   "cell_type": "markdown",
   "metadata": {},
   "source": [
    "### Exercise 3\n",
    "\n",
    "More recursive functions with pattern matching! These functions work like those in the lecture slides or in most languages, but you have to implement them yourself!\n",
    "\n",
    "1. `map`: `('a -> 'b) -> 'a list -> 'b list` maps a list of values to another list of values.\n",
    "2. `foreach`: `('a -> unit) -> 'a list -> unit` calls a function for each element in the list.\n",
    "3. `reduce`: `('a -> 'a -> 'a) -> 'a list -> 'a` reduces a list pairwise to one value\n",
    "4. `count`: `('a -> bool) -> 'a list -> int` count the number of times the function returns true when applied on each element.\n",
    "5. `forall`: `('a -> bool) -> 'a list -> bool` checks whether the function returns true for each element in the list.\n",
    "6. `exists`: `('a -> bool) -> 'a list -> bool` checks whether any of the elements in the list make the function return true.\n",
    "7. `filter`: `('a -> bool) -> 'a list -> 'a list` filters out any value for which the function returns false.\n",
    "8. `take`: `int -> 'a list -> 'a list` takes the first n values from the list.\n",
    "9. `drop`: `int -> 'a list -> 'a list` ignores the first n values from the list.\n",
    "10. `contains`: `'a -> 'a list -> bool` checks whether a value is in the list.\n",
    "11. `last`: `'a list -> 'a` returns the last element of the list.\n",
    "12. `reverse`: `'a list -> 'a list` reverses the list."
   ]
  },
  {
   "cell_type": "code",
   "execution_count": null,
   "metadata": {
    "dotnet_interactive": {
     "language": "fsharp"
    },
    "vscode": {
     "languageId": "polyglot-notebook"
    }
   },
   "outputs": [],
   "source": [
    "// for testing\n",
    "let nums = [1;2;3;4;5]\n",
    "\n",
    "let rec map  \n"
   ]
  },
  {
   "cell_type": "markdown",
   "metadata": {},
   "source": [
    "### Exercise 4\n",
    "\n",
    "Ok... two more recursive functions 😩\n",
    "\n",
    "1. `swap`: `('a, 'b) list -> ('b, 'a) list` swaps all tuples in a list around.\n",
    "2. `zip`: `'a list -> 'a list -> ('a, 'a) list` zips together two lists into a list of tuples."
   ]
  },
  {
   "cell_type": "code",
   "execution_count": null,
   "metadata": {
    "dotnet_interactive": {
     "language": "fsharp"
    },
    "vscode": {
     "languageId": "polyglot-notebook"
    }
   },
   "outputs": [],
   "source": []
  }
 ],
 "metadata": {
  "kernelspec": {
   "display_name": ".NET (F#)",
   "language": "F#",
   "name": ".net-fsharp"
  },
  "language_info": {
   "name": "F#"
  }
 },
 "nbformat": 4,
 "nbformat_minor": 2
}
