{
 "cells": [
  {
   "cell_type": "markdown",
   "metadata": {},
   "source": [
    "# Warm up exercises\n",
    "\n",
    "These exercises are meant to get you started with F#. Good luck! 🤞"
   ]
  },
  {
   "cell_type": "markdown",
   "metadata": {},
   "source": [
    "### Exercise 1: numbers\n",
    "\n",
    "<ol type=\"a\">\n",
    "    <li>Define an integer <i>x</i> with value 5, using type inference (this one's easier than you might think).</li>\n",
    "    <li>Define a float <i>y</i> that is the sum of 1.5 and 5... (I know it gives a warning, try solving it! What does this teach you?)</li>\n",
    "    <li>Define a double <i>z</i> with value 3.14. Are you sure it's a double and not a float? Did you use type inference?</li>\n",
    "</ol>"
   ]
  },
  {
   "cell_type": "code",
   "execution_count": 1,
   "metadata": {
    "dotnet_interactive": {
     "language": "fsharp"
    },
    "vscode": {
     "languageId": "polyglot-notebook"
    }
   },
   "outputs": [
    {
     "name": "stdout",
     "output_type": "stream",
     "text": [
      "Integer: 5, Float: 6.5, Double: 3.14\n"
     ]
    }
   ],
   "source": [
    "let x: int = 5\n",
    "let y: float = 1.5 + (x : float)\n",
    "let z: double = 3.14\n",
    "\n",
    "printfn $\"Integer: {x}, Float: {y}, Double: {z}\""
   ]
  },
  {
   "cell_type": "markdown",
   "metadata": {},
   "source": [
    "### Exercise 2: strings\n",
    "\n",
    "<ol type=\"a\">\n",
    "    <li>Define a string <i>s</i> with value \"this is my first F# string\"</li>\n",
    "    <li>Extract the character at position 18 from this string (consult the [docs](https://docs.microsoft.com/en-us/dotnet/fsharp/language-reference/strings) if you don't know how)</li>\n",
    "    <li>You've seen you can make a range of numbers with 0 .. 99, could we use this to extract the substring \"F# string\" from <i>s</i>?</li>\n",
    "    <li>Try to concatenate the two strings \"sum of \" and \"strings\" together to get one string \"sum of strings\".</li>\n",
    "</ol>"
   ]
  },
  {
   "cell_type": "code",
   "execution_count": 59,
   "metadata": {
    "dotnet_interactive": {
     "language": "fsharp"
    },
    "vscode": {
     "languageId": "polyglot-notebook"
    }
   },
   "outputs": [
    {
     "name": "stdout",
     "output_type": "stream",
     "text": [
      "#\n",
      "F# string\n",
      "sum of strings\n",
      "sum of strings\n"
     ]
    }
   ],
   "source": [
    "let s: string = \"this is my first F# string\"\n",
    "//print the character at position 18\n",
    "printfn \"%c\" s[18]\n",
    "//print the substring \"F# string\"\n",
    "printfn \"%s\" s.[17..25]\n",
    "//print concatenate \"sum of\" and \"strings\"\n",
    "printfn \"%s\" (\"sum of \" + \"strings\")\n",
    "//print concatenate of string somof and strings\n",
    "let somof: string = \"sum of\"\n",
    "let strings: string = \"strings\"\n",
    "printfn \"%s\" $\"{somof} {strings}\""
   ]
  },
  {
   "cell_type": "markdown",
   "metadata": {},
   "source": [
    "### Exercise 3: tuples\n",
    "\n",
    "Maybe you've seen tuples in another language (for example Python). It's basically a little group of values, where the order of the values is important. Take a look at the [docs](https://docs.microsoft.com/en-us/dotnet/fsharp/language-reference/tuples) if you need. \n",
    "\n",
    "<ol type=\"a\">\n",
    "    <li>Define a tuple <i>t</i> with the values 1 and 2 in it.</li>\n",
    "    <li>Try to figure out what the type of tuple <i>t</i> is. (psst... try hovering your cursor over <i>t</i> in the definition you just wrote.)</li>\n",
    "    <li>Check that you know how to define the explicit type of a tuple by defining tuple <i>u</i> with 1 and \"two\" giving the explicit type of <i>u</i>.</li>\n",
    "    <li>You just learned that the values in a tuple do not need to be of the same type! Now create a tuple <i>v</i> that has the tuples <i>t</i> and <i>u</i> as values (so tuples can go in other tuples!)</li>\n",
    "    <li>Now let's get a value out of a tuple. We can't use indexes, but we'll need to use a technique called destructuring: let (a, b) = (1, 2) assigns 1 to <i>a</i> and 2 to <i>b</i>. Try to get out the integer and the string from tuple <i>u</i>.</li>\n",
    "</ol>\n",
    "\n",
    "Btw there's destructuring in other languages too, such as in (Java/Type)Script: [JS docs](https://developer.mozilla.org/en-US/docs/Web/JavaScript/Reference/Operators/Destructuring_assignment)."
   ]
  },
  {
   "cell_type": "code",
   "execution_count": 60,
   "metadata": {
    "dotnet_interactive": {
     "language": "fsharp"
    },
    "vscode": {
     "languageId": "polyglot-notebook"
    }
   },
   "outputs": [
    {
     "name": "stdout",
     "output_type": "stream",
     "text": [
      "1, two\n"
     ]
    }
   ],
   "source": [
    "//tuple of type integer\n",
    "let t = (1, 2)\n",
    "//typle with integer and string\n",
    "let u = (1, \"two\")\n",
    "// ! let u2: int * string = (1, \"two\")\n",
    "//tuple with tuple t and u\n",
    "let v = (t, u)\n",
    "//Get the values out the tuple and print them\n",
    "let (a, b) = u\n",
    "printfn $\"{a}, {b}\""
   ]
  },
  {
   "cell_type": "markdown",
   "metadata": {},
   "source": [
    "### Exercise 4: functions\n",
    "\n",
    "<ol type=\"a\">\n",
    "    <li>Define a function <i>successor</i> that returns the <a href=\"https://en.wikipedia.org/wiki/Successor_function\">successor of a number</a> x (that is x+1). Don't forget to test it on some values!</li>\n",
    "    <li>Define a function <i>doubleMe</i> that takes an argument x and doubles it with the +. (Try it on numbers and strings! Note however that you cannot use the function on integers and strings in the same program... why is that? <sub>(think of type inference!)</sub>)</li>\n",
    "    <li>Define a function <i>doubleUs</i> that takes two arguments and doubles both arguments by calling <i>doubleMe</i>. Now we want to return both doubled values.... Ah! Tuples! Make <i>doubleUs</i> return a tuple with the doubled value of the first parameter in the first spot and that of the second parameter in the second spot.</li>\n",
    "    <li>Define a function <i>isEven</i> with an explicit type (to check that you understand function types). The function of course takes an integer and returns a boolean, telling you whether the number is even. (If you get \"type int does not support the operator '==', think back of the start of the warm up notebook!)</li>\n",
    "</ol>"
   ]
  },
  {
   "cell_type": "code",
   "execution_count": 62,
   "metadata": {
    "dotnet_interactive": {
     "language": "fsharp"
    },
    "vscode": {
     "languageId": "polyglot-notebook"
    }
   },
   "outputs": [
    {
     "name": "stdout",
     "output_type": "stream",
     "text": [
      "The successor of 10 is 11\n",
      "The double of 10 is 20\n",
      "The double of 2 and 3 are (4, 6)\n",
      "Is number 3 even: False\n"
     ]
    }
   ],
   "source": [
    "// Add one\n",
    "let successor x = x + 1\n",
    "\n",
    "let result1 = successor 10\n",
    "printfn $\"The successor of 10 is {result1}\"\n",
    "\n",
    "// Double number\n",
    "let doubleMe x = x * 2\n",
    "\n",
    "let result2 = doubleMe 10\n",
    "printfn $\"The double of 10 is {result2}\"\n",
    "\n",
    "// Double both numbers with doubleMe and return in tuple\n",
    "let doubleUs x  y = (doubleMe x, doubleMe y)\n",
    "\n",
    "let result3 = doubleUs 2 3\n",
    "printfn $\"The double of 2 and 3 are {result3}\"\n",
    "\n",
    "// Check if is even and return true or false\n",
    "let isEven (x: int): bool = (x % 2) = 0\n",
    "\n",
    "let result4: bool = isEven 3\n",
    "printfn $\"Is number 3 even: {result4}\"\n"
   ]
  },
  {
   "cell_type": "markdown",
   "metadata": {},
   "source": [
    "### Exercise 5: conditionals\n",
    "\n",
    "The `if` keyword is a bit different in F# than most other languages. It is actually a function that returns a value!\n",
    "\n",
    "Check out this code:"
   ]
  },
  {
   "cell_type": "code",
   "execution_count": null,
   "metadata": {
    "dotnet_interactive": {
     "language": "fsharp"
    },
    "vscode": {
     "languageId": "polyglot-notebook"
    }
   },
   "outputs": [],
   "source": [
    "let x = 5\n",
    "let result = if x > 3 then \"larger than three\" else \"smaller than or equal to three\"\n",
    "printfn \"%s\" result"
   ]
  },
  {
   "cell_type": "markdown",
   "metadata": {},
   "source": [
    "You might know this as the [ternary operator](https://en.wikipedia.org/wiki/%3F:) in a lot of other languages: "
   ]
  },
  {
   "cell_type": "code",
   "execution_count": null,
   "metadata": {
    "dotnet_interactive": {
     "language": "csharp"
    },
    "vscode": {
     "languageId": "polyglot-notebook"
    }
   },
   "outputs": [],
   "source": [
    "var x = 5;\n",
    "var result = x > 3 ? \"larger than three\" : \"smaller than or equal to three\";\n",
    "Console.WriteLine(\"{0}\", result);"
   ]
  },
  {
   "cell_type": "markdown",
   "metadata": {},
   "source": [
    "Now for the questions:\n",
    "\n",
    "<ol type=\"a\">\n",
    "    <li>Write a function <i>verbose</i> that takes an integer and returns the string \"larger than three\", or \"equal to three\", or \"smaller than three\". Of course it should return the string that is true.</i>\n",
    "    <li>Try writing a function <i>forbidden</i> that takes an integer <i>x</i> returns x + 5 when x is larger than 3 and otherwise returns the string \"x is small\". Why is this not allowed? Can you understand the error the compiler gives?</i>\n",
    "</ol>"
   ]
  },
  {
   "cell_type": "code",
   "execution_count": 72,
   "metadata": {
    "dotnet_interactive": {
     "language": "fsharp"
    },
    "vscode": {
     "languageId": "polyglot-notebook"
    }
   },
   "outputs": [
    {
     "name": "stderr",
     "output_type": "stream",
     "text": [
      "Stopped due to error\n"
     ]
    },
    {
     "ename": "Error",
     "evalue": "input.fsx (6,53)-(6,65) typecheck error All branches of an 'if' expression must return values implicitly convertible to the type of the first branch, which here is 'int'. This branch returns a value of type 'string'.\ninput.fsx (8,14)-(8,26) typecheck error The type 'string' is not compatible with any of the types byte,int16,int32,int64,sbyte,uint16,uint32,uint64,nativeint,unativeint, arising from the use of a printf-style format string",
     "output_type": "error",
     "traceback": [
      "input.fsx (6,53)-(6,65) typecheck error All branches of an 'if' expression must return values implicitly convertible to the type of the first branch, which here is 'int'. This branch returns a value of type 'string'.\n",
      "input.fsx (8,14)-(8,26) typecheck error The type 'string' is not compatible with any of the types byte,int16,int32,int64,sbyte,uint16,uint32,uint64,nativeint,unativeint, arising from the use of a printf-style format string"
     ]
    }
   ],
   "source": [
    "let verbose (x: int) = if x > 3 then \"larger than three\" else \"smaller than three\"\n",
    "let result = verbose 5\n",
    "printfn \"%s\" $\"{result}\"\n",
    "\n",
    "\n",
    "let forbidden (x: int) = if x > 3 then x + 5 else \"x is small\"\n",
    "let result2 = forbidden 5\n",
    "printfn \"%d\" $\"{result2}\""
   ]
  },
  {
   "cell_type": "markdown",
   "metadata": {},
   "source": [
    "### Exercise 6: loops\n",
    "\n",
    "Don't forget there are [docs](https://docs.microsoft.com/en-us/dotnet/fsharp/language-reference/loops-for-in-expression)! 😉\n",
    "\n",
    "<ol type=\"a\">\n",
    "    <li>Write a loop that prints out each number between 10 and 20.</li>\n",
    "    <li>Write a loop that prints out each number between 10 and 100 if the number is divisible by 7.</li>\n",
    "</ol>"
   ]
  },
  {
   "cell_type": "code",
   "execution_count": 2,
   "metadata": {
    "dotnet_interactive": {
     "language": "fsharp"
    },
    "vscode": {
     "languageId": "polyglot-notebook"
    }
   },
   "outputs": [
    {
     "name": "stdout",
     "output_type": "stream",
     "text": [
      "Numbers 10 to 10\n",
      "10\n",
      "11\n",
      "12\n",
      "13\n",
      "14\n",
      "15\n",
      "16\n",
      "17\n",
      "18\n",
      "19\n",
      "20\n",
      "Numbers 10 to 100 and divisible by 7\n",
      "14\n",
      "21\n",
      "28\n",
      "35\n",
      "42\n",
      "49\n",
      "56\n",
      "63\n",
      "70\n",
      "77\n",
      "84\n",
      "91\n",
      "98\n"
     ]
    }
   ],
   "source": [
    "let numbers = [10..20]\n",
    "let numbersDivisibleBy7 = [for i in [ 10..100] do if i % 7 = 0 then yield i]\n",
    "\n",
    "let tuple = (1, 2, 3)\n",
    "\n",
    "printfn $\"Numbers 10 to 10\"\n",
    "for x in numbers do\n",
    "    printfn \"%d\" x\n",
    "\n",
    "printfn $\"Numbers 10 to 100 and divisible by 7\"\n",
    "for x in numbersDivisibleBy7 do\n",
    "    printfn \"%d\" x\n"
   ]
  },
  {
   "cell_type": "markdown",
   "metadata": {},
   "source": [
    "# Fin\n",
    "\n",
    "Great! You got started with F#! 🥳\n",
    "\n",
    "You're now ready for the next lecture. In the meantime you should start on the case study exercise that returns in each lecture. It's well worth your time as one of the exam questions will be based on it!"
   ]
  }
 ],
 "metadata": {
  "kernelspec": {
   "display_name": ".NET (F#)",
   "language": "F#",
   "name": ".net-fsharp"
  },
  "language_info": {
   "name": "F#"
  }
 },
 "nbformat": 4,
 "nbformat_minor": 2
}
