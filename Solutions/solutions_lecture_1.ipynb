{
 "cells": [
  {
   "cell_type": "markdown",
   "metadata": {},
   "source": [
    "# Warm up exercises\n",
    "\n",
    "These exercises are meant to get you started with F#. Good luck! 🤞"
   ]
  },
  {
   "cell_type": "markdown",
   "metadata": {},
   "source": [
    "### Exercise 1: numbers\n",
    "\n",
    "<ol type=\"a\">\n",
    "    <li>Define an integer <i>x</i> with value 5, using type inference (this one's easier than you might think).</li>\n",
    "    <li>Define a float <i>y</i> that is the sum of 1.5 and 5... (I know it gives a warning, try solving it! What does this teach you?)</li>\n",
    "    <li>Define a double <i>z</i> with value 3.14. Are you sure it's a double and not a float? Did you use type inference?</li>\n",
    "</ol>"
   ]
  },
  {
   "cell_type": "code",
   "execution_count": null,
   "metadata": {
    "dotnet_interactive": {
     "language": "fsharp"
    },
    "vscode": {
     "languageId": "polyglot-notebook"
    }
   },
   "outputs": [],
   "source": [
    "let x = 5 // type inference means the compiler knows x has to be an integer, since you're assigning 5 to it\n",
    "let y = 1.5 + float 5 // you need the float cast, so now you know there is no implicit conversion!\n",
    "let z: double = 3.14 // if you omit the explicit type double z has type float and not double!"
   ]
  },
  {
   "cell_type": "markdown",
   "metadata": {},
   "source": [
    "### Exercise 2: strings\n",
    "\n",
    "<ol type=\"a\">\n",
    "    <li>Define a string <i>s</i> with value \"this is my first F# string\"</li>\n",
    "    <li>Extract the character at position 18 from this string (consult the [docs](https://docs.microsoft.com/en-us/dotnet/fsharp/language-reference/strings) if you don't know how)</li>\n",
    "    <li>You've seen you can make a range of numbers with 0 .. 99, could we use this to extract the substring \"F# string\" from <i>s</i>?</li>\n",
    "    <li>Try to concatenate the two strings \"sum of \" and \"strings\" together to get one string \"sum of strings\".</li>\n",
    "</ol>"
   ]
  },
  {
   "cell_type": "code",
   "execution_count": null,
   "metadata": {
    "dotnet_interactive": {
     "language": "fsharp"
    },
    "vscode": {
     "languageId": "polyglot-notebook"
    }
   },
   "outputs": [],
   "source": [
    "let s = \"this is my first F# string\"\n",
    "let c = s[18]\n",
    "let sub = s[17..25]\n",
    "let sum = \"sum of \" + \"strings\""
   ]
  },
  {
   "cell_type": "markdown",
   "metadata": {},
   "source": [
    "### Exercise 3: tuples\n",
    "\n",
    "Maybe you've seen tuples in another language (for example Python). It's basically a little group of values, where the order of the values is important. Take a look at the [docs](https://docs.microsoft.com/en-us/dotnet/fsharp/language-reference/tuples) if you need. \n",
    "\n",
    "<ol type=\"a\">\n",
    "    <li>Define a tuple <i>t</i> with the values 1 and 2 in it.</li>\n",
    "    <li>Try to figure out what the type of tuple <i>t</i> is. (psst... try hovering your cursor over <i>t</i> in the definition you just wrote.)</li>\n",
    "    <li>Check that you know how to define the explicit type of a tuple by defining tuple <i>u</i> with 1 and \"two\" giving the explicit type of <i>u</i>.</li>\n",
    "    <li>You just learned that the values in a tuple do not need to be of the same type! Now create a tuple <i>v</i> that has the tuples <i>t</i> and <i>u</i> as values (so tuples can go in other tuples!)</li>\n",
    "    <li>Now let's get a value out of a tuple. We can't use indexes, but we'll need to use a technique called destructuring: let (a, b) = (1, 2) assigns 1 to <i>a</i> and 2 to <i>b</i>. Try to get out the integer and the string from tuple <i>u</i>.</li>\n",
    "</ol>\n",
    "\n",
    "Btw there's destructuring in other languages too, such as in (Java/Type)Script: [JS docs](https://developer.mozilla.org/en-US/docs/Web/JavaScript/Reference/Operators/Destructuring_assignment)."
   ]
  },
  {
   "cell_type": "code",
   "execution_count": null,
   "metadata": {
    "dotnet_interactive": {
     "language": "fsharp"
    },
    "vscode": {
     "languageId": "polyglot-notebook"
    }
   },
   "outputs": [],
   "source": [
    "let t = (1, 2)\n",
    "let u: int * string = (1, \"two\")\n",
    "let v = (t, u)\n",
    "let (i, s) = u"
   ]
  },
  {
   "cell_type": "markdown",
   "metadata": {},
   "source": [
    "### Exercise 4: functions\n",
    "\n",
    "<ol type=\"a\">\n",
    "    <li>Define a function <i>successor</i> that returns the <a href=\"https://en.wikipedia.org/wiki/Successor_function\">successor of a number</a> x (that is x+1). Don't forget to test it on some values!</li>\n",
    "    <li>Define a function <i>doubleMe</i> that takes an argument x and doubles it with the +. (Try it on numbers and strings! Note however that you cannot use the function on integers and strings in the same program... why is that? <sub>(think of type inference!)</sub>)</li>\n",
    "    <li>Define a function <i>doubleUs</i> that takes two arguments and doubles both arguments by calling <i>doubleMe</i>. Now we want to return both doubled values.... Ah! Tuples! Make <i>doubleUs</i> return a tuple with the doubled value of the first parameter in the first spot and that of the second parameter in the second spot.</li>\n",
    "    <li>Define a function <i>isEven</i> with an explicit type (to check that you understand function types). The function of course takes an integer and returns a boolean, telling you whether the number is even. (If you get \"type int does not support the operator '==', think back of the start of the warm up notebook!)</li>\n",
    "</ol>"
   ]
  },
  {
   "cell_type": "code",
   "execution_count": null,
   "metadata": {
    "dotnet_interactive": {
     "language": "fsharp"
    },
    "vscode": {
     "languageId": "polyglot-notebook"
    }
   },
   "outputs": [],
   "source": [
    "let successor x = x + 1\n",
    "printfn \"%i\" (successor 3)\n",
    "\n",
    "let doubleMe x = x + x\n",
    "printfn \"%i\" (doubleMe 2) // works on integers\n",
    "// printfn \"%s\" (doubleMe \"hoi\") // works on strings\n",
    "// but not at the same time!\n",
    "\n",
    "let doubleUs x y = (doubleMe x, doubleMe y)\n",
    "let (doubleX, doubleY) = doubleUs 2 3\n",
    "printfn \"%i %i\" doubleX doubleY\n",
    "\n",
    "let isEven (x: int): bool = x % 2 = 0\n",
    "let isEvenLambda: int -> bool = fun x -> x % 2 = 0 // what is different here?!\n",
    "printfn \"%b\" (isEven 10)"
   ]
  },
  {
   "cell_type": "markdown",
   "metadata": {},
   "source": [
    "### Exercise 5: conditionals\n",
    "\n",
    "The `if` keyword is a bit different in F# than most other languages. It is actually a function that returns a value!\n",
    "\n",
    "Check out this code:"
   ]
  },
  {
   "cell_type": "code",
   "execution_count": null,
   "metadata": {
    "dotnet_interactive": {
     "language": "fsharp"
    },
    "vscode": {
     "languageId": "polyglot-notebook"
    }
   },
   "outputs": [],
   "source": [
    "let x = 5\n",
    "let result = if x > 3 then \"larger than three\" else \"smaller than or equal to three\"\n",
    "printfn \"%s\" result"
   ]
  },
  {
   "cell_type": "markdown",
   "metadata": {},
   "source": [
    "You might know this as the [ternary operator](https://en.wikipedia.org/wiki/%3F:) in a lot of other languages: "
   ]
  },
  {
   "cell_type": "code",
   "execution_count": null,
   "metadata": {
    "dotnet_interactive": {
     "language": "csharp"
    },
    "vscode": {
     "languageId": "polyglot-notebook"
    }
   },
   "outputs": [],
   "source": [
    "var x = 5;\n",
    "var result = x > 3 ? \"larger than three\" : \"smaller than or equal to three\";\n",
    "Console.WriteLine(\"{0}\", result);"
   ]
  },
  {
   "cell_type": "markdown",
   "metadata": {},
   "source": [
    "Now for the questions:\n",
    "\n",
    "<ol type=\"a\">\n",
    "    <li>Write a function <i>verbose</i> that takes an integer and returns the string \"larger than three\", or \"equal to three\", or \"smaller than three\". Of course it should return the string that is true.</i>\n",
    "    <li>Try writing a function <i>forbidden</i> that takes an integer <i>x</i> returns x + 5 when x is larger than 3 and otherwise returns the string \"x is small\". Why is this not allowed? Can you understand the error the compiler gives?</i>\n",
    "</ol>"
   ]
  },
  {
   "cell_type": "code",
   "execution_count": 1,
   "metadata": {
    "dotnet_interactive": {
     "language": "fsharp"
    },
    "vscode": {
     "languageId": "polyglot-notebook"
    }
   },
   "outputs": [
    {
     "ename": "Error",
     "evalue": "input.fsx (11,10)-(11,22) typecheck error All branches of an 'if' expression must return values implicitly convertible to the type of the first branch, which here is 'int'. This branch returns a value of type 'string'.",
     "output_type": "error",
     "traceback": [
      "input.fsx (11,10)-(11,22) typecheck error All branches of an 'if' expression must return values implicitly convertible to the type of the first branch, which here is 'int'. This branch returns a value of type 'string'."
     ]
    }
   ],
   "source": [
    "let verbose x = \n",
    "    if x > 3 then \"larger than three\"\n",
    "    elif x < 3 then \"smaller than three\"\n",
    "    else \"equal to three\"\n",
    "\n",
    "printfn \"%s\" (verbose 2)\n",
    "\n",
    "// the return types of the two branches don't match, but that means the type of the function would change depending on a runtime value!\n",
    "let forbidden x = \n",
    "    if x > 3 then x + 5 // this returns an integer\n",
    "    else \"x is small\" // this returns a string"
   ]
  },
  {
   "cell_type": "markdown",
   "metadata": {},
   "source": [
    "### Exercise 6: loops\n",
    "\n",
    "Don't forget there are [docs](https://docs.microsoft.com/en-us/dotnet/fsharp/language-reference/loops-for-in-expression)! 😉\n",
    "\n",
    "<ol type=\"a\">\n",
    "    <li>Write a loop that prints out each number between 10 and 20.</li>\n",
    "    <li>Write a loop that prints out each number between 10 and 100 if the number is divisible by 7.</li>\n",
    "</ol>"
   ]
  },
  {
   "cell_type": "code",
   "execution_count": null,
   "metadata": {
    "dotnet_interactive": {
     "language": "fsharp"
    },
    "vscode": {
     "languageId": "polyglot-notebook"
    }
   },
   "outputs": [],
   "source": [
    "for i in 10..20 do printfn \"%i\" i\n",
    "\n",
    "for i in 10..100 do if i % 7 = 0 then printfn \"%i\" i\n",
    "\n",
    "for i in 10..100 do printfn \"%i\" (if i % 7 = 0 then i) // why does this not work?"
   ]
  },
  {
   "cell_type": "markdown",
   "metadata": {},
   "source": [
    "# Fin\n",
    "\n",
    "Great! You got started with F#! 🥳\n",
    "\n",
    "You're now ready for the next lecture. In the meantime you should start on the case study exercise that returns in each lecture. It's well worth your time as one of the exam questions will be based on it!"
   ]
  }
 ],
 "metadata": {
  "kernelspec": {
   "display_name": ".NET (F#)",
   "language": "F#",
   "name": ".net-fsharp"
  },
  "language_info": {
   "name": "F#"
  }
 },
 "nbformat": 4,
 "nbformat_minor": 2
}
