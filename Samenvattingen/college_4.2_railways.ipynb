{
 "cells": [
  {
   "cell_type": "markdown",
   "metadata": {},
   "source": [
    "# Railway Oriented Programming"
   ]
  },
  {
   "cell_type": "code",
   "execution_count": 1,
   "metadata": {
    "dotnet_interactive": {
     "language": "fsharp"
    },
    "polyglot_notebook": {
     "kernelName": "fsharp"
    },
    "vscode": {
     "languageId": "polyglot-notebook"
    }
   },
   "outputs": [
    {
     "name": "stdout",
     "output_type": "stream",
     "text": [
      "Result: 0\n",
      "Result: 10\n"
     ]
    }
   ],
   "source": [
    "type Result<'T, 'TError> =\n",
    "    | Ok of 'T\n",
    "    | Error of 'TError\n",
    "\n",
    "let divide x y =\n",
    "    if y = 0 then Error \"Division by zero\"\n",
    "    else Ok (x / y)\n",
    "\n",
    "let double x =\n",
    "    if x > 100 then Error \"Number too big\"\n",
    "    else Ok (x * 2)\n",
    "\n",
    "let processNumber input =\n",
    "    match divide input 2 with\n",
    "    | Error e -> Error e\n",
    "    | Ok result ->\n",
    "        match double result with\n",
    "        | Error e -> Error e\n",
    "        | Ok result -> Ok result\n",
    "\n",
    "\n",
    "let result = processNumber 0\n",
    "match result with\n",
    "| Error e -> printfn \"Error: %s\" e\n",
    "| Ok result -> printfn \"Result: %d\" result\n",
    "\n",
    "let result2 = processNumber 10\n",
    "match result2 with\n",
    "| Error e -> printfn \"Error: %s\" e\n",
    "| Ok result2 -> printfn \"Result: %d\" result2"
   ]
  },
  {
   "cell_type": "code",
   "execution_count": 19,
   "metadata": {
    "dotnet_interactive": {
     "language": "fsharp"
    },
    "polyglot_notebook": {
     "kernelName": "fsharp"
    },
    "vscode": {
     "languageId": "polyglot-notebook"
    }
   },
   "outputs": [
    {
     "name": "stdout",
     "output_type": "stream",
     "text": [
      "Error: x must be positive\n"
     ]
    }
   ],
   "source": [
    "let add x =\n",
    "    if x <> 5 then Ok (x + x)\n",
    "    else Error \"x must not be 5\"\n",
    "\n",
    "let multiply x =\n",
    "    if x < 100 then Ok (x * x)\n",
    "    else Error \"x must be less than 100\"\n",
    "\n",
    "let divideBy2 x =\n",
    "    if x > 0 then Ok (x / 2)\n",
    "    else Error \"x must be positive\"\n",
    "\n",
    "let calculate func x =\n",
    "    match x with\n",
    "    | Ok value -> func value\n",
    "    | Error message -> Error message\n",
    "\n",
    "let fullCalculation = add >> calculate multiply >> calculate divideBy2\n",
    "\n",
    "let result = fullCalculation 0\n",
    "\n",
    "match result with\n",
    "| Ok value -> printfn \"Result: %d\" value\n",
    "| Error message -> printfn \"Error: %s\" message\n"
   ]
  }
 ],
 "metadata": {
  "kernelspec": {
   "display_name": "base",
   "language": "python",
   "name": "python3"
  },
  "language_info": {
   "name": "python",
   "version": "3.9.13"
  }
 },
 "nbformat": 4,
 "nbformat_minor": 2
}
