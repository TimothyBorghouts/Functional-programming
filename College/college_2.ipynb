{
 "cells": [
  {
   "cell_type": "code",
   "execution_count": 4,
   "metadata": {
    "dotnet_interactive": {
     "language": "fsharp"
    },
    "polyglot_notebook": {
     "kernelName": "fsharp"
    },
    "vscode": {
     "languageId": "polyglot-notebook"
    }
   },
   "outputs": [
    {
     "ename": "Error",
     "evalue": "input.fsx (13,37)-(13,38) parse error TABs are not allowed in F# code unless the #indent \"off\" option is used\ninput.fsx (6,1)-(6,2) typecheck error The value or constructor 'x' is not defined.\ninput.fsx (9,1)-(9,7) typecheck error This value is not mutable. Consider using the mutable keyword, e.g. 'let mutable x = expression'.\ninput.fsx (13,9)-(13,13) typecheck error Type mismatch. Expecting a\n    ''a -> 'b -> 'c -> 'd'    \nbut given a\n    ''a -> unit'    \nThe type ''a -> 'b -> 'c' does not match the type 'unit'\ninput.fsx (14,9)-(14,13) typecheck error Type mismatch. Expecting a\n    ''a -> 'b -> 'c -> 'd'    \nbut given a\n    ''a -> unit'    \nThe type ''a -> 'b -> 'c' does not match the type 'unit'\ninput.fsx (30,13)-(30,20) typecheck error Method or object constructor 'Add' is not static",
     "output_type": "error",
     "traceback": [
      "input.fsx (13,37)-(13,38) parse error TABs are not allowed in F# code unless the #indent \"off\" option is used\n",
      "input.fsx (6,1)-(6,2) typecheck error The value or constructor 'x' is not defined.\n",
      "input.fsx (9,1)-(9,7) typecheck error This value is not mutable. Consider using the mutable keyword, e.g. 'let mutable x = expression'.\n",
      "input.fsx (13,9)-(13,13) typecheck error Type mismatch. Expecting a\n",
      "    ''a -> 'b -> 'c -> 'd'    \n",
      "but given a\n",
      "    ''a -> unit'    \n",
      "The type ''a -> 'b -> 'c' does not match the type 'unit'\n",
      "input.fsx (14,9)-(14,13) typecheck error Type mismatch. Expecting a\n",
      "    ''a -> 'b -> 'c -> 'd'    \n",
      "but given a\n",
      "    ''a -> unit'    \n",
      "The type ''a -> 'b -> 'c' does not match the type 'unit'\n",
      "input.fsx (30,13)-(30,20) typecheck error Method or object constructor 'Add' is not static"
     ]
    }
   ],
   "source": [
    "//Immutable data types\n",
    "//Lecture 2 part 1\n",
    "\n",
    "let a: int = 5\n",
    "\n",
    "x <- 6 //Error: x is immutable\n",
    "\n",
    "let x = 5\n",
    "x <- 6 //Error: x is immutable\n",
    "\n",
    "let myMap = Map [(\"Bob\", 27)]\n",
    "let myUpdatedMap = myMap.Add (\"Aisha\", 36)\n",
    "printfn \"%A\" myMap Map [(\"Bob\", 27)]\t\n",
    "printfn \"%A\" myUpdatedMap Map [(\"Bob\", 27); (\"Aisha\", 36)]\n",
    "//wanneer je .Add aanroept dan geeft die een nieuwe map terug dus stop je die in een nieuwe variabele\n",
    "//Je moet dus de nieuwe map opvangen in een nieuwe variabele\n",
    "\n",
    "//De map wordt nooit gewijzigd zelfs als de map mutable is.\n",
    "//Wat nu wel kan met het mutable keyword dan\n",
    "//De variabele wordt mutable dus je kunt er wel wijzigingen in aanbrengen\n",
    "let mutable myMap = Map [(\"Bob\", 27)]\n",
    "let myNewMap = myMap.Add(\"Timothy\", 20)\n",
    "\n",
    "myMap = myMap.Add (\"Aisha\", 36)\n",
    "//Dit is nu een vergelijking en is dus geen wijziging van de map\n",
    "\n",
    "//Shadowing\n",
    "let myMap = Map [(\"Bob\", 27)]\n",
    "\n",
    "let myMap = Map.Add (\"Ruud\", 27)\n",
    "\n",
    "//Map is immutable\n",
    "//Er zijn immutable en mutable data types\n",
    "//Dictionary is mutable\n",
    "//Map is immutable\n",
    "//List is immutable\n",
    "//Array is mutable\n",
    "//String is immutable\n",
    "//Tuple is immutable\n",
    "\n",
    "\n",
    "//Immutable collections: List\n",
    "let list = [1; 2; 3; 4; 5]\n",
    "let list2 = [6; 7; 8; 9; 10]\n",
    "let list3 = list @ list2 //Concatenation\n",
    "list.Head //1\n",
    "list.Tail //2, 3, 4, 5\n",
    "list.Tail.Head //2\n",
    "list.Tail.Tail //3, 4, 5\n",
    "list.Tail.Tail.Tail //4, 5\n",
    "\n",
    "let head = list.Head\n",
    "\n",
    "let l = [1..10]\n",
    "l\n",
    "\n",
    "let l2 = 1 :: []\n",
    "l2\n",
    "\n",
    "let t = (\"Ruud\", 27, \"Amsterdam\")\n",
    "let name, _, work = t\n",
    "work\n",
    "\n",
    "//immutables maken multithreading makkelijker doordat functies tegelijkertijd kunnen worden uitgevoerd\n",
    "//Dit is omdat je niet bang hoeft te zijn dat een andere functie de data veranderd\n"
   ]
  },
  {
   "cell_type": "code",
   "execution_count": 12,
   "metadata": {
    "dotnet_interactive": {
     "language": "fsharp"
    },
    "polyglot_notebook": {
     "kernelName": "fsharp"
    },
    "vscode": {
     "languageId": "polyglot-notebook"
    }
   },
   "outputs": [
    {
     "ename": "Error",
     "evalue": "input.fsx (12,3)-(12,8) typecheck error This expression was expected to have type\n    ''a -> 'b -> 'c'    \nbut here has type\n    'string'    ",
     "output_type": "error",
     "traceback": [
      "input.fsx (12,3)-(12,8) typecheck error This expression was expected to have type\n",
      "    ''a -> 'b -> 'c'    \n",
      "but here has type\n",
      "    'string'    "
     ]
    }
   ],
   "source": [
    "//First-class functions\n",
    "let add x y  = x + y\n",
    "let mul x y = x * y\n",
    "let ops = Map [(\"add\", add); (\"mul\", mul)]\n",
    "ops.Item \"add\" 5 5\n",
    "\n",
    "let x = add\n",
    "\n",
    "\n",
    "let f strategy x y = strategy x y\n",
    "let t s = if s = \"add\" then add else mul\n",
    "\n",
    "\n",
    "\n",
    "f add 5 5\n",
    "f mul 5 5\n",
    "f x 5 5\n",
    "//lampda functie\n",
    "f(fun x y -> x + y) 5 5\n",
    "\n",
    "\n",
    "//Higer-order functions\n",
    "//Functie doet iets met een andere functie\n",
    "//Takes a function as a parameter\n",
    "let functWithFuncArg (num: int) (func: int -> int) : int = func num\n",
    "\n",
    "//or returns a function as a result"
   ]
  },
  {
   "cell_type": "code",
   "execution_count": 5,
   "metadata": {
    "dotnet_interactive": {
     "language": "fsharp"
    },
    "polyglot_notebook": {
     "kernelName": "fsharp"
    },
    "vscode": {
     "languageId": "polyglot-notebook"
    }
   },
   "outputs": [],
   "source": [
    "//Function signatures\n",
    "//Je geeft aan wat is het type van de input en wat is het type van de output\n",
    "//Je hebt altijd maar een return waarde\n",
    "\n",
    "let functie x = x + 5\n",
    "let functie (x: int) = int + 5\n",
    "//Dit is een functie die een int neemt en een int teruggeeft\n",
    "\n",
    "let addFive x = x + 5\n",
    "\n",
    "let f st = st 6\n",
    "\n",
    "f addFive\n",
    "\n",
    "//Een high order function is een functie die een andere functie als parameter neemt of een functie teruggeeft\n",
    "\n",
    "\n",
    "// functie met type int -> int -> int\n",
    "let add x y = x + y\n",
    "\n",
    "let addFive = add 5\n",
    "\n",
    "addFive 3\n",
    "\n",
    "let add = fun x y -> x + y"
   ]
  },
  {
   "cell_type": "code",
   "execution_count": 17,
   "metadata": {
    "dotnet_interactive": {
     "language": "fsharp"
    },
    "polyglot_notebook": {
     "kernelName": "fsharp"
    },
    "vscode": {
     "languageId": "polyglot-notebook"
    }
   },
   "outputs": [
    {
     "data": {
      "text/html": [
       "<div class=\"dni-plaintext\"><pre>50</pre></div><style>\r\n",
       ".dni-code-hint {\r\n",
       "    font-style: italic;\r\n",
       "    overflow: hidden;\r\n",
       "    white-space: nowrap;\r\n",
       "}\r\n",
       ".dni-treeview {\r\n",
       "    white-space: nowrap;\r\n",
       "}\r\n",
       ".dni-treeview td {\r\n",
       "    vertical-align: top;\r\n",
       "    text-align: start;\r\n",
       "}\r\n",
       "details.dni-treeview {\r\n",
       "    padding-left: 1em;\r\n",
       "}\r\n",
       "table td {\r\n",
       "    text-align: start;\r\n",
       "}\r\n",
       "table tr { \r\n",
       "    vertical-align: top; \r\n",
       "    margin: 0em 0px;\r\n",
       "}\r\n",
       "table tr td pre \r\n",
       "{ \r\n",
       "    vertical-align: top !important; \r\n",
       "    margin: 0em 0px !important;\r\n",
       "} \r\n",
       "table th {\r\n",
       "    text-align: start;\r\n",
       "}\r\n",
       "</style>"
      ]
     },
     "metadata": {},
     "output_type": "display_data"
    }
   ],
   "source": [
    "//Function composition\n",
    "let mul (x: int) (y: int) = x * y\n",
    "let add x y = x + y\n",
    "\n",
    "let addAndMul x y =\n",
    "    mul (add x y) 5\n",
    "\n",
    "    \n",
    "let result = addAndMul 5 5\n",
    "result"
   ]
  }
 ],
 "metadata": {
  "language_info": {
   "name": "csharp"
  }
 },
 "nbformat": 4,
 "nbformat_minor": 2
}
