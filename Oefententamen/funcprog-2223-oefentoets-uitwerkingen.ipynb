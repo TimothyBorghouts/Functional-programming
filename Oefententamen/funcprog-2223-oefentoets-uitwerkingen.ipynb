{
 "cells": [
  {
   "attachments": {},
   "cell_type": "markdown",
   "metadata": {},
   "source": [
    "# Tentamen Functioneel Programmeren 2022-2023 kans 1\n",
    "\n",
    "Dit is het tweede deel (van in totaal twee delen). Beantwoord de vragen die in Remindo staan in dit notebook en lever het daarna in via Remindo. Je mag alle hulpmiddelen bij dit deel gebruiken. Dit deel van het tentamen bestaat uit 63 punten (70% van het totaal van 90 punten). "
   ]
  },
  {
   "attachments": {},
   "cell_type": "markdown",
   "metadata": {},
   "source": [
    "### Vraag 1"
   ]
  },
  {
   "cell_type": "code",
   "execution_count": 1,
   "metadata": {
    "dotnet_interactive": {
     "language": "fsharp"
    },
    "polyglot_notebook": {
     "kernelName": "fsharp"
    },
    "vscode": {
     "languageId": "polyglot-notebook"
    }
   },
   "outputs": [
    {
     "name": "stdout",
     "output_type": "stream",
     "text": [
      "There are 4 values in the tree that are divisible by 3\n"
     ]
    }
   ],
   "source": [
    "// 1. Closure: wel\n",
    "// 2. Functiecompositie: wel\n",
    "// 3. Partial function application: wel\n",
    "// 4. Recursie: wel\n",
    "// 5. Pattern matching: wel\n",
    "// 6. Pure functie: wel\n",
    "// 7. Onpure functie: wel\n",
    "// 8. Tuple: wel\n",
    "// 9. Discriminated union (enum): wel\n",
    "// 10. Lambda: wel\n",
    "\n",
    "// Dit is een soort visitor pattern in een boom in pre-order (een boom is ook wel een soort composite pattern)!\n",
    "\n",
    "type TreeNode = // enum\n",
    "    | Empty\n",
    "    | Leaf of int\n",
    "    | Left of int * TreeNode\n",
    "    | Right of int * TreeNode\n",
    "    | LeftAndRight of int * TreeNode * TreeNode\n",
    "\n",
    "let rec forEach node visit = // recursie, pure functie\n",
    "    match node with // pattern matching\n",
    "        | Empty -> ()\n",
    "        | Leaf i -> visit i\n",
    "        | Left (i, n) | Right (i, n) ->  // tuple\n",
    "            visit i\n",
    "            forEach n visit\n",
    "        | LeftAndRight (i, l, r) -> // tuple\n",
    "            visit i\n",
    "            forEach l visit\n",
    "            forEach r visit\n",
    "\n",
    "\n",
    "let prettyPrint n = // onpure functie\n",
    "    printfn \"Found number: %i\" n\n",
    "    n\n",
    "\n",
    "let multipleOf d = // pure functie\n",
    "    fun n -> if n % d = 0 then 1 else 0 // lambda, closure, pure functie\n",
    "\n",
    "let mutable count = 0\n",
    "\n",
    "let increaseCounter amount = count <- count + amount // onpure functie, closure\n",
    "\n",
    "let visitor = (multipleOf 3) >> increaseCounter // compositie, partial application mag ook hier tellen, onpure functie\n",
    "\n",
    "let tree = LeftAndRight (3, Left (3, Leaf (7)), Left (21, Right (22, Leaf(9)))) // tuple\n",
    "\n",
    "let traverseTreeWith = forEach tree // partial application\n",
    "\n",
    "traverseTreeWith visitor\n",
    "\n",
    "printfn \"There are %i values in the tree that are divisible by 3\" count"
   ]
  },
  {
   "attachments": {},
   "cell_type": "markdown",
   "metadata": {},
   "source": [
    "### Vraag 2"
   ]
  },
  {
   "cell_type": "code",
   "execution_count": 30,
   "metadata": {
    "dotnet_interactive": {
     "language": "fsharp"
    },
    "polyglot_notebook": {
     "kernelName": "fsharp"
    },
    "vscode": {
     "languageId": "polyglot-notebook"
    }
   },
   "outputs": [],
   "source": [
    "type IPrintable =\n",
    "    abstract Print: unit -> unit\n",
    "\n",
    "type Shape = // FP: discriminated union, om inheritance/polymorfisme te vergemakkelijken\n",
    "    | Circle of float\n",
    "    | EquilateralTriangle of float\n",
    "    | Square of float\n",
    "    | Rectangle of float * float\n",
    "\n",
    "    member this.Area = // OO: methoden/attributen, om gedrag en state bij elkaar te houden (encapsulation)\n",
    "        match this with // FP: pattern matching, om meer declaratief te programmeren\n",
    "        | Circle r -> Math.PI * (r ** 2.0)\n",
    "        | EquilateralTriangle s -> s * s * sqrt 3.0 / 4.0\n",
    "        | Square s -> s * s\n",
    "        | Rectangle(l, w) -> l * w\n",
    "\n",
    "    interface IPrintable with // OO: implementatie van interface, maakt loose coupling mogelijk\n",
    "        member this.Print () =\n",
    "            match this with\n",
    "            | Circle r -> printfn $\"Circle with radius %f{r}\"\n",
    "            | EquilateralTriangle s -> printfn $\"Equilateral Triangle of side %f{s}\"\n",
    "            | Square s -> printfn $\"Square with side %f{s}\"\n",
    "            | Rectangle(l, w) -> printfn $\"Rectangle with length %f{l} and width %f{w}\""
   ]
  },
  {
   "attachments": {},
   "cell_type": "markdown",
   "metadata": {},
   "source": [
    "### Vraag 3\n",
    "\n",
    "Hieronder staat twee keer een simpel voorbeeldje uitgewerkt, eerst met exceptions, daarna met railway programming. Leg uit van welk voordeel van railway programming hier gebruik wordt gemaakt"
   ]
  },
  {
   "cell_type": "code",
   "execution_count": null,
   "metadata": {
    "dotnet_interactive": {
     "language": "fsharp"
    },
    "polyglot_notebook": {
     "kernelName": "fsharp"
    },
    "vscode": {
     "languageId": "polyglot-notebook"
    }
   },
   "outputs": [],
   "source": [
    "let rnd = System.Random()\n",
    "\n",
    "// Met exceptions\n",
    "exception EasyException of string\n",
    "exception FatalException of string\n",
    "\n",
    "let mayThrowA v = \n",
    "    let r = rnd.NextDouble ()\n",
    "    if r < 0.5 then v + v\n",
    "    elif r < 0.8 then raise (EasyException (v + \" not a big problem\")) \n",
    "    else raise (FatalException \"uh oh...\")\n",
    "\n",
    "let mayThrowB v = \n",
    "    let r = rnd.NextDouble ()\n",
    "    if r < 0.5 then v + v\n",
    "    else raise (FatalException \"uh oh...\")\n",
    "\n",
    "let doWorkOO v =\n",
    "    try\n",
    "        let v = mayThrowA v\n",
    "        mayThrowB v\n",
    "    with \n",
    "        | FatalException msg -> \"fatal error\"\n",
    "        | EasyException msg ->  // Hier moet een geneste try-catch om recovery mogelijk te maken in OO met excepties\n",
    "            try \n",
    "                mayThrowB msg\n",
    "            with   \n",
    "                | FatalException msg -> \"fatal error\"\n",
    "\n",
    "printfn \"OO: %s\" (doWorkOO \"hello\")\n",
    "\n",
    "// Met railways\n",
    "let mayErrorA v = \n",
    "    let r = rnd.NextDouble ()\n",
    "    if r < 0.5 then Ok (v + v)\n",
    "    elif r < 0.8 then Error (EasyException (v + \" not a big problem\"))\n",
    "    else Error (FatalException \"uh oh...\")\n",
    "\n",
    "let mayErrorB v =\n",
    "    let r = rnd.NextDouble ()\n",
    "    if r < 0.5 then Ok (v + v)\n",
    "    else Error (FatalException \"uh oh...\")\n",
    "\n",
    "let connect f r = \n",
    "    match r with\n",
    "        | Ok v -> f v\n",
    "        | Error e -> Error e\n",
    "\n",
    "let recover r = \n",
    "    match r with\n",
    "        | Ok _-> r\n",
    "        | Error (EasyException msg) -> Ok msg\n",
    "        | Error _ -> r\n",
    "\n",
    "let doWorkFP = mayErrorA >> recover >> connect mayErrorB // flow van het programma blijft altijd hetzelfde, recovery zit eenvoudig ingebouwd\n",
    "\n",
    "printfn \"FP: %s\" (match doWorkFP \"hello\" with\n",
    "    | Ok v -> v\n",
    "    | Error (FatalException msg) -> \"fatal error\")"
   ]
  },
  {
   "attachments": {},
   "cell_type": "markdown",
   "metadata": {},
   "source": [
    "### Vraag 4"
   ]
  },
  {
   "cell_type": "code",
   "execution_count": null,
   "metadata": {
    "dotnet_interactive": {
     "language": "fsharp"
    },
    "polyglot_notebook": {
     "kernelName": "fsharp"
    },
    "vscode": {
     "languageId": "polyglot-notebook"
    }
   },
   "outputs": [],
   "source": [
    "// vraag a\n",
    "let l = [Some (Some 1); Some (None); None; Some (Some 2); Some (None); Some (Some 3)]\n",
    "\n",
    "// schrijf hier je uitwerking\n",
    "let rec sumDoubleOption l =\n",
    "    match l with\n",
    "        | [] -> 0\n",
    "        | None :: tail -> 1 + sumDoubleOption tail\n",
    "        | Some None :: tail -> -1 + sumDoubleOption tail\n",
    "        | Some (Some i) :: tail -> i + sumDoubleOption tail\n",
    "\n",
    "printfn \"%A\" (sumDoubleOption l) // geeft 5\n",
    "\n",
    "// vraag b\n",
    "let rec sumPairs a b =\n",
    "    match (a, b) with\n",
    "        | ([], _) | (_, []) -> []\n",
    "        | (Some ia :: ta, Some ib :: tb) -> ia + ib :: sumPairs ta tb\n",
    "        | (_ :: ta, _ :: tb) -> sumPairs ta tb\n",
    "\n",
    "let l1 = [Some 1; None; Some 3; Some 4; None; Some 5]\n",
    "let l2 = [Some 1; None; None; Some 4; None; Some 5; None]\n",
    "\n",
    "printfn \"%A\" (sumPairs l1 l2) // geeft [2; 8; 10]\n",
    "\n",
    "// vraag c\n",
    "let rec countResults results okCount errCount = \n",
    "    match results with\n",
    "        | [] -> (okCount, errCount)\n",
    "        | Ok _ :: tail -> countResults tail (okCount + 1) errCount\n",
    "        | Error _ :: tail -> countResults tail okCount (errCount + 1)\n",
    "\n",
    "\n",
    "printfn \"%A\" (countResults [Error \"something went wrong\"; Ok 5; Ok 3; Error \"uh oh...\"; Error \"oopsie\"] 0 0) \n",
    "// geeft: (2, 3)"
   ]
  },
  {
   "attachments": {},
   "cell_type": "markdown",
   "metadata": {},
   "source": [
    "### Vraag 5\n",
    "\n",
    "Gegeven is een discriminated union `ContactInfo` waarmee een telefoonnummer en/of een emailadres kan worden vertegenwoordigd. Ook zijn er de functies `removePhone` en `setDefaultEmail` gegeven. `removePhone` verwijdert het telefoonnummer en `setDefaultEmail` voegt er een default emailadres aan toe. `setDefaultEmail` krijgt daarvoor een strategie (functie met signature `() -> string`) mee die nieuwe default adressen genereert.\n",
    "\n",
    "Hier zie je voorbeelden van hoe de functies gebruikt kunnen worden:\n",
    "```F#\n",
    "removePhone (PhoneOnly \"1234567890\") // geeft Neither\n",
    "removePhone (EmailAndPhone (\"1234567890\", \"rma.vanderheiden@avans.nl\")) // geeft EmailOnly \"rma.vanderheiden@avans.nl\"\n",
    "\n",
    "let constantDefault () = \"default@example.com\"\n",
    "\n",
    "setDefaultEmail constantDefault (EmailOnly \"rma.vanderheiden@avans.nl\") // geeft EmailOnly \"rma.vanderheiden@avans.nl\"\n",
    "setDefaultEmail constantDefault (PhoneOnly \"1234567890\") // geeft PhoneAndEmail (\"1234567890\", \"default@example.com\")\n",
    "```\n",
    "1. Schrijf een functie `makeEmailFactory` die een default emailgenerator bouwt. `makeEmailFactory` geeft een functie terug met signature `() -> string` en iedere keer dat deze functie wordt aangeroepen wordt er een nieuw opvolgend defaultadres gegenereerd: \"me0@example.com\", \"me1@example.com\", \"me2@example.com\", et cetera. Je moet hierbij waarschijnlijk een mutable variabele gebruiken.\n",
    "```F#\n",
    "let emailFactory = makeEmailFactory ()\n",
    "\n",
    "emailFactory () // geeft \"me0@example.com\"\n",
    "emailFactory () // geeft \"me1@example.com\"\n",
    "emailFactory () // geeft \"me2@example.com\"\n",
    "```\n",
    "2. Als vraag 3.1 niet helemaal correct werkt is de code voor deze vraag nog steeds goed te schrijven, maar de voorbeeldresultaten komen dan waarschijnlijk niet overeen. Schrijf een functie `getEmail` met signature `ContactInfo -> ContactInfo` die altijd een EmailOnly teruggeeft. Het emailadres dat erin zit moet het specifieke adres zijn als dat bestaat en anders gevuld zijn met een default adres. Schrijf deze functie op basis van `setDefaultEmail` en `removePhone` met functiecompositie. Gebruik hierbij partial application en de functie `makeEmailFactory`. (Dit gaat dus allemaal in 1 of 2 regels!)\n",
    "```F#\n",
    "getEmail Neither // EmailOnly \"me0@example.com\"\n",
    "getEmail (PhoneOnly \"1234567890\") // EmailOnly \"me1@example.com\"\n",
    "getEmail (EmailOnly \"dj.koeze@avans.nl\") // EmailOnly \"dj.koeze@avans.nl\"\n",
    "getEmail (PhoneAndEmail (\"1234567890\", \"dj.koeze@avans.nl\")) // EmailOnly \"dj.koeze@avans.nl\"\n",
    "```"
   ]
  },
  {
   "cell_type": "code",
   "execution_count": null,
   "metadata": {
    "dotnet_interactive": {
     "language": "fsharp"
    },
    "polyglot_notebook": {
     "kernelName": "fsharp"
    },
    "vscode": {
     "languageId": "polyglot-notebook"
    }
   },
   "outputs": [],
   "source": [
    "type ContactInfo =\n",
    "    | Neither\n",
    "    | PhoneOnly of string\n",
    "    | EmailOnly of string\n",
    "    | PhoneAndEmail of string * string\n",
    "\n",
    "let removePhone info =\n",
    "    match info with\n",
    "        | Neither -> Neither // niets om te verwijderen\n",
    "        | PhoneOnly _ -> Neither // niets blijft over met het telefoonnummer verwijderd\n",
    "        | EmailOnly _ -> info // alleen een email, hoeft niets aan te veranderen\n",
    "        | PhoneAndEmail (_, email) -> EmailOnly email // alleen de email blijft over\n",
    "\n",
    "\n",
    "let setDefaultEmail makeDefaultEmail info =\n",
    "    match info with\n",
    "        | Neither -> EmailOnly (makeDefaultEmail ()) // zet alleen een defaultemail\n",
    "        | PhoneOnly phone -> PhoneAndEmail (phone, (makeDefaultEmail ())) // voeg een defaultemail toe\n",
    "        | EmailOnly _ -> info // hoeft niets te veranderen\n",
    "        | PhoneAndEmail _ -> info // hoeft niets te veranderen\n",
    "\n",
    "\n",
    "// vraag 1\n",
    "let makeEmailFactory () =\n",
    "    let mutable counter = 0\n",
    "    fun () -> \n",
    "        let email = $\"me{counter}@example.com\"\n",
    "        counter <- counter + 1\n",
    "        email\n",
    "\n",
    "// vraag 2\n",
    "let emailFactory = makeEmailFactory ()\n",
    "let getEmail = setDefaultEmail emailFactory >> removePhone\n",
    "\n",
    "printfn \"%O\" (getEmail Neither) // EmailOnly \"me0@example.com\"\n",
    "printfn \"%O\" (getEmail (PhoneOnly \"1234567890\")) // EmailOnly \"me1@example.com\"\n",
    "printfn \"%O\" (getEmail (EmailOnly \"dj.koeze@avans.nl\")) // EmailOnly \"dj.koeze@avans.nl\"\n",
    "printfn \"%O\" (getEmail (PhoneAndEmail (\"1234567890\", \"dj.koeze@avans.nl\"))) // EmailOnly \"dj.koeze@avans.nl\""
   ]
  },
  {
   "attachments": {},
   "cell_type": "markdown",
   "metadata": {},
   "source": [
    "### Vraag 6\n",
    "\n",
    "We hebben een operator nodig die de som bijhoudt van alle waarden die tot nu toe voorbij zijn gekomen. Deze operator werkt alleen op integers en hoeft dus niet generiek te zijn. De operator kan een mutable variabele gebruiken. Iedere keer wanneer er een nieuwe integer door de producer gemaakt wordt en bij de operator komt wordt de som bijgewerkt en de som verder doorgestuurd. Geef de operator een goede naam en werk de code uit.\n",
    "\n",
    "Als volgende hebben we een operator nodig die waarden die hij binnenkrijgt herhaalt. Het aantal keer dat een waarde herhaald wordt moet meegegeven kunnen worden in een parameter (gebruik een goede volgorde zodat deze als eerste kan worden meegegeven met partial application). Deze operator heeft geen mutable variabelen nodig. "
   ]
  },
  {
   "cell_type": "code",
   "execution_count": null,
   "metadata": {
    "dotnet_interactive": {
     "language": "fsharp"
    },
    "polyglot_notebook": {
     "kernelName": "fsharp"
    },
    "vscode": {
     "languageId": "polyglot-notebook"
    }
   },
   "outputs": [],
   "source": [
    "let duplicate amount previous =\n",
    "    fun next ->\n",
    "        previous (fun data -> \n",
    "            for i in 1..amount do next data\n",
    "        )\n",
    "\n",
    "let sum previous =\n",
    "    let mutable total = 0\n",
    "    fun next ->\n",
    "        previous (fun data ->\n",
    "            total <- total + data\n",
    "            next total\n",
    "        )\n",
    "\n",
    "let producer observer = for i in 1..6 do observer i\n",
    "\n",
    "let tripled = duplicate 3 producer\n",
    "let summed = sum tripled\n",
    "\n",
    "producer (printfn \"you see me once: %i\")\n",
    "// you see me once: 1\n",
    "// you see me once: 2\n",
    "// you see me once: 3\n",
    "// you see me once: 4\n",
    "// you see me once: 5\n",
    "// you see me once: 6\n",
    "\n",
    "tripled (printfn \"you see me three times: %i\") \n",
    "// you see me three times: 1\n",
    "// you see me three times: 1\n",
    "// you see me three times: 1\n",
    "// you see me three times: 2\n",
    "// you see me three times: 2\n",
    "// you see me three times: 2\n",
    "// you see me three times: 3\n",
    "// you see me three times: 3\n",
    "// you see me three times: 3\n",
    "// you see me three times: 4\n",
    "// you see me three times: 4\n",
    "// you see me three times: 4\n",
    "// you see me three times: 5\n",
    "// you see me three times: 5\n",
    "// you see me three times: 5\n",
    "// you see me three times: 6\n",
    "// you see me three times: 6\n",
    "// you see me three times: 6\n",
    "\n",
    "summed (printfn \"sum up to now: %i\")\n",
    "// sum up to now: 1\n",
    "// sum up to now: 2\n",
    "// sum up to now: 3\n",
    "// sum up to now: 5\n",
    "// sum up to now: 7\n",
    "// sum up to now: 9\n",
    "// sum up to now: 12\n",
    "// sum up to now: 15\n",
    "// sum up to now: 18\n",
    "// sum up to now: 22\n",
    "// sum up to now: 26\n",
    "// sum up to now: 30\n",
    "// sum up to now: 35\n",
    "// sum up to now: 40\n",
    "// sum up to now: 45\n",
    "// sum up to now: 51\n",
    "// sum up to now: 57\n",
    "// sum up to now: 63\n",
    "\n",
    "// geschreven als een pipeline:\n",
    "(producer |> duplicate 3 |> sum) (printfn \"sum from pipeline %i\")"
   ]
  }
 ],
 "metadata": {
  "language_info": {
   "name": "python"
  },
  "orig_nbformat": 4
 },
 "nbformat": 4,
 "nbformat_minor": 2
}
