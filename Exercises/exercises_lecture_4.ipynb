{
 "cells": [
  {
   "cell_type": "markdown",
   "metadata": {},
   "source": [
    "# Sum & product types, and railways\n",
    "\n",
    "First you'll practice working with enums and then you can expand the railway example from the lecture.\n",
    "\n",
    "Have fun!"
   ]
  },
  {
   "cell_type": "markdown",
   "metadata": {},
   "source": [
    "### Exercise 1\n",
    "\n",
    "Write the following functions that return options, as there is not always a return value. Don't use any loops, always write them recursively with pattern matching.\n",
    "\n",
    "1. The function `firstItem` that returns the first item from a list.\n",
    "2. The function `lastItem` that returns the last item from a list.\n",
    "3. The function `sumTwoOptions` that sums two options of numbers, there is only a result when both arguments are `Some`.\n",
    "4. The function `sum` that computes the sum of a list of integers (can be tail recursive).\n",
    "5. The function `max` that returns the largest item in a list of integers (can be tail recursive).\n",
    "6. The function `find` that returns the first element that matches. (signature: `('T -> bool) -> 'T list -> 'T Option`)"
   ]
  },
  {
   "cell_type": "code",
   "execution_count": 13,
   "metadata": {
    "dotnet_interactive": {
     "language": "fsharp"
    },
    "vscode": {
     "languageId": "polyglot-notebook"
    }
   },
   "outputs": [
    {
     "name": "stdout",
     "output_type": "stream",
     "text": [
      "Some 1\n",
      "None\n",
      "Some 5\n",
      "None\n",
      "Some 3\n",
      "None\n",
      "15\n",
      "0\n",
      "5\n",
      "0\n",
      "Some 3\n",
      "None\n"
     ]
    }
   ],
   "source": [
    "let list = [1; 2; 3; 4; 5]\n",
    "\n",
    "let firstItem list =\n",
    "    match list with\n",
    "    | [] -> None\n",
    "    | head :: _ -> Some head\n",
    "\n",
    "printfn \"%A\" (firstItem list)\n",
    "printfn \"%A\" (firstItem [])\n",
    "\n",
    "let rec lastItem list =\n",
    "    match list with\n",
    "    | [] -> None\n",
    "    | [x] -> Some x\n",
    "    | _ :: tail -> lastItem tail\n",
    "\n",
    "printfn \"%A\" (lastItem list)\n",
    "printfn \"%A\" (firstItem [])\n",
    "\n",
    "let sumTwoOptions a b =\n",
    "    match (a,b) with\n",
    "        | (Some a, Some b) -> Some (a + b)\n",
    "        | _ -> None\n",
    "\n",
    "printfn \"%A\" (sumTwoOptions (Some 1) (Some 2))\n",
    "printfn \"%A\" (sumTwoOptions (Some 1) None)\n",
    "\n",
    "let rec sum list result =\n",
    "    match list with\n",
    "    | [] -> result\n",
    "    | head :: tail -> sum tail (result + head)\n",
    "\n",
    "printfn \"%A\" (sum list 0)\n",
    "printfn \"%A\" (sum [] 0)\n",
    "\n",
    "\n",
    "let rec max list result =\n",
    "    match list with \n",
    "    | [] -> result\n",
    "    | head :: tail ->\n",
    "        if head > result then max tail head\n",
    "        else max tail result\n",
    "\n",
    "printfn \"%A\" (max list 0)\n",
    "printfn \"%A\" (max [] 0)\n",
    "\n",
    "let rec find list result =\n",
    "    match list with\n",
    "    | [] -> None\n",
    "    | head :: tail ->\n",
    "        if head = result then Some head\n",
    "        else find tail result\n",
    "\n",
    "printfn \"%A\" (find list 3)\n",
    "printfn \"%A\" (find list 6)"
   ]
  },
  {
   "cell_type": "markdown",
   "metadata": {},
   "source": [
    "### Exercise 2\n",
    "\n",
    "Another good use of enums (discriminated unions) is to encode possible states of information. In this exercise you will keep track of contact information. We want to be able to store phone numbers and email addresses. Not everyone needs to have a phone number or an email address, so all four combinations are allowed (neither, only phone, only email, both). \n",
    "\n",
    "1. Write one enum (discriminated union) type `ContactInfo` that can store all four states. Note that one does not contain a field, two contain a string and one contains a tuple of two strings.\n",
    "2. Now we want to add a phone number. Write a function `updatePhone: string -> ContactInfo -> ContactInfo` that adds the phone number to the given ContactInfo instance. It should handle all cases!\n",
    "3. Do the same for `updateEmail`.\n",
    "4. Now write a function `sendEmail` that mocks sending an email. This function should only send the email if an email address is known. You can mock sending an email by just printing \"sent msg to me@example.com\" in the console.\n",
    "5. Test your implementation\n",
    "\n",
    "Congrats, you just implementated a simple state pattern!\n",
    "\n",
    "The enums are very handy to encode the state you are currently in. Then all the state changing functions are simple match functions that return an updated enum.\n",
    "\n",
    "You can think about how you would use this to for example implement a state pattern for a webshop. The state of the cart could be empty, filled but not paid, and then paid. The mutating functions could add items to the cart or could process payment."
   ]
  },
  {
   "cell_type": "code",
   "execution_count": 22,
   "metadata": {
    "dotnet_interactive": {
     "language": "fsharp"
    },
    "vscode": {
     "languageId": "polyglot-notebook"
    }
   },
   "outputs": [
    {
     "name": "stdout",
     "output_type": "stream",
     "text": [
      "Nothing\n",
      "Phone \"0681391266\"\n",
      "PhoneAndEmail (\"0681391266\", \"timothy.borghouts2@gmail.com\")\n",
      "No email\n",
      "Sending email to timothy.borghouts2@gmail.com\n"
     ]
    }
   ],
   "source": [
    "type ContactInfo = \n",
    "    | PhoneAndEmail of string * string\n",
    "    | Phone of string\n",
    "    | Email of string\n",
    "    | Nothing\n",
    "\n",
    "let updatePhone info phone =\n",
    "    match info with \n",
    "    | Nothing -> Phone phone\n",
    "    | Email _ -> PhoneAndEmail (phone, \"\")\n",
    "\n",
    "let updateEmail info email =\n",
    "    match info with \n",
    "    | Nothing -> Email email\n",
    "    | Phone phone -> PhoneAndEmail (phone, email)\n",
    "\n",
    "let sendEmail info =\n",
    "    match info with\n",
    "    | Nothing -> printfn \"No email\"\n",
    "    | Email email -> printfn \"Sending email to %s\" email\n",
    "    | PhoneAndEmail (_, email) -> printfn \"Sending email to %s\" email\n",
    "\n",
    "let contact = { PhoneAndEmail = (\"123\", \"abc\"); Phone = \"123\"; Email = \"abc\"; Nothing = ()}\n",
    "\n",
    "let NoInfo = Nothing\n",
    "let PhoneInfo = updatePhone NoInfo \"0681391266\"\n",
    "let BothInfo = updateEmail PhoneInfo \"timothy.borghouts2@gmail.com\"\n",
    "\n",
    "printfn \"%A\" NoInfo\n",
    "printfn \"%A\" PhoneInfo\n",
    "printfn \"%A\" BothInfo\n",
    "\n",
    "sendEmail NoInfo\n",
    "sendEmail BothInfo"
   ]
  },
  {
   "cell_type": "markdown",
   "metadata": {},
   "source": [
    "### Exercise 3\n",
    "\n",
    "In the lecture we implemented the `connect` function that makes railway oriented error handling possible. You find this function below, together with mocked versions of `validate`, `updateDb`, and `sendEmail`. You'll expand on this example in two ways:\n",
    "\n",
    "1. We want to add a prefix to each `request`. This function should take a string `s` and return `\"Request\" + s`. This function will never produce an error, so it cannot switch to the error track! Think about whether we can still apply `connect` to it and then add the prefix step between `validate` and `updateDb`.\n",
    "2. Our use case slightly changed, we now always want to send an email, to keep everyone updated even if an error occurs in validation or in the database. However, sending the email can still go wrong. At the end of track we still need a `Result` (`Ok` if the email was sent successfully, `Error` if the email failed). We should never get an `Error` from the database, as we just keep everyone up to date with the email and then it's fine. \n",
    "In order to do this we need to be able to switch back from the error track to the happy track. Take a look at the last slide of lecture 4 for the complete track we want to build.\n",
    "Now write the function `recover` that simply prepends the string with whether the request failed or not. When recover receives `Ok value` it returns the string `\"success: value\"`, when it receives `Error value` it returns the string `\"error: value\"`.\n",
    "Then write the function `catch` to connect `recover` in the pipeline and test the pipeline!"
   ]
  },
  {
   "cell_type": "code",
   "execution_count": 33,
   "metadata": {
    "dotnet_interactive": {
     "language": "fsharp"
    },
    "vscode": {
     "languageId": "polyglot-notebook"
    }
   },
   "outputs": [
    {
     "data": {
      "text/html": [
       "<details open=\"open\" class=\"dni-treeview\"><summary><span class=\"dni-code-hint\"><code>Microsoft.FSharp.Core.FSharpResult`2[System.String,System.String]</code></span></summary><div><table><thead><tr></tr></thead><tbody><tr><td>ResultValue</td><td><div class=\"dni-plaintext\"><pre>&lt;null&gt;</pre></div></td></tr><tr><td>ErrorValue</td><td><div class=\"dni-plaintext\"><pre>sending email failed</pre></div></td></tr></tbody></table></div></details><style>\r\n",
       ".dni-code-hint {\r\n",
       "    font-style: italic;\r\n",
       "    overflow: hidden;\r\n",
       "    white-space: nowrap;\r\n",
       "}\r\n",
       ".dni-treeview {\r\n",
       "    white-space: nowrap;\r\n",
       "}\r\n",
       ".dni-treeview td {\r\n",
       "    vertical-align: top;\r\n",
       "    text-align: start;\r\n",
       "}\r\n",
       "details.dni-treeview {\r\n",
       "    padding-left: 1em;\r\n",
       "}\r\n",
       "table td {\r\n",
       "    text-align: start;\r\n",
       "}\r\n",
       "table tr { \r\n",
       "    vertical-align: top; \r\n",
       "    margin: 0em 0px;\r\n",
       "}\r\n",
       "table tr td pre \r\n",
       "{ \r\n",
       "    vertical-align: top !important; \r\n",
       "    margin: 0em 0px !important;\r\n",
       "} \r\n",
       "table th {\r\n",
       "    text-align: start;\r\n",
       "}\r\n",
       "</style>"
      ]
     },
     "metadata": {},
     "output_type": "display_data"
    }
   ],
   "source": [
    "let rnd = (new System.Random())\n",
    "\n",
    "let validate (request: string) =\n",
    "    if request.Length > 5 then Ok request\n",
    "    else Error \"invalid request\"\n",
    "\n",
    "let updateDb request =\n",
    "    let prob = rnd.NextDouble()\n",
    "    if prob < 0.1 then Error \"database unavailable\"\n",
    "    else if prob < 0.3 then Error \"request unknown in database\"\n",
    "    else Ok request\n",
    "\n",
    "let sendEmail request = \n",
    "    let prob = rnd.NextDouble()\n",
    "    if prob < 0.1 then Error \"sending email failed\"\n",
    "    else Ok (\"email sent successfully (\" + request + \")\")\n",
    "\n",
    "let connect func request = \n",
    "    match request with\n",
    "        | Ok value -> func value\n",
    "        | Error value -> Error value\n",
    "\n",
    "let handleUseCase = validate >> connect updateDb >> connect sendEmail\n",
    "\n",
    "handleUseCase \"validRequest\""
   ]
  },
  {
   "cell_type": "markdown",
   "metadata": {},
   "source": [
    "When you're all done with this exercise you should think back to JS promises for a moment. You can chain promises together with `then` and recover from errors with `catch`. You might have not used it much, but you can keep going with the chain after a `catch`. \n",
    "\n",
    "JS promise chaining is Railway Oriented Programming! 😍\n",
    "\n",
    "(btw.. I can't get this to work with promises in the notebook, you might have to run it elsewhere if you want to run it.)"
   ]
  },
  {
   "cell_type": "code",
   "execution_count": null,
   "metadata": {
    "dotnet_interactive": {
     "language": "javascript"
    },
    "vscode": {
     "languageId": "polyglot-notebook"
    }
   },
   "outputs": [],
   "source": [
    "const chain = new Promise((resolve, _) => resolve(\"value\"))\n",
    "\n",
    "chain\n",
    "    .then(val => new Promise((_, reject) => reject(\"oh nee toch niet\")))\n",
    "    .catch(err => new Promise((resolve, _) => resolve(\"weer opgelost\")))\n",
    "    .then(console.log)"
   ]
  }
 ],
 "metadata": {
  "kernelspec": {
   "display_name": ".NET (F#)",
   "language": "F#",
   "name": ".net-fsharp"
  },
  "language_info": {
   "name": "F#"
  }
 },
 "nbformat": 4,
 "nbformat_minor": 2
}
