{
 "cells": [
  {
   "attachments": {},
   "cell_type": "markdown",
   "metadata": {},
   "source": [
    "# Oefententamen Functioneel Programmeren\n",
    "\n",
    "Dit is het tweede deel (van in totaal twee delen). Beantwoord de vragen in dit notebook. Je mag alle hulpmiddelen bij dit deel gebruiken. Dit deel van het tentamen bestaat uit 63 punten (70% van het totaal van 90 punten). "
   ]
  },
  {
   "attachments": {},
   "cell_type": "markdown",
   "metadata": {},
   "source": [
    "### Vraag 4"
   ]
  },
  {
   "cell_type": "code",
   "execution_count": 1,
   "metadata": {
    "dotnet_interactive": {
     "language": "fsharp"
    },
    "polyglot_notebook": {
     "kernelName": "fsharp"
    },
    "vscode": {
     "languageId": "polyglot-notebook"
    }
   },
   "outputs": [
    {
     "name": "stdout",
     "output_type": "stream",
     "text": [
      "3\n"
     ]
    }
   ],
   "source": [
    "let l = [Some (Some 1); Some (None); None; Some (Some 2); Some (None); Some (Some 3)]\n",
    "\n",
    "// vraag A\n",
    "let rec countSome list result=\n",
    "    match list with\n",
    "    | [] -> result\n",
    "    | Some (Some _) :: tail -> countSome tail (result + 1)\n",
    "    | None :: tail -> countSome tail result\n",
    "    | _ :: tail -> countSome tail result\n",
    "\n",
    "\n",
    "let result = countSome l 0\n",
    "printfn \"%A\" result\n",
    "\n",
    "\n",
    "// vraag B\n",
    "\n",
    "\n",
    "\n",
    "// vraag C"
   ]
  },
  {
   "attachments": {},
   "cell_type": "markdown",
   "metadata": {},
   "source": [
    "### Vraag 5\n",
    "\n"
   ]
  },
  {
   "cell_type": "code",
   "execution_count": 8,
   "metadata": {
    "dotnet_interactive": {
     "language": "fsharp"
    },
    "polyglot_notebook": {
     "kernelName": "fsharp"
    },
    "vscode": {
     "languageId": "polyglot-notebook"
    }
   },
   "outputs": [
    {
     "name": "stdout",
     "output_type": "stream",
     "text": [
      "\"me0@example.com\"\n",
      "\"me1@example.com\"\n",
      "\"me2@example.com\"\n"
     ]
    },
    {
     "data": {
      "text/html": [
       "<details open=\"open\" class=\"dni-treeview\"><summary><span class=\"dni-code-hint\"><code>Some(dion!)</code></span></summary><div><table><thead><tr></tr></thead><tbody><tr><td>Value</td><td><div class=\"dni-plaintext\"><pre>dion!</pre></div></td></tr></tbody></table></div></details><style>\r\n",
       ".dni-code-hint {\r\n",
       "    font-style: italic;\r\n",
       "    overflow: hidden;\r\n",
       "    white-space: nowrap;\r\n",
       "}\r\n",
       ".dni-treeview {\r\n",
       "    white-space: nowrap;\r\n",
       "}\r\n",
       ".dni-treeview td {\r\n",
       "    vertical-align: top;\r\n",
       "    text-align: start;\r\n",
       "}\r\n",
       "details.dni-treeview {\r\n",
       "    padding-left: 1em;\r\n",
       "}\r\n",
       "table td {\r\n",
       "    text-align: start;\r\n",
       "}\r\n",
       "table tr { \r\n",
       "    vertical-align: top; \r\n",
       "    margin: 0em 0px;\r\n",
       "}\r\n",
       "table tr td pre \r\n",
       "{ \r\n",
       "    vertical-align: top !important; \r\n",
       "    margin: 0em 0px !important;\r\n",
       "} \r\n",
       "table th {\r\n",
       "    text-align: start;\r\n",
       "}\r\n",
       "</style>"
      ]
     },
     "metadata": {},
     "output_type": "display_data"
    }
   ],
   "source": [
    "type ContactInfo =\n",
    "    | Neither\n",
    "    | PhoneOnly of string\n",
    "    | EmailOnly of string\n",
    "    | PhoneAndEmail of string * string\n",
    "\n",
    "let removePhone info =\n",
    "    match info with\n",
    "        | Neither -> Neither // niets om te verwijderen\n",
    "        | PhoneOnly _ -> Neither // niets blijft over met het telefoonnummer verwijderd\n",
    "        | EmailOnly _ -> info // alleen een email, hoeft niets aan te veranderen\n",
    "        | PhoneAndEmail (_, email) -> EmailOnly email // alleen de email blijft over\n",
    "\n",
    "\n",
    "let setDefaultEmail makeDefaultEmail info =\n",
    "    match info with\n",
    "        | Neither -> EmailOnly (makeDefaultEmail ()) // zet alleen een defaultemail\n",
    "        | PhoneOnly phone -> PhoneAndEmail (phone, (makeDefaultEmail ())) // voeg een defaultemail toe\n",
    "        | EmailOnly _ -> info // hoeft niets te veranderen\n",
    "        | PhoneAndEmail _ -> info // hoeft niets te veranderen\n",
    "\n",
    "\n",
    "// schrijf hier je uitwerking\n",
    "\n",
    "// vraag A\n",
    "let makeEmailFactory () =\n",
    "    let mutable counter = 0\n",
    "    fun emailGenerator ->\n",
    "        let result = sprintf \"me\" + (string counter) + \"@example.com\"\n",
    "        counter <- counter + 1\n",
    "        result\n",
    "\n",
    "let emailFactory = makeEmailFactory ()\n",
    "\n",
    "let result1 = emailFactory()\n",
    "let result2 = emailFactory()\n",
    "let result3 = emailFactory()\n",
    "\n",
    "printfn \"%A\" result1\n",
    "printfn \"%A\" result2\n",
    "printfn \"%A\" result3\n",
    "\n",
    "// vraag B\n",
    "let getEmail ContactInfo = \n",
    "    match ContactInfo with\n",
    "    | Neither -> EmailOnly \n",
    "    | PhoneOnly _ -> None\n",
    "    | EmailOnly email -> Some email\n",
    "    | PhoneAndEmail (_, email) -> Some email\n",
    "\n",
    "\n",
    "\n",
    "getEmail Neither\n",
    "getEmail (PhoneOnly \"123\")\n",
    "getEmail (EmailOnly \"dion!\")\n",
    "getEmail (PhoneAndEmail (\"123\", \"dion!\"))\n",
    "\n"
   ]
  },
  {
   "attachments": {},
   "cell_type": "markdown",
   "metadata": {},
   "source": [
    "### Vraag 6"
   ]
  },
  {
   "cell_type": "code",
   "execution_count": null,
   "metadata": {
    "dotnet_interactive": {
     "language": "fsharp"
    },
    "polyglot_notebook": {
     "kernelName": "fsharp"
    },
    "vscode": {
     "languageId": "polyglot-notebook"
    }
   },
   "outputs": [],
   "source": [
    "//Uitwerking voor Duplicate\n",
    "\n",
    "\n",
    "//Uitwerking voor Sum"
   ]
  }
 ],
 "metadata": {
  "kernelspec": {
   "display_name": "base",
   "language": "python",
   "name": "python3"
  },
  "language_info": {
   "name": "python",
   "version": "3.9.13"
  },
  "orig_nbformat": 4
 },
 "nbformat": 4,
 "nbformat_minor": 2
}
