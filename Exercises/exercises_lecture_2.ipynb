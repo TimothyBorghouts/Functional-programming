{
 "cells": [
  {
   "cell_type": "markdown",
   "metadata": {},
   "source": [
    "# Immutable data types, higher order functions, collections\n",
    "\n",
    "I hope you liked the first lecture where we really got started with FP! 🥰\n",
    "\n",
    "These exercises are meant to hit some key concepts of today's lecture, but it never hurts to practice some more. Also don't forget there is the case study exercise that runs throughout the course.\n",
    "\n",
    "Good luck!\n"
   ]
  },
  {
   "cell_type": "markdown",
   "metadata": {},
   "source": [
    "### Exercise 1\n",
    "\n",
    "Write a function *swap* with signature *int \\* string -> string \\* int* that takes a tuple *int \\* string* and swaps them around using tuple deconstruction."
   ]
  },
  {
   "cell_type": "code",
   "execution_count": 25,
   "metadata": {
    "dotnet_interactive": {
     "language": "fsharp"
    },
    "vscode": {
     "languageId": "polyglot-notebook"
    }
   },
   "outputs": [
    {
     "name": "stdout",
     "output_type": "stream",
     "text": [
      "6, hello\n",
      "hello, 6\n"
     ]
    }
   ],
   "source": [
    "let swapTupleAttributes (x: int, y: string) = (y, x)\n",
    "\n",
    "let tuple = (6, \"hello\");\n",
    "let x, y = tuple;\n",
    "\n",
    "printfn $\"{x}, {y}\";\n",
    "\n",
    "let swappedtuple = swapTupleAttributes tuple;\n",
    "\n",
    "let x2, y2 = swappedtuple;\n",
    "printfn $\"{x2}, {y2}\";"
   ]
  },
  {
   "cell_type": "markdown",
   "metadata": {},
   "source": [
    "### Exercise 2\n",
    "\n",
    "1. Define a list with the [*num* .. *num*] syntax that contains the numbers 1 through 6.\n",
    "2. Define a list with the [*num*; *num*] syntax that contains the numbers 1 through 6.\n",
    "3. Define a list with the *num* :: *num* syntax that contains the numbers 1 through 6.\n",
    "4. Are these lists mutable or immutable?\n",
    "5. Use a property of the list to find out whether it's empty (don't forget there are docs!)\n",
    "6. Use a property of the list to get the element at index 4.\n",
    "7. Check [this table](https://docs.microsoft.com/en-us/dotnet/fsharp/language-reference/fsharp-collection-types#table-of-functions) in the docs, how do you think lists are implemented in F#?\n"
   ]
  },
  {
   "cell_type": "code",
   "execution_count": 32,
   "metadata": {
    "dotnet_interactive": {
     "language": "fsharp"
    },
    "vscode": {
     "languageId": "polyglot-notebook"
    }
   },
   "outputs": [
    {
     "name": "stdout",
     "output_type": "stream",
     "text": [
      "[1; 2; 3; ... ]\n",
      "[1; 2; 3; ... ]\n",
      "[1; 2; 3; ... ]\n",
      "[1; 2; 3; ... ]\n",
      "[1; 2; 3; ... ]\n",
      "[1; 2; 3; ... ]\n"
     ]
    },
    {
     "data": {
      "text/html": [
       "<div class=\"dni-plaintext\"><pre>5</pre></div><style>\r\n",
       ".dni-code-hint {\r\n",
       "    font-style: italic;\r\n",
       "    overflow: hidden;\r\n",
       "    white-space: nowrap;\r\n",
       "}\r\n",
       ".dni-treeview {\r\n",
       "    white-space: nowrap;\r\n",
       "}\r\n",
       ".dni-treeview td {\r\n",
       "    vertical-align: top;\r\n",
       "    text-align: start;\r\n",
       "}\r\n",
       "details.dni-treeview {\r\n",
       "    padding-left: 1em;\r\n",
       "}\r\n",
       "table td {\r\n",
       "    text-align: start;\r\n",
       "}\r\n",
       "table tr { \r\n",
       "    vertical-align: top; \r\n",
       "    margin: 0em 0px;\r\n",
       "}\r\n",
       "table tr td pre \r\n",
       "{ \r\n",
       "    vertical-align: top !important; \r\n",
       "    margin: 0em 0px !important;\r\n",
       "} \r\n",
       "table th {\r\n",
       "    text-align: start;\r\n",
       "}\r\n",
       "</style>"
      ]
     },
     "metadata": {},
     "output_type": "display_data"
    }
   ],
   "source": [
    "let list = [1 .. 6]\n",
    "let list2 = [1; 2; 3; 4; 5; 6]\n",
    "let list3 = 1 :: 2 :: 3 :: 4 :: 5 :: 6 :: []\n",
    "\n",
    "printfn $\"{list}\"\n",
    "list = [3 .. 6]\n",
    "printfn $\"{list}\"\n",
    "\n",
    "printfn $\"{list2}\"\n",
    "list = [3; 4; 5]\n",
    "printfn $\"{list2}\"\n",
    "\n",
    "printfn $\"{list3}\"\n",
    "list = 1 :: 2 :: []\n",
    "printfn $\"{list3}\"\n",
    "\n",
    "//Alle lists zijn immutable\n",
    "\n",
    "list.IsEmpty\n",
    "list.Item(4)\n"
   ]
  },
  {
   "cell_type": "markdown",
   "metadata": {},
   "source": [
    "### Exercise 3\n",
    "\n",
    "Write a function *doubleHead* with signature *int list -> int list* that takes a list, and returns that same list, but with the first element multiplied by two. Use list deconstruction."
   ]
  },
  {
   "cell_type": "code",
   "execution_count": 35,
   "metadata": {
    "dotnet_interactive": {
     "language": "fsharp"
    },
    "vscode": {
     "languageId": "polyglot-notebook"
    }
   },
   "outputs": [
    {
     "name": "stdout",
     "output_type": "stream",
     "text": [
      "[2; 2; 3]\n"
     ]
    }
   ],
   "source": [
    "let doubleHead (list: int list) = list.Head * 2 :: list.Tail\n",
    "\n",
    "let list = [1; 2; 3]\n",
    "let list4 = doubleHead list\n",
    "printfn $\"{list4}\""
   ]
  },
  {
   "cell_type": "markdown",
   "metadata": {},
   "source": [
    "### Exercise 4\n",
    "\n",
    "1. Write a function *add* with signature *int -> int -> int* that returns a function which returns x + y.\n",
    "2. Use partial application to define the function *add2* that adds 2 to any integer."
   ]
  },
  {
   "cell_type": "code",
   "execution_count": 39,
   "metadata": {
    "dotnet_interactive": {
     "language": "fsharp"
    },
    "vscode": {
     "languageId": "polyglot-notebook"
    }
   },
   "outputs": [
    {
     "name": "stdout",
     "output_type": "stream",
     "text": [
      "5\n"
     ]
    }
   ],
   "source": [
    "let add (x: int) (y: int) = x + y\n",
    "\n",
    "let add2 = add 2\n",
    "\n",
    "let som = add2 3\n",
    "\n",
    "printfn $\"{som}\""
   ]
  },
  {
   "cell_type": "markdown",
   "metadata": {},
   "source": [
    "### Exercise 5\n",
    "\n",
    "1. Write a function *mul* with signature *int -> int -> int* that returns a function which returns x * y.\n",
    "2. Use partial application to define the function *mul5* that multiplies any integer by 5."
   ]
  },
  {
   "cell_type": "code",
   "execution_count": 40,
   "metadata": {
    "dotnet_interactive": {
     "language": "fsharp"
    },
    "vscode": {
     "languageId": "polyglot-notebook"
    }
   },
   "outputs": [
    {
     "name": "stdout",
     "output_type": "stream",
     "text": [
      "15\n"
     ]
    }
   ],
   "source": [
    "let mul (x: int) (y: int) = x * y\n",
    "let mul5 = mul 5\n",
    "\n",
    "let multiply = mul5 3\n",
    "\n",
    "printfn $\"{multiply}\""
   ]
  },
  {
   "cell_type": "markdown",
   "metadata": {},
   "source": [
    "### Exercise 6\n",
    "\n",
    "Use the functions *add2* and *mul5* you defined above (the notebook knows you defined them in the previous code block) to define a function that first adds 2 to its argument and then multiplies the result by 5. Use function composition!\n",
    "\n",
    "Ok... let's make a challenge out of this. 💪\n",
    "\n",
    "How many distinctive ways of defining this function can you think of? The answer sheet contains 4 different definitions."
   ]
  },
  {
   "cell_type": "code",
   "execution_count": 59,
   "metadata": {
    "dotnet_interactive": {
     "language": "fsharp"
    },
    "vscode": {
     "languageId": "polyglot-notebook"
    }
   },
   "outputs": [
    {
     "name": "stdout",
     "output_type": "stream",
     "text": [
      "25\n",
      "25\n",
      "25\n",
      "25\n",
      "25\n"
     ]
    }
   ],
   "source": [
    "\n",
    "//Higher end function\n",
    "let add2andMul5_function_1 (x: int) = mul5 (add2 x)\n",
    "\n",
    "//function composition\n",
    "let add2andMul5_function_2 = add2 >> mul5\n",
    "\n",
    "//function composition 2\n",
    "let add2andMul5_function_3 = mul5 << add2\n",
    "\n",
    "//Pipelining\n",
    "let add2andMul5_function_4 (x:int) = x |> add2 |> mul5\n",
    "\n",
    "//Lampda function\n",
    "let add2andMul5_function_5 = fun x -> mul5 (add2 x)\n",
    "\n",
    "let result = add2andMul5_function_1 3\n",
    "let result2 = add2andMul5_function_2 3\n",
    "let result3 = add2andMul5_function_3 3\n",
    "let result4 = add2andMul5_function_4 3\n",
    "let result5 = add2andMul5_function_5 3\n",
    "\n",
    "printfn $\"{result}\"\n",
    "printfn $\"{result2}\"\n",
    "printfn $\"{result3}\"\n",
    "printfn $\"{result4}\"\n",
    "printfn $\"{result5}\""
   ]
  },
  {
   "cell_type": "markdown",
   "metadata": {},
   "source": [
    "### Exercise 7\n",
    "\n",
    "Let's create our first function that takes another function as argument! 😎\n",
    "\n",
    "1. Write a function *applyFunc* with signature *x:int -> y:int -> f:(int -> int -> int) -> int* which applies the function f to x and y.\n",
    "2. Use partial function application to define a funtion that applies the arguments 3 and 5 to any function it gets as argument."
   ]
  },
  {
   "cell_type": "code",
   "execution_count": 63,
   "metadata": {
    "dotnet_interactive": {
     "language": "fsharp"
    },
    "vscode": {
     "languageId": "polyglot-notebook"
    }
   },
   "outputs": [
    {
     "name": "stdout",
     "output_type": "stream",
     "text": [
      "9\n",
      "8\n"
     ]
    }
   ],
   "source": [
    "let applyFunc (x: int) (y: int) (f: int -> int -> int) : int = f x y\n",
    "let func (f: int -> int -> int) = applyFunc 3 5 f\n",
    "\n",
    "let result = applyFunc 4 5 add\n",
    "let result2 = func add\n",
    "\n",
    "printfn $\"{result}\"\n",
    "printfn $\"{result2}\""
   ]
  },
  {
   "cell_type": "markdown",
   "metadata": {},
   "source": [
    "### Exercise 8\n",
    "\n",
    "Write a generic function *sizeDescription* with signature *'T list -> string*, where *'T* is the generic type, that \n",
    "- returns \"short\" if the list contains less than 10 elements\n",
    "- else returns \"long\" if the list contains less than 100 elements\n",
    "- else returns \"very long\"\n"
   ]
  },
  {
   "cell_type": "code",
   "execution_count": 66,
   "metadata": {
    "dotnet_interactive": {
     "language": "fsharp"
    },
    "vscode": {
     "languageId": "polyglot-notebook"
    }
   },
   "outputs": [
    {
     "name": "stdout",
     "output_type": "stream",
     "text": [
      "short\n",
      "long\n",
      "very long\n"
     ]
    }
   ],
   "source": [
    "let sizeDescription (list: 't list) = if list.Length < 10 then \"short\" else if list.Length < 100 then \"long\" else \"very long\"\n",
    "\n",
    "let list2 = [1 .. 7]\n",
    "let list3 = [1 .. 30]\n",
    "let list4 = [1 .. 120]\n",
    "\n",
    "printfn $\"{sizeDescription list2}\"\n",
    "printfn $\"{sizeDescription list3}\"\n",
    "printfn $\"{sizeDescription list4}\"\n"
   ]
  },
  {
   "cell_type": "markdown",
   "metadata": {},
   "source": [
    "### Exercise 9\n",
    "\n",
    "We can represent a tree in a *Map*. The map has keys of type *string* and values of type *string*. When a key-value pair (\"node\", \"parent\") exists in the map it means the parent of \"node\" is \"parent\". The root node is its own parent (we'll need this later).\n",
    "\n",
    "1. Get the following tree in a map:\n",
    "```\n",
    "    root\n",
    "    /  \\\n",
    "   1    2\n",
    "  / \\  / \\\n",
    "11 12 21 22\n",
    "```\n",
    "2. Define a function *parent* that takes the tree (of type *Map\\<string, string\\>*) and a node (of type *string*) and returns the parent node.\n",
    "3. Define a function *insert* that places a new node in the tree. This function takes three arguments: the current tree, the parent, and the new node. It returns the new tree. However! The node should only be added if the parent currently exists in the tree, if the parent does not exist the function *insert* returns the original tree.\n",
    "4. Test your methods on the given tree (test both success and failure!)."
   ]
  },
  {
   "cell_type": "code",
   "execution_count": 89,
   "metadata": {
    "dotnet_interactive": {
     "language": "fsharp"
    },
    "vscode": {
     "languageId": "polyglot-notebook"
    }
   },
   "outputs": [
    {
     "data": {
      "text/html": [
       "<table><thead><tr><th><i>key</i></th><th>value</th></tr></thead><tbody><tr><td><div class=\"dni-plaintext\"><pre>1</pre></div></td><td><div class=\"dni-plaintext\"><pre>root</pre></div></td></tr><tr><td><div class=\"dni-plaintext\"><pre>11</pre></div></td><td><div class=\"dni-plaintext\"><pre>1</pre></div></td></tr><tr><td><div class=\"dni-plaintext\"><pre>12</pre></div></td><td><div class=\"dni-plaintext\"><pre>1</pre></div></td></tr><tr><td><div class=\"dni-plaintext\"><pre>2</pre></div></td><td><div class=\"dni-plaintext\"><pre>root</pre></div></td></tr><tr><td><div class=\"dni-plaintext\"><pre>21</pre></div></td><td><div class=\"dni-plaintext\"><pre>2</pre></div></td></tr><tr><td><div class=\"dni-plaintext\"><pre>22</pre></div></td><td><div class=\"dni-plaintext\"><pre>2</pre></div></td></tr><tr><td><div class=\"dni-plaintext\"><pre>33</pre></div></td><td><div class=\"dni-plaintext\"><pre>21</pre></div></td></tr><tr><td><div class=\"dni-plaintext\"><pre>root</pre></div></td><td><div class=\"dni-plaintext\"><pre>root</pre></div></td></tr></tbody></table><style>\r\n",
       ".dni-code-hint {\r\n",
       "    font-style: italic;\r\n",
       "    overflow: hidden;\r\n",
       "    white-space: nowrap;\r\n",
       "}\r\n",
       ".dni-treeview {\r\n",
       "    white-space: nowrap;\r\n",
       "}\r\n",
       ".dni-treeview td {\r\n",
       "    vertical-align: top;\r\n",
       "    text-align: start;\r\n",
       "}\r\n",
       "details.dni-treeview {\r\n",
       "    padding-left: 1em;\r\n",
       "}\r\n",
       "table td {\r\n",
       "    text-align: start;\r\n",
       "}\r\n",
       "table tr { \r\n",
       "    vertical-align: top; \r\n",
       "    margin: 0em 0px;\r\n",
       "}\r\n",
       "table tr td pre \r\n",
       "{ \r\n",
       "    vertical-align: top !important; \r\n",
       "    margin: 0em 0px !important;\r\n",
       "} \r\n",
       "table th {\r\n",
       "    text-align: start;\r\n",
       "}\r\n",
       "</style>"
      ]
     },
     "metadata": {},
     "output_type": "display_data"
    }
   ],
   "source": [
    "let parent (map: Map<string, string>) node: string = map.Item(node)\n",
    "let insert (map: Map<string, string>) (parent: string) (node: string) = \n",
    "    if map.ContainsKey(parent) then map.Add(node, parent) else map\n",
    "\n",
    "let map: Map<string, string> = Map.empty.Add(\"root\", \"root\").Add(\"1\", \"root\").Add(\"2\", \"root\").Add(\"11\", \"1\").Add(\"12\", \"1\").Add(\"21\", \"2\").Add(\"22\", \"2\")\n",
    "\n",
    "let result = parent map \"11\"\n",
    "\n",
    "insert map \"111\" \"1\"\n",
    "insert map \"21\" \"33\"\n"
   ]
  },
  {
   "cell_type": "markdown",
   "metadata": {},
   "source": [
    "### Exercise 10\n",
    "\n",
    "In a previous exercise you defined a function that takes another function as argument. Now let's define a function that returns a function. \n",
    "\n",
    "I want to play a guessing game and you need to write the code for it! You think of a number and I will shout numbers at you until I guess your number.\n",
    "\n",
    "Define a function *lucky* that takes an integer, the answer of the game, and returns a function. The function it returns takes an integer, my guess, and checks whether it's the correct number. If it is it returns the string \"Lucky number!\" if it's not the correct number it returns \"Sorry, try again...\".\n",
    "\n",
    "Try playing the game!"
   ]
  },
  {
   "cell_type": "code",
   "execution_count": 98,
   "metadata": {
    "dotnet_interactive": {
     "language": "fsharp"
    },
    "vscode": {
     "languageId": "polyglot-notebook"
    }
   },
   "outputs": [
    {
     "name": "stdout",
     "output_type": "stream",
     "text": [
      "Sorry, try again...\n",
      "Lucky number!\n"
     ]
    }
   ],
   "source": [
    "let lucky (guess: int) (answer: int) : (int -> string) =\n",
    "     let f guess = if guess = answer then \"Lucky number!\" else \"Sorry, try again...\"\n",
    "     f\n",
    "\n",
    "let correctedLucky answer =\n",
    "     fun guess -> \n",
    "     if guess = answer then \"Lucky number!\" else \"Sorry, try again...\"\n",
    "\n",
    "let fail = correctedLucky 3 4\n",
    "let win = correctedLucky 4 4\n",
    "\n",
    "\n",
    "\n",
    "printfn $\"{fail}\"\n",
    "printfn $\"{win}\""
   ]
  },
  {
   "cell_type": "markdown",
   "metadata": {},
   "source": [
    "### Exercise 11\n",
    "\n",
    "Write a function that computes the total amount on the bill at a bar. The function takes a list and a discount strategy. The list contains tuples with the number of drinks, and the price per drink. For example: two beers and three coke result in the following list: [(2, 3.0); (3, 2.5)]. The total price without discount would be 2\\*3.0 + 3\\*2.5 = 13.5. The third parameter to the function is a discount strategy, which is of type int -> float -> float. This function returns the price including discount for one kind of drink. For example given the 2 beers of 3.0 each it returns 6.0 for the full price. Implement the following discount strategies:\n",
    "- Full price\n",
    "- 10% discount\n",
    "- Happy hour: every second drink of the same kind is for free\n",
    "\n",
    "(You can use one mutable variable here to compute the sum, or if you want to practice with lecture 3 already, try doing it with only immutable variables and recursion)\n"
   ]
  },
  {
   "cell_type": "code",
   "execution_count": 2,
   "metadata": {
    "dotnet_interactive": {
     "language": "fsharp"
    },
    "vscode": {
     "languageId": "polyglot-notebook"
    }
   },
   "outputs": [
    {
     "ename": "Error",
     "evalue": "input.fsx (9,60)-(9,66) typecheck error The type 'int' does not match the type 'float'\ninput.fsx (9,58)-(9,59) typecheck error The type 'int' does not match the type 'float'\ninput.fsx (11,63)-(11,69) typecheck error The type 'int' does not match the type 'float'\ninput.fsx (16,37)-(16,46) typecheck error The value or constructor 'fullPrice' is not defined.",
     "output_type": "error",
     "traceback": [
      "input.fsx (9,60)-(9,66) typecheck error The type 'int' does not match the type 'float'\n",
      "input.fsx (9,58)-(9,59) typecheck error The type 'int' does not match the type 'float'\n",
      "input.fsx (11,63)-(11,69) typecheck error The type 'int' does not match the type 'float'\n",
      "input.fsx (16,37)-(16,46) typecheck error The value or constructor 'fullPrice' is not defined."
     ]
    }
   ],
   "source": [
    "let bill = [(2, 3.0); (3, 2.5); (6, 4)]\n",
    "\n",
    "let calculateBill (drinksList: (int * float) list) (discountStrategy: int -> float -> float) = \n",
    "    let mutable total = 0.0\n",
    "    for (drinks, price) in drinksList do\n",
    "        total <- total + discountStrategy drinks price\n",
    "    total\n",
    "\n",
    "let fullPrice (drinks: int) (price: float) = float price * drinks\n",
    "\n",
    "let tenDiscount (drinks: int) (price: float) = float (price * drinks) * 0.9\n",
    "\n",
    "let happyHourDiscout (drinks: int) (price: float) = float (drinks/2) * price\n",
    "\n",
    "\n",
    "let totalPrice = calculateBill bill fullPrice\n"
   ]
  },
  {
   "cell_type": "markdown",
   "metadata": {},
   "source": [
    "### Exercise 12\n",
    "\n",
    "Okay, let's do some function composition gymnastics!\n",
    "\n",
    "Write the following functions using function composition on the three functions `inc`, `dec`, and `double`.\n",
    "\n",
    "1. A function that increments twice\n",
    "2. A function that first doubles, then increments\n",
    "3. A function that first increments, then doubles\n",
    "4. The same function as 3., but now using `<<`, instead of `>>`\n",
    "5. A function that increments, doubles, then decrements"
   ]
  },
  {
   "cell_type": "code",
   "execution_count": 101,
   "metadata": {
    "dotnet_interactive": {
     "language": "fsharp"
    },
    "vscode": {
     "languageId": "polyglot-notebook"
    }
   },
   "outputs": [
    {
     "name": "stdout",
     "output_type": "stream",
     "text": [
      "5\n",
      "7\n",
      "8\n",
      "8\n",
      "7\n"
     ]
    }
   ],
   "source": [
    "let inc x = x + 1\n",
    "let dec x = x - 1\n",
    "let double x = 2 * x\n",
    "\n",
    "let incTwice = inc >> inc\n",
    "\n",
    "let doubleThenIncrement = double >> inc\n",
    "\n",
    "let incThenDouble = inc >> double \n",
    "\n",
    "let incThenDouble2 = double << inc\n",
    "\n",
    "let incThenDoubThenDecr = inc >> double >> dec\n",
    "\n",
    "printfn $\"{incTwice 3}\"\n",
    "printfn $\"{doubleThenIncrement 3}\"\n",
    "printfn $\"{incThenDouble 3}\"\n",
    "printfn $\"{incThenDouble2 3}\"\n",
    "printfn $\"{incThenDoubThenDecr 3}\"\n"
   ]
  },
  {
   "cell_type": "markdown",
   "metadata": {},
   "source": [
    "Cool! You did it! 🤩\n",
    "\n",
    "You can get started on the case study exercise now!"
   ]
  }
 ],
 "metadata": {
  "kernelspec": {
   "display_name": ".NET (F#)",
   "language": "F#",
   "name": ".net-fsharp"
  },
  "language_info": {
   "name": "F#"
  }
 },
 "nbformat": 4,
 "nbformat_minor": 2
}
