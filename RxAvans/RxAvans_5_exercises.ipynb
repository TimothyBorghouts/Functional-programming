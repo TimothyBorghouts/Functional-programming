{
 "cells": [
  {
   "cell_type": "markdown",
   "metadata": {},
   "source": [
    "# RxAvans lecture 5\n",
    "\n",
    "Last time you wrote the `log`, `tap`, `filter`, and `map` functions. These are pure, as they don't need to keep any state while processing each piece of data that goes through the pipeline. \n",
    "\n",
    "This time we'll write two functions that do require to keep some state: `take` and `skip`. But with lecture 5 you know you can keep state in functions by closures! \n",
    "\n",
    "Let's get to work!"
   ]
  },
  {
   "cell_type": "markdown",
   "metadata": {},
   "source": [
    "First we look at how we can keep state between items of data the the producer produces. Below is an example of a sum link. It keeps a sum of all the values it has seen. The example is a bit silly, because we can't do anything with the sum. However, it does show that with a mutable variable that is enclosed by the function we return we can keep state between calls of the anonymous function."
   ]
  },
  {
   "cell_type": "code",
   "execution_count": null,
   "metadata": {
    "dotnet_interactive": {
     "language": "fsharp"
    }
   },
   "outputs": [
    {
     "name": "stdout",
     "output_type": "stream",
     "text": [
      "sum: 1\r\n",
      "received: 1\r\n",
      "sum: 3\r\n",
      "received: 2\r\n",
      "sum: 6\r\n",
      "received: 3\r\n",
      "sum: 10\r\n",
      "received: 4\r\n",
      "sum: 15\r\n",
      "received: 5\r\n"
     ]
    }
   ],
   "source": [
    "let sum previous =\n",
    "    let mutable total = 0\n",
    "    fun next -> \n",
    "        previous (fun data -> // this lambda encloses total\n",
    "            total <- total + data // each item that is passed through the pipeline gets added to the total\n",
    "            printfn \"total: %i\" total\n",
    "            next data // we pass on the data to the next in the pipeline\n",
    "        )\n",
    "\n",
    "let producer observer = for i in 1..5 do observer i\n",
    "let summed = sum producer\n",
    "\n",
    "summed (printfn \"received: %i\")"
   ]
  },
  {
   "cell_type": "markdown",
   "metadata": {},
   "source": [
    "We ready to get to work on `take`. The idea of this function is that it *takes* `n` items from the producer and ignores the rest. So in essence it is only listening to the first `n` items that go through the pipeline. For reference, RxJS also has a [take operator](https://rxjs.dev/api/operators/take). \n",
    "\n",
    "The overal structure of `take` is the same as `sum` in the example above, but we to need do something different with the mutable variable. Can you make it work?"
   ]
  },
  {
   "cell_type": "code",
   "execution_count": null,
   "metadata": {
    "dotnet_interactive": {
     "language": "fsharp"
    }
   },
   "outputs": [
    {
     "name": "stdout",
     "output_type": "stream",
     "text": [
      "received: 1\r\n",
      "received: 2\r\n",
      "received: 3\r\n"
     ]
    }
   ],
   "source": [
    "// write take here\n",
    "\n",
    "// test your code with this snippet\n",
    "let producer observer = for i in 1..10 do observer i\n",
    "let taken = take 3 producer\n",
    "\n",
    "taken (printfn \"received: %i\") // should print \"received: 1\", \"received: 2\", and \"received: 3\""
   ]
  },
  {
   "cell_type": "markdown",
   "metadata": {},
   "source": [
    "Nice! Now let's write the `skip` function. `skip` will ignore the first `n` items before it starts passing on values through the pipeline. So the first `n` items are *skipped*.\n",
    "\n",
    "Try to implement it!"
   ]
  },
  {
   "cell_type": "code",
   "execution_count": null,
   "metadata": {
    "dotnet_interactive": {
     "language": "fsharp"
    }
   },
   "outputs": [
    {
     "name": "stdout",
     "output_type": "stream",
     "text": [
      "received: 7\r\n",
      "received: 8\r\n",
      "received: 9\r\n",
      "received: 10\r\n"
     ]
    }
   ],
   "source": [
    "// write skip here\n",
    "\n",
    "// test your code with this snippet\n",
    "let producer observer = for i in 1..10 do observer i\n",
    "let skipped = skip 6 producer\n",
    "\n",
    "skipped (printfn \"received: %i\") // should print \"received: 7\", \"received: 8\", \"received: 9\", \"received: 10\""
   ]
  },
  {
   "cell_type": "markdown",
   "metadata": {},
   "source": [
    "Here is an example with both `take` and `skip`. Run it to see if your output is correct and check that you understand what is happening!"
   ]
  },
  {
   "cell_type": "code",
   "execution_count": null,
   "metadata": {
    "dotnet_interactive": {
     "language": "fsharp"
    }
   },
   "outputs": [
    {
     "name": "stdout",
     "output_type": "stream",
     "text": [
      "received: 6\r\n",
      "received: 7\r\n",
      "received: 8\r\n"
     ]
    }
   ],
   "source": [
    "let producer observer = for i in 1..10 do observer i\n",
    "let skipped = skip 5 producer\n",
    "let taken = take 3 skipped\n",
    "\n",
    "taken (printfn \"received: %i\") // should print \"received: 6\", \"received: 7\", \"received: 8\""
   ]
  },
  {
   "cell_type": "markdown",
   "metadata": {},
   "source": [
    "This was the last RxAvans exercise sheet. Lecture 6 gives you a deeper understanding of functional programming concepts and a nice way to design your types, but for RxAvans you are ready for the exam! 🤞"
   ]
  }
 ],
 "metadata": {
  "kernelspec": {
   "display_name": ".NET (F#)",
   "language": "F#",
   "name": ".net-fsharp"
  },
  "language_info": {
   "name": "F#"
  }
 },
 "nbformat": 4,
 "nbformat_minor": 2
}
