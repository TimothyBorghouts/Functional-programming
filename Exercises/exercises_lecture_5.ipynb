{
 "cells": [
  {
   "cell_type": "markdown",
   "metadata": {},
   "source": [
    "# Closures\n",
    "\n",
    "Open up your mind to closures! 🤭"
   ]
  },
  {
   "cell_type": "markdown",
   "metadata": {},
   "source": [
    "### Exercise 1\n",
    "\n",
    "For each of these functions determine if there is a closure. If there is a closure, which function is the closure and what variable does it enclose?"
   ]
  },
  {
   "cell_type": "code",
   "execution_count": null,
   "metadata": {
    "dotnet_interactive": {
     "language": "fsharp"
    },
    "vscode": {
     "languageId": "polyglot-notebook"
    }
   },
   "outputs": [],
   "source": [
    "// 1. Er is closure, de functie die de closure is is y en de variable die enclosed wordt is x\n",
    "let add x =\n",
    "    fun y -> x + y\n",
    "\n",
    "// 2. Er is closure, de functie = lambda en de variable zijn x en y\n",
    "let applyFunc x y =\n",
    "    fun func -> func x y\n",
    "\n",
    "// 3. Er is closure want secret word eclosed in de play functie\n",
    "let lucky secret =\n",
    "    let play guess =\n",
    "        if secret = guess then \"you won!\"\n",
    "        else \"try again...\"\n",
    "\n",
    "    play\n",
    "\n",
    "// 4. Er is geen closure\n",
    "let names = [\"Alfred\"; \"Boris\"; \"Mo\"]\n",
    "\n",
    "let greeting = List.fold (fun a b -> a + b + \", \") \"Dear \" names\n",
    "\n",
    "// 5. Er is hier geen closure\n",
    "let rec sumTail result ls =\n",
    "    match (ls, result) with\n",
    "        | ([], result) -> result\n",
    "        | (head :: tail, None) -> sumTail (Some head) tail\n",
    "        | (head :: tail, Some total) -> sumTail (Some (head+total)) tail\n",
    "\n",
    "let sum = sumTail None"
   ]
  },
  {
   "cell_type": "markdown",
   "metadata": {},
   "source": [
    "### Exercise 2\n",
    "\n",
    "Write a function `makeLogger` that returns a closure. The closure prints the message on the screen with the sequence number in front of it.\n",
    "You can use a mutable variable."
   ]
  },
  {
   "cell_type": "code",
   "execution_count": 4,
   "metadata": {
    "dotnet_interactive": {
     "language": "fsharp"
    },
    "vscode": {
     "languageId": "polyglot-notebook"
    }
   },
   "outputs": [
    {
     "name": "stdout",
     "output_type": "stream",
     "text": [
      "1: First message\n",
      "2: Second message\n",
      "3: Third message\n"
     ]
    }
   ],
   "source": [
    "let makeLogger () =\n",
    "    let mutable count = 0\n",
    "    fun message -> \n",
    "        count <- count + 1\n",
    "        printfn \"%i: %s\" count message\n",
    "\n",
    "// make this work:\n",
    "let log = makeLogger ()\n",
    "\n",
    "log(\"First message\")  // 1: First message\n",
    "log(\"Second message\") // 2: Second message\n",
    "log(\"Third message\")  // 3: Third message"
   ]
  },
  {
   "cell_type": "markdown",
   "metadata": {},
   "source": [
    "### Exercise 3\n",
    "\n",
    "We'll expand the counter example from the lecture. We want to not only increment the counter, but also decrement. Write a function `makeCounter` that returns two closures, one for incrementing and one for decrementing. You can use a mutable variable."
   ]
  },
  {
   "cell_type": "code",
   "execution_count": 6,
   "metadata": {
    "dotnet_interactive": {
     "language": "fsharp"
    },
    "vscode": {
     "languageId": "polyglot-notebook"
    }
   },
   "outputs": [
    {
     "name": "stdout",
     "output_type": "stream",
     "text": [
      "1\n",
      "2\n",
      "1\n",
      "2\n",
      "1\n",
      "0\n"
     ]
    }
   ],
   "source": [
    "// make this work:\n",
    "let MakeCounter () =\n",
    "    let mutable count = 0\n",
    "    let inc () = \n",
    "        count <- count + 1\n",
    "        count\n",
    "    let dec () = \n",
    "        count <- count - 1\n",
    "        count\n",
    "    (inc, dec)\n",
    "\n",
    "let inc, dec = MakeCounter ()\n",
    "\n",
    "printfn \"%i\" (inc ()) // 1\n",
    "printfn \"%i\" (inc ()) // 2\n",
    "printfn \"%i\" (dec ()) // 1\n",
    "printfn \"%i\" (inc ()) // 2\n",
    "printfn \"%i\" (dec ()) // 1\n",
    "printfn \"%i\" (dec ()) // 0"
   ]
  },
  {
   "cell_type": "markdown",
   "metadata": {},
   "source": [
    "### Exercise 4\n",
    "\n",
    "Write a function `makeMemory` that remembers the previous argument. You can use a mutable variable."
   ]
  },
  {
   "cell_type": "code",
   "execution_count": 8,
   "metadata": {
    "dotnet_interactive": {
     "language": "fsharp"
    },
    "vscode": {
     "languageId": "polyglot-notebook"
    }
   },
   "outputs": [
    {
     "name": "stdout",
     "output_type": "stream",
     "text": [
      "\n",
      "Hello\n",
      "World\n"
     ]
    }
   ],
   "source": [
    "\n",
    "let makeMemory () =\n",
    "    let mutable memory = \"\"\n",
    "    fun next -> \n",
    "        let result = memory\n",
    "        memory <- next\n",
    "        result\n",
    "\n",
    "\n",
    "// make this work:\n",
    "let remember = makeMemory ()\n",
    "\n",
    "printfn \"%s\" (remember \"Hello\") // returns \"\"\n",
    "printfn \"%s\" (remember \"World\") // returns \"Hello\"\n",
    "printfn \"%s\" (remember \"\")      // returns \"World\""
   ]
  },
  {
   "cell_type": "markdown",
   "metadata": {},
   "source": [
    "### Exercise 5\n",
    "\n",
    "Write a function `range` that returns the next step in the range each time it's called. You can use a mutable variable."
   ]
  },
  {
   "cell_type": "code",
   "execution_count": 9,
   "metadata": {
    "dotnet_interactive": {
     "language": "fsharp"
    },
    "vscode": {
     "languageId": "polyglot-notebook"
    }
   },
   "outputs": [
    {
     "name": "stderr",
     "output_type": "stream",
     "text": [
      "Stopped due to error\n"
     ]
    },
    {
     "ename": "Error",
     "evalue": "input.fsx (2,1)-(2,4) parse error Unexpected syntax or possible incorrect indentation: this token is offside of context started at position (1:1). Try indenting this further.\nTo continue using non-conforming indentation, pass the '--strict-indentation-' flag to the compiler, or set the language version to F# 7.\ninput.fsx (2,1)-(2,4) parse error Incomplete structured construct at or before this point in binding",
     "output_type": "error",
     "traceback": [
      "input.fsx (2,1)-(2,4) parse error Unexpected syntax or possible incorrect indentation: this token is offside of context started at position (1:1). Try indenting this further.\n",
      "To continue using non-conforming indentation, pass the '--strict-indentation-' flag to the compiler, or set the language version to F# 7.\n",
      "input.fsx (2,1)-(2,4) parse error Incomplete structured construct at or before this point in binding"
     ]
    }
   ],
   "source": [
    "let range () =\n",
    "let mutable current = 0\n",
    "let range start stop step =\n",
    "    fun () ->\n",
    "        if current < stop then\n",
    "            let result = current\n",
    "            current <- current + step\n",
    "            Some result\n",
    "        else\n",
    "            None\n",
    "\n",
    "\n",
    "\n",
    "// make this work:\n",
    "let myRange = range 10 20 3\n",
    "\n",
    "printfn \"%O\" (myRange ()) // Some 10\n",
    "printfn \"%O\" (myRange ()) // Some 13\n",
    "printfn \"%O\" (myRange ()) // Some 16\n",
    "printfn \"%O\" (myRange ()) // Some 19\n",
    "printfn \"%O\" (myRange ()) // None\n",
    "printfn \"%O\" (myRange ()) // None\n"
   ]
  }
 ],
 "metadata": {
  "kernelspec": {
   "display_name": ".NET (F#)",
   "language": "F#",
   "name": ".net-fsharp"
  },
  "language_info": {
   "name": "F#"
  }
 },
 "nbformat": 4,
 "nbformat_minor": 2
}
