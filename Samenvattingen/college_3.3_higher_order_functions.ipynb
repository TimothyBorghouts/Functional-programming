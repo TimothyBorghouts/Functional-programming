{
 "cells": [
  {
   "cell_type": "markdown",
   "metadata": {},
   "source": [
    "# Higher-Order Functions In Collections"
   ]
  },
  {
   "cell_type": "markdown",
   "metadata": {},
   "source": [
    "Iter - iterates over een lijst. Wordt alleen maar gebruikt voor zijn nevenfuncties en gebruik je normaal niet\n",
    "\n",
    "Foreach -\n",
    "\n",
    "Filter - filter de waarde die je wilt behouden. Geeft alle waarden die overeenkomen\n",
    "\n",
    "Map - Functie wordt toegepast op elk element van een collectie. Je kunt integers omzetten naar hun string variant.\n",
    "\n",
    "Collect - Je geeft een waarde en daarna geef je een array van datzelfde type terug. Bijvoorbeeld voor het splitten van een string\n",
    "\n",
    "Reduce - Neemt een collectie van elementen en voert daar een operatie op uit waardoor de elementen gecombineerd kunnen worden. Bijvoorbeeld een sum met integers.\n",
    "\n",
    "Exist - Check of er minimaal een element in zit\n",
    "\n",
    "Pairwise - geeft een lijst terug die alle aanliggende paren teruggeeft."
   ]
  }
 ],
 "metadata": {
  "language_info": {
   "name": "csharp"
  }
 },
 "nbformat": 4,
 "nbformat_minor": 2
}
