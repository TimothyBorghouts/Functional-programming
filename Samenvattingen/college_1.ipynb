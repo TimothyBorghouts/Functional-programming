{
 "cells": [
  {
   "cell_type": "markdown",
   "metadata": {},
   "source": [
    "# Programming paradigms - College 1\n",
    "F# is bedoeld voor zowel functioneel als object georienteerd programmeren\n",
    "\n",
    "### Imperative programming\n",
    "- Structured programming\n",
    "(C, Pascal)\n",
    "- Object Oriented programming\n",
    "(Java, C#, C++, Javascript, Scala, F#)\n",
    "\n",
    "### Declarative programming\n",
    "- Functional programming\n",
    "(Haskell, JS, Scala, R, F#)\n",
    "- Logic Programming\n",
    "(Prolog)\n",
    "\n",
    "\n",
    "\n",
    "\n",
    "\n",
    "\n",
    "\n",
    "\n",
    "\n",
    "\n",
    "\n",
    "\n",
    "\n"
   ]
  }
 ],
 "metadata": {
  "kernelspec": {
   "display_name": "base",
   "language": "python",
   "name": "python3"
  },
  "language_info": {
   "codemirror_mode": {
    "name": "ipython",
    "version": 3
   },
   "file_extension": ".py",
   "mimetype": "text/x-python",
   "name": "python",
   "nbconvert_exporter": "python",
   "pygments_lexer": "ipython3",
   "version": "3.9.13"
  }
 },
 "nbformat": 4,
 "nbformat_minor": 2
}
