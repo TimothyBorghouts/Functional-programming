{
 "cells": [
  {
   "cell_type": "markdown",
   "metadata": {},
   "source": [
    "# Closures - College 5.1\n",
    "\n",
    "#### Lexical or Static Scope\n",
    "Bij lexicaal of statisch bereik wordt de scope van een variabele bepaald door de plaats waar deze is gedeclareerd in de broncode. De scope wordt vastgelegd op het moment van schrijven en verandert niet tijdens de uitvoering van het programma. Als een variabele binnen een bepaalde functie is gedeclareerd, kan deze alleen worden gebruikt binnen die functie en eventuele geneste functies. Dit is de meest voorkomende scope-regeling in moderne programmeertalen, waaronder F#.\n",
    "\n",
    "#### Dynamic Scope\n",
    "Bij dynamische scope wordt de scope van een variabele bepaald door de oproepstack op het moment van uitvoering. Dit betekent dat de scope van een variabele wordt bepaald door de reeks functieaanroepen die leidde tot de huidige uitvoering van de code. Variabelen kunnen overal in het programma worden gebruikt, zolang de juiste aanroepstack is ingesteld op het moment van gebruik. Dynamische scope is minder gebruikelijk en wordt over het algemeen als complexer beschouwd dan lexicale scope."
   ]
  },
  {
   "cell_type": "markdown",
   "metadata": {},
   "source": [
    "### Not Closure"
   ]
  },
  {
   "cell_type": "code",
   "execution_count": 8,
   "metadata": {
    "dotnet_interactive": {
     "language": "fsharp"
    },
    "polyglot_notebook": {
     "kernelName": "fsharp"
    },
    "vscode": {
     "languageId": "polyglot-notebook"
    }
   },
   "outputs": [
    {
     "name": "stdout",
     "output_type": "stream",
     "text": [
      "hello Timothy\n"
     ]
    }
   ],
   "source": [
    "let person = \"Timothy\"\n",
    "\n",
    "let greet name = \n",
    "    let greeting = \"hello \"\n",
    "    greeting + name\n",
    "\n",
    "printfn \"%s\" (greet person)"
   ]
  },
  {
   "cell_type": "markdown",
   "metadata": {},
   "source": [
    "### Closure"
   ]
  },
  {
   "cell_type": "code",
   "execution_count": 10,
   "metadata": {
    "dotnet_interactive": {
     "language": "fsharp"
    },
    "polyglot_notebook": {
     "kernelName": "fsharp"
    },
    "vscode": {
     "languageId": "polyglot-notebook"
    }
   },
   "outputs": [
    {
     "name": "stdout",
     "output_type": "stream",
     "text": [
      "hello Timothy\n"
     ]
    }
   ],
   "source": [
    "let greetMaker greeting =\n",
    "    fun name -> greeting + \" \" + name\n",
    "\n",
    "let greet = greetMaker \"hello\"\n",
    "\n",
    "printfn \"%s\" (greet \"Timothy\")\n"
   ]
  }
 ],
 "metadata": {
  "language_info": {
   "name": "python"
  }
 },
 "nbformat": 4,
 "nbformat_minor": 2
}
